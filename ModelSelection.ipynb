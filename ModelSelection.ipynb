{
 "cells": [
  {
   "cell_type": "code",
   "execution_count": 20,
   "metadata": {},
   "outputs": [],
   "source": [
    "import pandas as pd\n",
    "import numpy as np\n",
    "from sklearn.model_selection import train_test_split\n",
    "from sklearn.metrics import r2_score\n",
    "from sklearn.model_selection import cross_val_score, KFold\n",
    "from sklearn.preprocessing import StandardScaler\n",
    "from sklearn.ensemble import ExtraTreesRegressor\n",
    "from catboost import CatBoostRegressor"
   ]
  },
  {
   "cell_type": "code",
   "execution_count": 21,
   "metadata": {},
   "outputs": [],
   "source": [
    "df_enc = pd.read_csv(\"data/enc/data-enc-2024-04-01.csv\")"
   ]
  },
  {
   "cell_type": "code",
   "execution_count": 22,
   "metadata": {},
   "outputs": [
    {
     "name": "stdout",
     "output_type": "stream",
     "text": [
      "<class 'pandas.core.frame.DataFrame'>\n",
      "RangeIndex: 77455 entries, 0 to 77454\n",
      "Data columns (total 85 columns):\n",
      " #   Column                            Non-Null Count  Dtype  \n",
      "---  ------                            --------------  -----  \n",
      " 0   bathrooms_total                   77455 non-null  float64\n",
      " 1   bedrooms_extra                    77455 non-null  float64\n",
      " 2   bedrooms                          77455 non-null  float64\n",
      " 3   stories_total                     77455 non-null  float64\n",
      " 4   size_interior                     77455 non-null  float64\n",
      " 5   lng                               77455 non-null  float64\n",
      " 6   lat                               77455 non-null  float64\n",
      " 7   parkings                          77455 non-null  float64\n",
      " 8   price                             77455 non-null  float64\n",
      " 9   household_income                  77455 non-null  float64\n",
      " 10  individual_income                 77455 non-null  float64\n",
      " 11  commute_transit                   77455 non-null  float64\n",
      " 12  commute_foot                      77455 non-null  float64\n",
      " 13  commute_bicycle                   77455 non-null  float64\n",
      " 14  commute_drive                     77455 non-null  float64\n",
      " 15  single_family                     77455 non-null  float64\n",
      " 16  multi_family                      77455 non-null  float64\n",
      " 17  single_person                     77455 non-null  float64\n",
      " 18  multi_person                      77455 non-null  float64\n",
      " 19  total_individuals                 77455 non-null  float64\n",
      " 20  age_0_to_4                        77455 non-null  float64\n",
      " 21  age_5_to_9                        77455 non-null  float64\n",
      " 22  age_10_to_14                      77455 non-null  float64\n",
      " 23  age_15_to_19                      77455 non-null  float64\n",
      " 24  age_20_to_34                      77455 non-null  float64\n",
      " 25  age_35_to_49                      77455 non-null  float64\n",
      " 26  age_50_to_64                      77455 non-null  float64\n",
      " 27  age_65_to_79                      77455 non-null  float64\n",
      " 28  age_80_plus                       77455 non-null  float64\n",
      " 29  owners                            77455 non-null  float64\n",
      " 30  renters                           77455 non-null  float64\n",
      " 31  lang_en_only                      77455 non-null  float64\n",
      " 32  lang_fr_only                      77455 non-null  float64\n",
      " 33  lang_en_and_fr                    77455 non-null  float64\n",
      " 34  lang_other                        77455 non-null  float64\n",
      " 35  edu_no_high_school                77455 non-null  float64\n",
      " 36  edu_high_school                   77455 non-null  float64\n",
      " 37  edu_trade_certificate             77455 non-null  float64\n",
      " 38  edu_college_certificate           77455 non-null  float64\n",
      " 39  edu_university_certificate        77455 non-null  float64\n",
      " 40  edu_bachelor_degree               77455 non-null  float64\n",
      " 41  edu_post_graduate_degree          77455 non-null  float64\n",
      " 42  household_children                77455 non-null  float64\n",
      " 43  area_single_detached              77455 non-null  float64\n",
      " 44  area_semi_detached                77455 non-null  float64\n",
      " 45  area_duplex                       77455 non-null  float64\n",
      " 46  area_row_houses                   77455 non-null  float64\n",
      " 47  area_apt_1_to_4_floors            77455 non-null  float64\n",
      " 48  area_apt_5_plus_floors            77455 non-null  float64\n",
      " 49  loc_high_schools                  77455 non-null  float64\n",
      " 50  loc_primary_schools               77455 non-null  float64\n",
      " 51  loc_transit_friendly              77455 non-null  float64\n",
      " 52  loc_groceries                     77455 non-null  float64\n",
      " 53  loc_wellness                      77455 non-null  float64\n",
      " 54  loc_restaurants                   77455 non-null  float64\n",
      " 55  loc_pedestrian_friendly           77455 non-null  float64\n",
      " 56  loc_greenery                      77455 non-null  float64\n",
      " 57  loc_cycling_friendly              77455 non-null  float64\n",
      " 58  loc_car_friendly                  77455 non-null  float64\n",
      " 59  loc_vibrant                       77455 non-null  float64\n",
      " 60  loc_shopping                      77455 non-null  float64\n",
      " 61  loc_daycares                      77455 non-null  float64\n",
      " 62  loc_nightlife                     77455 non-null  float64\n",
      " 63  loc_cafes                         77455 non-null  float64\n",
      " 64  loc_quiet                         77455 non-null  float64\n",
      " 65  loc_parks                         77455 non-null  float64\n",
      " 66  building_type_Apartment           77455 non-null  float64\n",
      " 67  building_type_House               77455 non-null  float64\n",
      " 68  building_type_Row / Townhouse     77455 non-null  float64\n",
      " 69  building_type_Semi-Detached       77455 non-null  float64\n",
      " 70  ownership_type_group_ids_0        77455 non-null  float64\n",
      " 71  ownership_type_group_ids_1        77455 non-null  float64\n",
      " 72  ownership_type_group_ids_2        77455 non-null  float64\n",
      " 73  province_Alberta                  77455 non-null  float64\n",
      " 74  province_British Columbia         77455 non-null  float64\n",
      " 75  province_Manitoba                 77455 non-null  float64\n",
      " 76  province_New Brunswick            77455 non-null  float64\n",
      " 77  province_Newfoundland & Labrador  77455 non-null  float64\n",
      " 78  province_Northwest Territories    77455 non-null  float64\n",
      " 79  province_Nova Scotia              77455 non-null  float64\n",
      " 80  province_Ontario                  77455 non-null  float64\n",
      " 81  province_Prince Edward Island     77455 non-null  float64\n",
      " 82  province_Quebec                   77455 non-null  float64\n",
      " 83  province_Saskatchewan             77455 non-null  float64\n",
      " 84  province_Yukon                    77455 non-null  float64\n",
      "dtypes: float64(85)\n",
      "memory usage: 50.2 MB\n"
     ]
    }
   ],
   "source": [
    "df_enc.info()"
   ]
  },
  {
   "cell_type": "code",
   "execution_count": 23,
   "metadata": {},
   "outputs": [],
   "source": [
    "df_ON = df_enc[df_enc[\"province_Ontario\"] == True]\n",
    "df_QC = df_enc[df_enc[\"province_Quebec\"] == True]\n",
    "df_BC = df_enc[df_enc[\"province_British Columbia\"] == True]\n",
    "df_AB = df_enc[df_enc[\"province_Alberta\"] == True]\n",
    "df_SK = df_enc[df_enc[\"province_Saskatchewan\"] == True]\n",
    "df_MB = df_enc[df_enc[\"province_Manitoba\"] == True]\n",
    "# East\n",
    "df_ES = df_enc[(df_enc[\"province_Nova Scotia\"] == True) |\n",
    "               (df_enc[\"province_New Brunswick\"] == True) |\n",
    "               (df_enc[\"province_Newfoundland & Labrador\"] == True) |\n",
    "               (df_enc[\"province_Prince Edward Island\"] == True)]\n",
    "# North\n",
    "df_NO = df_enc[(df_enc[\"province_Yukon\"] == True) |\n",
    "               (df_enc[\"province_Northwest Territories\"] == True)]\n",
    "\n",
    "df_ON = df_ON.drop([\"province_Ontario\", \"province_Quebec\", \"province_British Columbia\", \"province_Alberta\", \"province_Saskatchewan\",\n",
    "                    \"province_Manitoba\", \"province_Nova Scotia\", \"province_New Brunswick\", \"province_Newfoundland & Labrador\",\n",
    "                    \"province_Prince Edward Island\", \"province_Yukon\", \"province_Northwest Territories\"], axis=1)\n",
    "df_QC = df_QC.drop([\"province_Ontario\", \"province_Quebec\", \"province_British Columbia\", \"province_Alberta\", \"province_Saskatchewan\",\n",
    "                    \"province_Manitoba\", \"province_Nova Scotia\", \"province_New Brunswick\", \"province_Newfoundland & Labrador\",\n",
    "                    \"province_Prince Edward Island\", \"province_Yukon\", \"province_Northwest Territories\"], axis=1)\n",
    "df_BC = df_BC.drop([\"province_Ontario\", \"province_Quebec\", \"province_British Columbia\", \"province_Alberta\", \"province_Saskatchewan\",\n",
    "                    \"province_Manitoba\", \"province_Nova Scotia\", \"province_New Brunswick\", \"province_Newfoundland & Labrador\",\n",
    "                    \"province_Prince Edward Island\", \"province_Yukon\", \"province_Northwest Territories\"], axis=1)\n",
    "df_AB = df_AB.drop([\"province_Ontario\", \"province_Quebec\", \"province_British Columbia\", \"province_Alberta\", \"province_Saskatchewan\",\n",
    "                    \"province_Manitoba\", \"province_Nova Scotia\", \"province_New Brunswick\", \"province_Newfoundland & Labrador\",\n",
    "                    \"province_Prince Edward Island\", \"province_Yukon\", \"province_Northwest Territories\"], axis=1)\n",
    "df_SK = df_SK.drop([\"province_Ontario\", \"province_Quebec\", \"province_British Columbia\", \"province_Alberta\", \"province_Saskatchewan\",\n",
    "                    \"province_Manitoba\", \"province_Nova Scotia\", \"province_New Brunswick\", \"province_Newfoundland & Labrador\",\n",
    "                    \"province_Prince Edward Island\", \"province_Yukon\", \"province_Northwest Territories\"], axis=1)\n",
    "df_MB = df_MB.drop([\"province_Ontario\", \"province_Quebec\", \"province_British Columbia\", \"province_Alberta\", \"province_Saskatchewan\",\n",
    "                    \"province_Manitoba\", \"province_Nova Scotia\", \"province_New Brunswick\", \"province_Newfoundland & Labrador\",\n",
    "                    \"province_Prince Edward Island\", \"province_Yukon\", \"province_Northwest Territories\"], axis=1)\n",
    "df_ES = df_ES.drop([\"province_Ontario\", \"province_Quebec\", \"province_British Columbia\", \"province_Alberta\",\n",
    "                    \"province_Saskatchewan\",\"province_Manitoba\", \"province_Yukon\", \"province_Northwest Territories\"], axis=1)\n",
    "df_NO = df_NO.drop([\"province_Ontario\", \"province_Quebec\", \"province_British Columbia\", \"province_Alberta\",\n",
    "                    \"province_Saskatchewan\", \"province_Manitoba\", \"province_Nova Scotia\", \"province_New Brunswick\",\n",
    "                    \"province_Newfoundland & Labrador\", \"province_Prince Edward Island\"], axis=1)"
   ]
  },
  {
   "cell_type": "markdown",
   "metadata": {},
   "source": [
    "# Ontario"
   ]
  },
  {
   "cell_type": "code",
   "execution_count": 24,
   "metadata": {},
   "outputs": [
    {
     "name": "stdout",
     "output_type": "stream",
     "text": [
      "<class 'pandas.core.frame.DataFrame'>\n",
      "Index: 32102 entries, 0 to 75724\n",
      "Data columns (total 73 columns):\n",
      " #   Column                         Non-Null Count  Dtype  \n",
      "---  ------                         --------------  -----  \n",
      " 0   bathrooms_total                32102 non-null  float64\n",
      " 1   bedrooms_extra                 32102 non-null  float64\n",
      " 2   bedrooms                       32102 non-null  float64\n",
      " 3   stories_total                  32102 non-null  float64\n",
      " 4   size_interior                  32102 non-null  float64\n",
      " 5   lng                            32102 non-null  float64\n",
      " 6   lat                            32102 non-null  float64\n",
      " 7   parkings                       32102 non-null  float64\n",
      " 8   price                          32102 non-null  float64\n",
      " 9   household_income               32102 non-null  float64\n",
      " 10  individual_income              32102 non-null  float64\n",
      " 11  commute_transit                32102 non-null  float64\n",
      " 12  commute_foot                   32102 non-null  float64\n",
      " 13  commute_bicycle                32102 non-null  float64\n",
      " 14  commute_drive                  32102 non-null  float64\n",
      " 15  single_family                  32102 non-null  float64\n",
      " 16  multi_family                   32102 non-null  float64\n",
      " 17  single_person                  32102 non-null  float64\n",
      " 18  multi_person                   32102 non-null  float64\n",
      " 19  total_individuals              32102 non-null  float64\n",
      " 20  age_0_to_4                     32102 non-null  float64\n",
      " 21  age_5_to_9                     32102 non-null  float64\n",
      " 22  age_10_to_14                   32102 non-null  float64\n",
      " 23  age_15_to_19                   32102 non-null  float64\n",
      " 24  age_20_to_34                   32102 non-null  float64\n",
      " 25  age_35_to_49                   32102 non-null  float64\n",
      " 26  age_50_to_64                   32102 non-null  float64\n",
      " 27  age_65_to_79                   32102 non-null  float64\n",
      " 28  age_80_plus                    32102 non-null  float64\n",
      " 29  owners                         32102 non-null  float64\n",
      " 30  renters                        32102 non-null  float64\n",
      " 31  lang_en_only                   32102 non-null  float64\n",
      " 32  lang_fr_only                   32102 non-null  float64\n",
      " 33  lang_en_and_fr                 32102 non-null  float64\n",
      " 34  lang_other                     32102 non-null  float64\n",
      " 35  edu_no_high_school             32102 non-null  float64\n",
      " 36  edu_high_school                32102 non-null  float64\n",
      " 37  edu_trade_certificate          32102 non-null  float64\n",
      " 38  edu_college_certificate        32102 non-null  float64\n",
      " 39  edu_university_certificate     32102 non-null  float64\n",
      " 40  edu_bachelor_degree            32102 non-null  float64\n",
      " 41  edu_post_graduate_degree       32102 non-null  float64\n",
      " 42  household_children             32102 non-null  float64\n",
      " 43  area_single_detached           32102 non-null  float64\n",
      " 44  area_semi_detached             32102 non-null  float64\n",
      " 45  area_duplex                    32102 non-null  float64\n",
      " 46  area_row_houses                32102 non-null  float64\n",
      " 47  area_apt_1_to_4_floors         32102 non-null  float64\n",
      " 48  area_apt_5_plus_floors         32102 non-null  float64\n",
      " 49  loc_high_schools               32102 non-null  float64\n",
      " 50  loc_primary_schools            32102 non-null  float64\n",
      " 51  loc_transit_friendly           32102 non-null  float64\n",
      " 52  loc_groceries                  32102 non-null  float64\n",
      " 53  loc_wellness                   32102 non-null  float64\n",
      " 54  loc_restaurants                32102 non-null  float64\n",
      " 55  loc_pedestrian_friendly        32102 non-null  float64\n",
      " 56  loc_greenery                   32102 non-null  float64\n",
      " 57  loc_cycling_friendly           32102 non-null  float64\n",
      " 58  loc_car_friendly               32102 non-null  float64\n",
      " 59  loc_vibrant                    32102 non-null  float64\n",
      " 60  loc_shopping                   32102 non-null  float64\n",
      " 61  loc_daycares                   32102 non-null  float64\n",
      " 62  loc_nightlife                  32102 non-null  float64\n",
      " 63  loc_cafes                      32102 non-null  float64\n",
      " 64  loc_quiet                      32102 non-null  float64\n",
      " 65  loc_parks                      32102 non-null  float64\n",
      " 66  building_type_Apartment        32102 non-null  float64\n",
      " 67  building_type_House            32102 non-null  float64\n",
      " 68  building_type_Row / Townhouse  32102 non-null  float64\n",
      " 69  building_type_Semi-Detached    32102 non-null  float64\n",
      " 70  ownership_type_group_ids_0     32102 non-null  float64\n",
      " 71  ownership_type_group_ids_1     32102 non-null  float64\n",
      " 72  ownership_type_group_ids_2     32102 non-null  float64\n",
      "dtypes: float64(73)\n",
      "memory usage: 18.1 MB\n"
     ]
    }
   ],
   "source": [
    "df_ON.info()"
   ]
  },
  {
   "cell_type": "code",
   "execution_count": 25,
   "metadata": {},
   "outputs": [],
   "source": [
    "kf = KFold(n_splits=5)"
   ]
  },
  {
   "cell_type": "code",
   "execution_count": 26,
   "metadata": {},
   "outputs": [],
   "source": [
    "X = df_ON.drop(\"price\", axis=1)\n",
    "y = df_ON[\"price\"]\n",
    "\n",
    "scaler_X = StandardScaler()\n",
    "scaler_y = StandardScaler()\n",
    "\n",
    "X_scaled = scaler_X.fit_transform(X)\n",
    "y_scaled = scaler_y.fit_transform(y.to_numpy().reshape(-1,1))\n",
    "\n",
    "X_log = X.copy(deep=True)\n",
    "X_log[\"size_interior\"] = np.log1p(X_log[\"size_interior\"])\n",
    "\n",
    "X_scaled = scaler_X.fit_transform(X_log)\n",
    "y_scaled = scaler_y.fit_transform(y.to_numpy().reshape(-1,1))"
   ]
  },
  {
   "cell_type": "code",
   "execution_count": 27,
   "metadata": {},
   "outputs": [
    {
     "name": "stdout",
     "output_type": "stream",
     "text": [
      "\n",
      "[0.50567838 0.62831884 0.48078945 0.50413464 0.66026537]\n",
      "\n"
     ]
    },
    {
     "data": {
      "text/plain": [
       "count    5.000000\n",
       "mean     0.555837\n",
       "std      0.082128\n",
       "min      0.480789\n",
       "25%      0.504135\n",
       "50%      0.505678\n",
       "75%      0.628319\n",
       "max      0.660265\n",
       "dtype: float64"
      ]
     },
     "execution_count": 27,
     "metadata": {},
     "output_type": "execute_result"
    }
   ],
   "source": [
    "et = ExtraTreesRegressor()\n",
    "\n",
    "scores_et = cross_val_score(et, X_scaled, y_scaled.ravel(), cv=kf, scoring=\"r2\")\n",
    "\n",
    "print(f\"\\n{scores_et}\\n\")\n",
    "pd.Series(scores_et).describe()"
   ]
  },
  {
   "cell_type": "code",
   "execution_count": 28,
   "metadata": {},
   "outputs": [
    {
     "name": "stdout",
     "output_type": "stream",
     "text": [
      "\n",
      "[0.56030611 0.69872319 0.50798953 0.5621815  0.67683699]\n",
      "\n"
     ]
    },
    {
     "data": {
      "text/plain": [
       "count    5.000000\n",
       "mean     0.601207\n",
       "std      0.082333\n",
       "min      0.507990\n",
       "25%      0.560306\n",
       "50%      0.562182\n",
       "75%      0.676837\n",
       "max      0.698723\n",
       "dtype: float64"
      ]
     },
     "execution_count": 28,
     "metadata": {},
     "output_type": "execute_result"
    }
   ],
   "source": [
    "cb = CatBoostRegressor(silent=True)\n",
    "\n",
    "scores_cb = cross_val_score(cb, X_scaled, y_scaled, cv=kf, scoring=\"r2\")\n",
    "\n",
    "print(f\"\\n{scores_cb}\\n\")\n",
    "pd.Series(scores_cb).describe()"
   ]
  },
  {
   "cell_type": "code",
   "execution_count": null,
   "metadata": {},
   "outputs": [],
   "source": []
  }
 ],
 "metadata": {
  "kernelspec": {
   "display_name": ".venv",
   "language": "python",
   "name": "python3"
  },
  "language_info": {
   "codemirror_mode": {
    "name": "ipython",
    "version": 3
   },
   "file_extension": ".py",
   "mimetype": "text/x-python",
   "name": "python",
   "nbconvert_exporter": "python",
   "pygments_lexer": "ipython3",
   "version": "3.12.2"
  }
 },
 "nbformat": 4,
 "nbformat_minor": 2
}
