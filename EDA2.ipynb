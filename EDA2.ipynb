{
 "cells": [
  {
   "cell_type": "code",
   "execution_count": 1,
   "metadata": {},
   "outputs": [],
   "source": [
    "import pandas as pd\n",
    "import numpy as np\n",
    "import matplotlib.pyplot as plt\n",
    "# import seaborn as sns"
   ]
  },
  {
   "cell_type": "code",
   "execution_count": 2,
   "metadata": {},
   "outputs": [],
   "source": [
    "# df = pd.read_csv(\"data/aug/data_aug_2024-03-25.csv\")"
   ]
  },
  {
   "cell_type": "code",
   "execution_count": 3,
   "metadata": {},
   "outputs": [],
   "source": [
    "df = pd.read_csv(\"data/knn/data_knn_2024-03-25.csv\")\n",
    "df_dem = pd.read_csv(\"data/LocalLogic/Demographics/demographics_for_2024-03-25.csv\")\n",
    "df_loc = pd.read_csv(\"data/LocalLogic/Locations/locations_for_2024-03-25.csv\")\n",
    "\n"
   ]
  },
  {
   "cell_type": "code",
   "execution_count": 4,
   "metadata": {},
   "outputs": [
    {
     "name": "stdout",
     "output_type": "stream",
     "text": [
      "<class 'pandas.core.frame.DataFrame'>\n",
      "RangeIndex: 90765 entries, 0 to 90764\n",
      "Data columns (total 23 columns):\n",
      " #   Column                    Non-Null Count  Dtype  \n",
      "---  ------                    --------------  -----  \n",
      " 0   Unnamed: 0                90765 non-null  int64  \n",
      " 1   id                        90765 non-null  int64  \n",
      " 2   id_mls                    90765 non-null  object \n",
      " 3   bathrooms_total           90765 non-null  float64\n",
      " 4   bedrooms_extra            90765 non-null  float64\n",
      " 5   bedrooms                  90765 non-null  float64\n",
      " 6   stories_total             90765 non-null  float64\n",
      " 7   size_interior             90765 non-null  float64\n",
      " 8   building_type             90765 non-null  object \n",
      " 9   agency_name               90765 non-null  object \n",
      " 10  agency_type               90765 non-null  object \n",
      " 11  property_type             90765 non-null  object \n",
      " 12  lng                       90765 non-null  float64\n",
      " 13  lat                       90765 non-null  float64\n",
      " 14  ownership_type            90765 non-null  object \n",
      " 15  ownership_type_group_ids  90765 non-null  int64  \n",
      " 16  land_size                 79004 non-null  object \n",
      " 17  parkings                  90765 non-null  float64\n",
      " 18  page_url                  90765 non-null  object \n",
      " 19  timestamp                 90765 non-null  float64\n",
      " 20  postal_code               90429 non-null  object \n",
      " 21  province                  90765 non-null  object \n",
      " 22  price                     90765 non-null  float64\n",
      "dtypes: float64(10), int64(3), object(10)\n",
      "memory usage: 15.9+ MB\n"
     ]
    }
   ],
   "source": [
    "df.info()"
   ]
  },
  {
   "cell_type": "code",
   "execution_count": 5,
   "metadata": {},
   "outputs": [],
   "source": [
    "df = pd.merge(df, df_dem, on=\"id\")\n",
    "df = pd.merge(df, df_loc, on=\"id\")"
   ]
  },
  {
   "cell_type": "code",
   "execution_count": 6,
   "metadata": {},
   "outputs": [],
   "source": [
    "# url = \"https://realtor.ca/real-estate/26631578/3855-southwinds-unit-403-windsor\"\n",
    "# df.loc[df[\"page_url\"] == url, \"size_interior\"] = 0"
   ]
  },
  {
   "cell_type": "code",
   "execution_count": 7,
   "metadata": {},
   "outputs": [
    {
     "name": "stdout",
     "output_type": "stream",
     "text": [
      "<class 'pandas.core.frame.DataFrame'>\n",
      "RangeIndex: 90765 entries, 0 to 90764\n",
      "Data columns (total 80 columns):\n",
      " #   Column                      Non-Null Count  Dtype  \n",
      "---  ------                      --------------  -----  \n",
      " 0   Unnamed: 0                  90765 non-null  int64  \n",
      " 1   id                          90765 non-null  int64  \n",
      " 2   id_mls                      90765 non-null  object \n",
      " 3   bathrooms_total             90765 non-null  float64\n",
      " 4   bedrooms_extra              90765 non-null  float64\n",
      " 5   bedrooms                    90765 non-null  float64\n",
      " 6   stories_total               90765 non-null  float64\n",
      " 7   size_interior               90765 non-null  float64\n",
      " 8   building_type               90765 non-null  object \n",
      " 9   agency_name                 90765 non-null  object \n",
      " 10  agency_type                 90765 non-null  object \n",
      " 11  property_type               90765 non-null  object \n",
      " 12  lng                         90765 non-null  float64\n",
      " 13  lat                         90765 non-null  float64\n",
      " 14  ownership_type              90765 non-null  object \n",
      " 15  ownership_type_group_ids    90765 non-null  int64  \n",
      " 16  land_size                   79004 non-null  object \n",
      " 17  parkings                    90765 non-null  float64\n",
      " 18  page_url                    90765 non-null  object \n",
      " 19  timestamp                   90765 non-null  float64\n",
      " 20  postal_code                 90429 non-null  object \n",
      " 21  province                    90765 non-null  object \n",
      " 22  price                       90765 non-null  float64\n",
      " 23  household_income            89888 non-null  float64\n",
      " 24  individual_income           89888 non-null  float64\n",
      " 25  commute_transit             89888 non-null  float64\n",
      " 26  commute_foot                89888 non-null  float64\n",
      " 27  commute_bicycle             89888 non-null  float64\n",
      " 28  commute_drive               89888 non-null  float64\n",
      " 29  single_family               89888 non-null  float64\n",
      " 30  multi_family                89888 non-null  float64\n",
      " 31  single_person               89888 non-null  float64\n",
      " 32  multi_person                89888 non-null  float64\n",
      " 33  total_individuals           89888 non-null  float64\n",
      " 34  age_0_to_4                  89888 non-null  float64\n",
      " 35  age_5_to_9                  89888 non-null  float64\n",
      " 36  age_10_to_14                89888 non-null  float64\n",
      " 37  age_15_to_19                89888 non-null  float64\n",
      " 38  age_20_to_34                89888 non-null  float64\n",
      " 39  age_35_to_49                89888 non-null  float64\n",
      " 40  age_50_to_64                89888 non-null  float64\n",
      " 41  age_65_to_79                89888 non-null  float64\n",
      " 42  age_80_plus                 89888 non-null  float64\n",
      " 43  owners                      89888 non-null  float64\n",
      " 44  renters                     89888 non-null  float64\n",
      " 45  lang_en_only                89888 non-null  float64\n",
      " 46  lang_fr_only                89888 non-null  float64\n",
      " 47  lang_en_and_fr              89888 non-null  float64\n",
      " 48  lang_other                  89888 non-null  float64\n",
      " 49  edu_no_high_school          89888 non-null  float64\n",
      " 50  edu_high_school             89888 non-null  float64\n",
      " 51  edu_trade_certificate       89888 non-null  float64\n",
      " 52  edu_college_certificate     89888 non-null  float64\n",
      " 53  edu_university_certificate  89888 non-null  float64\n",
      " 54  edu_bachelor_degree         89888 non-null  float64\n",
      " 55  edu_post_graduate_degree    89888 non-null  float64\n",
      " 56  household_children          89888 non-null  float64\n",
      " 57  area_single_detached        89888 non-null  float64\n",
      " 58  area_semi_detached          89888 non-null  float64\n",
      " 59  area_duplex                 89888 non-null  float64\n",
      " 60  area_row_houses             89888 non-null  float64\n",
      " 61  area_apt_1_to_4_floors      89888 non-null  float64\n",
      " 62  area_apt_5_plus_floors      89888 non-null  float64\n",
      " 63  loc_high_schools            90691 non-null  float64\n",
      " 64  loc_primary_schools         90691 non-null  float64\n",
      " 65  loc_transit_friendly        90691 non-null  float64\n",
      " 66  loc_groceries               90691 non-null  float64\n",
      " 67  loc_wellness                90691 non-null  float64\n",
      " 68  loc_restaurants             90691 non-null  float64\n",
      " 69  loc_pedestrian_friendly     90691 non-null  float64\n",
      " 70  loc_greenery                90691 non-null  float64\n",
      " 71  loc_cycling_friendly        90691 non-null  float64\n",
      " 72  loc_car_friendly            90691 non-null  float64\n",
      " 73  loc_vibrant                 90691 non-null  float64\n",
      " 74  loc_shopping                90691 non-null  float64\n",
      " 75  loc_daycares                90691 non-null  float64\n",
      " 76  loc_nightlife               90691 non-null  float64\n",
      " 77  loc_cafes                   90691 non-null  float64\n",
      " 78  loc_quiet                   90691 non-null  float64\n",
      " 79  loc_parks                   90691 non-null  float64\n",
      "dtypes: float64(67), int64(3), object(10)\n",
      "memory usage: 55.4+ MB\n"
     ]
    }
   ],
   "source": [
    "df.info()"
   ]
  },
  {
   "cell_type": "markdown",
   "metadata": {},
   "source": [
    "# First Glance"
   ]
  },
  {
   "cell_type": "code",
   "execution_count": 8,
   "metadata": {},
   "outputs": [
    {
     "data": {
      "text/html": [
       "<div>\n",
       "<style scoped>\n",
       "    .dataframe tbody tr th:only-of-type {\n",
       "        vertical-align: middle;\n",
       "    }\n",
       "\n",
       "    .dataframe tbody tr th {\n",
       "        vertical-align: top;\n",
       "    }\n",
       "\n",
       "    .dataframe thead th {\n",
       "        text-align: right;\n",
       "    }\n",
       "</style>\n",
       "<table border=\"1\" class=\"dataframe\">\n",
       "  <thead>\n",
       "    <tr style=\"text-align: right;\">\n",
       "      <th></th>\n",
       "      <th>Unnamed: 0</th>\n",
       "      <th>id</th>\n",
       "      <th>id_mls</th>\n",
       "      <th>bathrooms_total</th>\n",
       "      <th>bedrooms_extra</th>\n",
       "      <th>bedrooms</th>\n",
       "      <th>stories_total</th>\n",
       "      <th>size_interior</th>\n",
       "      <th>building_type</th>\n",
       "      <th>agency_name</th>\n",
       "      <th>...</th>\n",
       "      <th>loc_greenery</th>\n",
       "      <th>loc_cycling_friendly</th>\n",
       "      <th>loc_car_friendly</th>\n",
       "      <th>loc_vibrant</th>\n",
       "      <th>loc_shopping</th>\n",
       "      <th>loc_daycares</th>\n",
       "      <th>loc_nightlife</th>\n",
       "      <th>loc_cafes</th>\n",
       "      <th>loc_quiet</th>\n",
       "      <th>loc_parks</th>\n",
       "    </tr>\n",
       "  </thead>\n",
       "  <tbody>\n",
       "    <tr>\n",
       "      <th>0</th>\n",
       "      <td>0</td>\n",
       "      <td>26639235</td>\n",
       "      <td>24005541</td>\n",
       "      <td>3.0</td>\n",
       "      <td>0.0</td>\n",
       "      <td>4.0</td>\n",
       "      <td>2.5</td>\n",
       "      <td>2810.000000</td>\n",
       "      <td>House</td>\n",
       "      <td>RE/MAX PREFERRED REALTY LTD. - 585</td>\n",
       "      <td>...</td>\n",
       "      <td>0.0</td>\n",
       "      <td>3.5</td>\n",
       "      <td>3.0</td>\n",
       "      <td>1.5</td>\n",
       "      <td>2.5</td>\n",
       "      <td>5.0</td>\n",
       "      <td>2.0</td>\n",
       "      <td>3.0</td>\n",
       "      <td>5.0</td>\n",
       "      <td>3.5</td>\n",
       "    </tr>\n",
       "    <tr>\n",
       "      <th>1</th>\n",
       "      <td>1</td>\n",
       "      <td>26639230</td>\n",
       "      <td>24005774</td>\n",
       "      <td>2.0</td>\n",
       "      <td>0.0</td>\n",
       "      <td>2.0</td>\n",
       "      <td>1.0</td>\n",
       "      <td>1072.000000</td>\n",
       "      <td>Apartment</td>\n",
       "      <td>ROYAL LEPAGE BINDER REAL ESTATE - 640</td>\n",
       "      <td>...</td>\n",
       "      <td>0.0</td>\n",
       "      <td>3.0</td>\n",
       "      <td>4.5</td>\n",
       "      <td>1.0</td>\n",
       "      <td>3.0</td>\n",
       "      <td>4.5</td>\n",
       "      <td>0.5</td>\n",
       "      <td>1.5</td>\n",
       "      <td>4.5</td>\n",
       "      <td>3.5</td>\n",
       "    </tr>\n",
       "    <tr>\n",
       "      <th>2</th>\n",
       "      <td>2</td>\n",
       "      <td>26639229</td>\n",
       "      <td>24005776</td>\n",
       "      <td>3.0</td>\n",
       "      <td>0.0</td>\n",
       "      <td>4.0</td>\n",
       "      <td>2.0</td>\n",
       "      <td>1965.881818</td>\n",
       "      <td>House</td>\n",
       "      <td>RE/MAX CAPITAL DIAMOND REALTY - 821</td>\n",
       "      <td>...</td>\n",
       "      <td>0.0</td>\n",
       "      <td>2.5</td>\n",
       "      <td>4.0</td>\n",
       "      <td>0.5</td>\n",
       "      <td>1.0</td>\n",
       "      <td>5.0</td>\n",
       "      <td>0.0</td>\n",
       "      <td>1.0</td>\n",
       "      <td>5.0</td>\n",
       "      <td>0.0</td>\n",
       "    </tr>\n",
       "    <tr>\n",
       "      <th>3</th>\n",
       "      <td>3</td>\n",
       "      <td>26639225</td>\n",
       "      <td>24005786</td>\n",
       "      <td>1.0</td>\n",
       "      <td>0.0</td>\n",
       "      <td>4.0</td>\n",
       "      <td>1.0</td>\n",
       "      <td>1040.426146</td>\n",
       "      <td>House</td>\n",
       "      <td>REMO VALENTE REAL ESTATE (1990) LIMITED - 790</td>\n",
       "      <td>...</td>\n",
       "      <td>0.0</td>\n",
       "      <td>3.5</td>\n",
       "      <td>3.5</td>\n",
       "      <td>2.0</td>\n",
       "      <td>2.0</td>\n",
       "      <td>4.0</td>\n",
       "      <td>2.0</td>\n",
       "      <td>2.5</td>\n",
       "      <td>3.0</td>\n",
       "      <td>3.5</td>\n",
       "    </tr>\n",
       "    <tr>\n",
       "      <th>4</th>\n",
       "      <td>4</td>\n",
       "      <td>26638941</td>\n",
       "      <td>24005778</td>\n",
       "      <td>2.0</td>\n",
       "      <td>0.0</td>\n",
       "      <td>2.0</td>\n",
       "      <td>1.0</td>\n",
       "      <td>1100.000000</td>\n",
       "      <td>Apartment</td>\n",
       "      <td>PINNACLE PLUS REALTY LTD.</td>\n",
       "      <td>...</td>\n",
       "      <td>0.0</td>\n",
       "      <td>3.0</td>\n",
       "      <td>5.0</td>\n",
       "      <td>0.5</td>\n",
       "      <td>2.0</td>\n",
       "      <td>5.0</td>\n",
       "      <td>0.0</td>\n",
       "      <td>1.0</td>\n",
       "      <td>3.5</td>\n",
       "      <td>0.0</td>\n",
       "    </tr>\n",
       "  </tbody>\n",
       "</table>\n",
       "<p>5 rows × 80 columns</p>\n",
       "</div>"
      ],
      "text/plain": [
       "   Unnamed: 0        id    id_mls  bathrooms_total  bedrooms_extra  bedrooms  \\\n",
       "0           0  26639235  24005541              3.0             0.0       4.0   \n",
       "1           1  26639230  24005774              2.0             0.0       2.0   \n",
       "2           2  26639229  24005776              3.0             0.0       4.0   \n",
       "3           3  26639225  24005786              1.0             0.0       4.0   \n",
       "4           4  26638941  24005778              2.0             0.0       2.0   \n",
       "\n",
       "   stories_total  size_interior building_type  \\\n",
       "0            2.5    2810.000000         House   \n",
       "1            1.0    1072.000000     Apartment   \n",
       "2            2.0    1965.881818         House   \n",
       "3            1.0    1040.426146         House   \n",
       "4            1.0    1100.000000     Apartment   \n",
       "\n",
       "                                     agency_name  ... loc_greenery  \\\n",
       "0             RE/MAX PREFERRED REALTY LTD. - 585  ...          0.0   \n",
       "1          ROYAL LEPAGE BINDER REAL ESTATE - 640  ...          0.0   \n",
       "2            RE/MAX CAPITAL DIAMOND REALTY - 821  ...          0.0   \n",
       "3  REMO VALENTE REAL ESTATE (1990) LIMITED - 790  ...          0.0   \n",
       "4                      PINNACLE PLUS REALTY LTD.  ...          0.0   \n",
       "\n",
       "  loc_cycling_friendly  loc_car_friendly  loc_vibrant loc_shopping  \\\n",
       "0                  3.5               3.0          1.5          2.5   \n",
       "1                  3.0               4.5          1.0          3.0   \n",
       "2                  2.5               4.0          0.5          1.0   \n",
       "3                  3.5               3.5          2.0          2.0   \n",
       "4                  3.0               5.0          0.5          2.0   \n",
       "\n",
       "   loc_daycares loc_nightlife  loc_cafes loc_quiet  loc_parks  \n",
       "0           5.0           2.0        3.0       5.0        3.5  \n",
       "1           4.5           0.5        1.5       4.5        3.5  \n",
       "2           5.0           0.0        1.0       5.0        0.0  \n",
       "3           4.0           2.0        2.5       3.0        3.5  \n",
       "4           5.0           0.0        1.0       3.5        0.0  \n",
       "\n",
       "[5 rows x 80 columns]"
      ]
     },
     "execution_count": 8,
     "metadata": {},
     "output_type": "execute_result"
    }
   ],
   "source": [
    "df.head()"
   ]
  },
  {
   "cell_type": "code",
   "execution_count": 9,
   "metadata": {},
   "outputs": [
    {
     "data": {
      "text/plain": [
       "province\n",
       "Ontario                    31283\n",
       "Quebec                     19217\n",
       "British Columbia           18982\n",
       "Alberta                    10735\n",
       "Saskatchewan                3646\n",
       "Manitoba                    2428\n",
       "Nova Scotia                 2150\n",
       "New Brunswick               1237\n",
       "Newfoundland & Labrador      504\n",
       "Prince Edward Island         447\n",
       "Yukon                         87\n",
       "Northwest Territories         49\n",
       "Name: count, dtype: int64"
      ]
     },
     "execution_count": 9,
     "metadata": {},
     "output_type": "execute_result"
    }
   ],
   "source": [
    "df[\"province\"].value_counts()"
   ]
  },
  {
   "cell_type": "code",
   "execution_count": 10,
   "metadata": {},
   "outputs": [
    {
     "data": {
      "text/html": [
       "<div>\n",
       "<style scoped>\n",
       "    .dataframe tbody tr th:only-of-type {\n",
       "        vertical-align: middle;\n",
       "    }\n",
       "\n",
       "    .dataframe tbody tr th {\n",
       "        vertical-align: top;\n",
       "    }\n",
       "\n",
       "    .dataframe thead th {\n",
       "        text-align: right;\n",
       "    }\n",
       "</style>\n",
       "<table border=\"1\" class=\"dataframe\">\n",
       "  <thead>\n",
       "    <tr style=\"text-align: right;\">\n",
       "      <th></th>\n",
       "      <th>Unnamed: 0</th>\n",
       "      <th>id</th>\n",
       "      <th>bathrooms_total</th>\n",
       "      <th>bedrooms_extra</th>\n",
       "      <th>bedrooms</th>\n",
       "      <th>stories_total</th>\n",
       "      <th>size_interior</th>\n",
       "      <th>lng</th>\n",
       "      <th>lat</th>\n",
       "      <th>ownership_type_group_ids</th>\n",
       "      <th>...</th>\n",
       "      <th>loc_greenery</th>\n",
       "      <th>loc_cycling_friendly</th>\n",
       "      <th>loc_car_friendly</th>\n",
       "      <th>loc_vibrant</th>\n",
       "      <th>loc_shopping</th>\n",
       "      <th>loc_daycares</th>\n",
       "      <th>loc_nightlife</th>\n",
       "      <th>loc_cafes</th>\n",
       "      <th>loc_quiet</th>\n",
       "      <th>loc_parks</th>\n",
       "    </tr>\n",
       "  </thead>\n",
       "  <tbody>\n",
       "    <tr>\n",
       "      <th>count</th>\n",
       "      <td>90765.0</td>\n",
       "      <td>90765.0</td>\n",
       "      <td>90765.0</td>\n",
       "      <td>90765.0</td>\n",
       "      <td>90765.0</td>\n",
       "      <td>90765.0</td>\n",
       "      <td>90765.0</td>\n",
       "      <td>90765.0</td>\n",
       "      <td>90765.0</td>\n",
       "      <td>90765.0</td>\n",
       "      <td>...</td>\n",
       "      <td>90691.0</td>\n",
       "      <td>90691.0</td>\n",
       "      <td>90691.0</td>\n",
       "      <td>90691.0</td>\n",
       "      <td>90691.0</td>\n",
       "      <td>90691.0</td>\n",
       "      <td>90691.0</td>\n",
       "      <td>90691.0</td>\n",
       "      <td>90691.0</td>\n",
       "      <td>90691.0</td>\n",
       "    </tr>\n",
       "    <tr>\n",
       "      <th>mean</th>\n",
       "      <td>45382.0</td>\n",
       "      <td>26453714.0</td>\n",
       "      <td>2.0</td>\n",
       "      <td>0.0</td>\n",
       "      <td>3.0</td>\n",
       "      <td>1.0</td>\n",
       "      <td>5688.0</td>\n",
       "      <td>-92.0</td>\n",
       "      <td>47.0</td>\n",
       "      <td>1.0</td>\n",
       "      <td>...</td>\n",
       "      <td>0.0</td>\n",
       "      <td>2.0</td>\n",
       "      <td>4.0</td>\n",
       "      <td>1.0</td>\n",
       "      <td>2.0</td>\n",
       "      <td>2.0</td>\n",
       "      <td>1.0</td>\n",
       "      <td>1.0</td>\n",
       "      <td>4.0</td>\n",
       "      <td>2.0</td>\n",
       "    </tr>\n",
       "    <tr>\n",
       "      <th>std</th>\n",
       "      <td>26202.0</td>\n",
       "      <td>298509.0</td>\n",
       "      <td>1.0</td>\n",
       "      <td>0.0</td>\n",
       "      <td>1.0</td>\n",
       "      <td>1.0</td>\n",
       "      <td>317042.0</td>\n",
       "      <td>21.0</td>\n",
       "      <td>3.0</td>\n",
       "      <td>1.0</td>\n",
       "      <td>...</td>\n",
       "      <td>1.0</td>\n",
       "      <td>1.0</td>\n",
       "      <td>1.0</td>\n",
       "      <td>1.0</td>\n",
       "      <td>1.0</td>\n",
       "      <td>2.0</td>\n",
       "      <td>1.0</td>\n",
       "      <td>1.0</td>\n",
       "      <td>1.0</td>\n",
       "      <td>2.0</td>\n",
       "    </tr>\n",
       "    <tr>\n",
       "      <th>min</th>\n",
       "      <td>0.0</td>\n",
       "      <td>20535215.0</td>\n",
       "      <td>0.0</td>\n",
       "      <td>0.0</td>\n",
       "      <td>0.0</td>\n",
       "      <td>1.0</td>\n",
       "      <td>1.0</td>\n",
       "      <td>-139.0</td>\n",
       "      <td>42.0</td>\n",
       "      <td>0.0</td>\n",
       "      <td>...</td>\n",
       "      <td>0.0</td>\n",
       "      <td>0.0</td>\n",
       "      <td>0.0</td>\n",
       "      <td>0.0</td>\n",
       "      <td>0.0</td>\n",
       "      <td>0.0</td>\n",
       "      <td>0.0</td>\n",
       "      <td>0.0</td>\n",
       "      <td>0.0</td>\n",
       "      <td>0.0</td>\n",
       "    </tr>\n",
       "    <tr>\n",
       "      <th>25%</th>\n",
       "      <td>22691.0</td>\n",
       "      <td>26413921.0</td>\n",
       "      <td>1.0</td>\n",
       "      <td>0.0</td>\n",
       "      <td>2.0</td>\n",
       "      <td>1.0</td>\n",
       "      <td>1113.0</td>\n",
       "      <td>-114.0</td>\n",
       "      <td>44.0</td>\n",
       "      <td>1.0</td>\n",
       "      <td>...</td>\n",
       "      <td>0.0</td>\n",
       "      <td>2.0</td>\n",
       "      <td>4.0</td>\n",
       "      <td>0.0</td>\n",
       "      <td>0.0</td>\n",
       "      <td>0.0</td>\n",
       "      <td>0.0</td>\n",
       "      <td>0.0</td>\n",
       "      <td>4.0</td>\n",
       "      <td>0.0</td>\n",
       "    </tr>\n",
       "    <tr>\n",
       "      <th>50%</th>\n",
       "      <td>45382.0</td>\n",
       "      <td>26552970.0</td>\n",
       "      <td>2.0</td>\n",
       "      <td>0.0</td>\n",
       "      <td>3.0</td>\n",
       "      <td>1.0</td>\n",
       "      <td>1600.0</td>\n",
       "      <td>-80.0</td>\n",
       "      <td>46.0</td>\n",
       "      <td>1.0</td>\n",
       "      <td>...</td>\n",
       "      <td>0.0</td>\n",
       "      <td>2.0</td>\n",
       "      <td>4.0</td>\n",
       "      <td>0.0</td>\n",
       "      <td>2.0</td>\n",
       "      <td>2.0</td>\n",
       "      <td>0.0</td>\n",
       "      <td>2.0</td>\n",
       "      <td>4.0</td>\n",
       "      <td>0.0</td>\n",
       "    </tr>\n",
       "    <tr>\n",
       "      <th>75%</th>\n",
       "      <td>68073.0</td>\n",
       "      <td>26618720.0</td>\n",
       "      <td>3.0</td>\n",
       "      <td>0.0</td>\n",
       "      <td>4.0</td>\n",
       "      <td>2.0</td>\n",
       "      <td>2565.0</td>\n",
       "      <td>-75.0</td>\n",
       "      <td>49.0</td>\n",
       "      <td>1.0</td>\n",
       "      <td>...</td>\n",
       "      <td>0.0</td>\n",
       "      <td>3.0</td>\n",
       "      <td>5.0</td>\n",
       "      <td>1.0</td>\n",
       "      <td>2.0</td>\n",
       "      <td>4.0</td>\n",
       "      <td>2.0</td>\n",
       "      <td>2.0</td>\n",
       "      <td>5.0</td>\n",
       "      <td>4.0</td>\n",
       "    </tr>\n",
       "    <tr>\n",
       "      <th>max</th>\n",
       "      <td>90764.0</td>\n",
       "      <td>26664481.0</td>\n",
       "      <td>7.0</td>\n",
       "      <td>2.0</td>\n",
       "      <td>8.0</td>\n",
       "      <td>3.0</td>\n",
       "      <td>90703862.0</td>\n",
       "      <td>-53.0</td>\n",
       "      <td>69.0</td>\n",
       "      <td>2.0</td>\n",
       "      <td>...</td>\n",
       "      <td>5.0</td>\n",
       "      <td>5.0</td>\n",
       "      <td>5.0</td>\n",
       "      <td>5.0</td>\n",
       "      <td>5.0</td>\n",
       "      <td>5.0</td>\n",
       "      <td>5.0</td>\n",
       "      <td>5.0</td>\n",
       "      <td>5.0</td>\n",
       "      <td>5.0</td>\n",
       "    </tr>\n",
       "  </tbody>\n",
       "</table>\n",
       "<p>8 rows × 70 columns</p>\n",
       "</div>"
      ],
      "text/plain": [
       "       Unnamed: 0          id  bathrooms_total  bedrooms_extra  bedrooms  \\\n",
       "count     90765.0     90765.0          90765.0         90765.0   90765.0   \n",
       "mean      45382.0  26453714.0              2.0             0.0       3.0   \n",
       "std       26202.0    298509.0              1.0             0.0       1.0   \n",
       "min           0.0  20535215.0              0.0             0.0       0.0   \n",
       "25%       22691.0  26413921.0              1.0             0.0       2.0   \n",
       "50%       45382.0  26552970.0              2.0             0.0       3.0   \n",
       "75%       68073.0  26618720.0              3.0             0.0       4.0   \n",
       "max       90764.0  26664481.0              7.0             2.0       8.0   \n",
       "\n",
       "       stories_total  size_interior      lng      lat  \\\n",
       "count        90765.0        90765.0  90765.0  90765.0   \n",
       "mean             1.0         5688.0    -92.0     47.0   \n",
       "std              1.0       317042.0     21.0      3.0   \n",
       "min              1.0            1.0   -139.0     42.0   \n",
       "25%              1.0         1113.0   -114.0     44.0   \n",
       "50%              1.0         1600.0    -80.0     46.0   \n",
       "75%              2.0         2565.0    -75.0     49.0   \n",
       "max              3.0     90703862.0    -53.0     69.0   \n",
       "\n",
       "       ownership_type_group_ids  ...  loc_greenery  loc_cycling_friendly  \\\n",
       "count                   90765.0  ...       90691.0               90691.0   \n",
       "mean                        1.0  ...           0.0                   2.0   \n",
       "std                         1.0  ...           1.0                   1.0   \n",
       "min                         0.0  ...           0.0                   0.0   \n",
       "25%                         1.0  ...           0.0                   2.0   \n",
       "50%                         1.0  ...           0.0                   2.0   \n",
       "75%                         1.0  ...           0.0                   3.0   \n",
       "max                         2.0  ...           5.0                   5.0   \n",
       "\n",
       "       loc_car_friendly  loc_vibrant  loc_shopping  loc_daycares  \\\n",
       "count           90691.0      90691.0       90691.0       90691.0   \n",
       "mean                4.0          1.0           2.0           2.0   \n",
       "std                 1.0          1.0           1.0           2.0   \n",
       "min                 0.0          0.0           0.0           0.0   \n",
       "25%                 4.0          0.0           0.0           0.0   \n",
       "50%                 4.0          0.0           2.0           2.0   \n",
       "75%                 5.0          1.0           2.0           4.0   \n",
       "max                 5.0          5.0           5.0           5.0   \n",
       "\n",
       "       loc_nightlife  loc_cafes  loc_quiet  loc_parks  \n",
       "count        90691.0    90691.0    90691.0    90691.0  \n",
       "mean             1.0        1.0        4.0        2.0  \n",
       "std              1.0        1.0        1.0        2.0  \n",
       "min              0.0        0.0        0.0        0.0  \n",
       "25%              0.0        0.0        4.0        0.0  \n",
       "50%              0.0        2.0        4.0        0.0  \n",
       "75%              2.0        2.0        5.0        4.0  \n",
       "max              5.0        5.0        5.0        5.0  \n",
       "\n",
       "[8 rows x 70 columns]"
      ]
     },
     "execution_count": 10,
     "metadata": {},
     "output_type": "execute_result"
    }
   ],
   "source": [
    "np.round(df.describe())"
   ]
  },
  {
   "cell_type": "markdown",
   "metadata": {},
   "source": [
    "## Removing Unwanted Features"
   ]
  },
  {
   "cell_type": "code",
   "execution_count": 11,
   "metadata": {},
   "outputs": [
    {
     "name": "stdout",
     "output_type": "stream",
     "text": [
      "<class 'pandas.core.frame.DataFrame'>\n",
      "RangeIndex: 90765 entries, 0 to 90764\n",
      "Data columns (total 70 columns):\n",
      " #   Column                      Non-Null Count  Dtype  \n",
      "---  ------                      --------------  -----  \n",
      " 0   Unnamed: 0                  90765 non-null  int64  \n",
      " 1   bathrooms_total             90765 non-null  float64\n",
      " 2   bedrooms_extra              90765 non-null  float64\n",
      " 3   bedrooms                    90765 non-null  float64\n",
      " 4   stories_total               90765 non-null  float64\n",
      " 5   size_interior               90765 non-null  float64\n",
      " 6   building_type               90765 non-null  object \n",
      " 7   lng                         90765 non-null  float64\n",
      " 8   lat                         90765 non-null  float64\n",
      " 9   ownership_type_group_ids    90765 non-null  int64  \n",
      " 10  parkings                    90765 non-null  float64\n",
      " 11  province                    90765 non-null  object \n",
      " 12  price                       90765 non-null  float64\n",
      " 13  household_income            89888 non-null  float64\n",
      " 14  individual_income           89888 non-null  float64\n",
      " 15  commute_transit             89888 non-null  float64\n",
      " 16  commute_foot                89888 non-null  float64\n",
      " 17  commute_bicycle             89888 non-null  float64\n",
      " 18  commute_drive               89888 non-null  float64\n",
      " 19  single_family               89888 non-null  float64\n",
      " 20  multi_family                89888 non-null  float64\n",
      " 21  single_person               89888 non-null  float64\n",
      " 22  multi_person                89888 non-null  float64\n",
      " 23  total_individuals           89888 non-null  float64\n",
      " 24  age_0_to_4                  89888 non-null  float64\n",
      " 25  age_5_to_9                  89888 non-null  float64\n",
      " 26  age_10_to_14                89888 non-null  float64\n",
      " 27  age_15_to_19                89888 non-null  float64\n",
      " 28  age_20_to_34                89888 non-null  float64\n",
      " 29  age_35_to_49                89888 non-null  float64\n",
      " 30  age_50_to_64                89888 non-null  float64\n",
      " 31  age_65_to_79                89888 non-null  float64\n",
      " 32  age_80_plus                 89888 non-null  float64\n",
      " 33  owners                      89888 non-null  float64\n",
      " 34  renters                     89888 non-null  float64\n",
      " 35  lang_en_only                89888 non-null  float64\n",
      " 36  lang_fr_only                89888 non-null  float64\n",
      " 37  lang_en_and_fr              89888 non-null  float64\n",
      " 38  lang_other                  89888 non-null  float64\n",
      " 39  edu_no_high_school          89888 non-null  float64\n",
      " 40  edu_high_school             89888 non-null  float64\n",
      " 41  edu_trade_certificate       89888 non-null  float64\n",
      " 42  edu_college_certificate     89888 non-null  float64\n",
      " 43  edu_university_certificate  89888 non-null  float64\n",
      " 44  edu_bachelor_degree         89888 non-null  float64\n",
      " 45  edu_post_graduate_degree    89888 non-null  float64\n",
      " 46  household_children          89888 non-null  float64\n",
      " 47  area_single_detached        89888 non-null  float64\n",
      " 48  area_semi_detached          89888 non-null  float64\n",
      " 49  area_duplex                 89888 non-null  float64\n",
      " 50  area_row_houses             89888 non-null  float64\n",
      " 51  area_apt_1_to_4_floors      89888 non-null  float64\n",
      " 52  area_apt_5_plus_floors      89888 non-null  float64\n",
      " 53  loc_high_schools            90691 non-null  float64\n",
      " 54  loc_primary_schools         90691 non-null  float64\n",
      " 55  loc_transit_friendly        90691 non-null  float64\n",
      " 56  loc_groceries               90691 non-null  float64\n",
      " 57  loc_wellness                90691 non-null  float64\n",
      " 58  loc_restaurants             90691 non-null  float64\n",
      " 59  loc_pedestrian_friendly     90691 non-null  float64\n",
      " 60  loc_greenery                90691 non-null  float64\n",
      " 61  loc_cycling_friendly        90691 non-null  float64\n",
      " 62  loc_car_friendly            90691 non-null  float64\n",
      " 63  loc_vibrant                 90691 non-null  float64\n",
      " 64  loc_shopping                90691 non-null  float64\n",
      " 65  loc_daycares                90691 non-null  float64\n",
      " 66  loc_nightlife               90691 non-null  float64\n",
      " 67  loc_cafes                   90691 non-null  float64\n",
      " 68  loc_quiet                   90691 non-null  float64\n",
      " 69  loc_parks                   90691 non-null  float64\n",
      "dtypes: float64(66), int64(2), object(2)\n",
      "memory usage: 48.5+ MB\n"
     ]
    }
   ],
   "source": [
    "df = df.drop([\"id\", \"id_mls\", \"agency_name\", \"agency_type\", \"property_type\", \"ownership_type\", \"land_size\", \"page_url\", \"timestamp\", \"postal_code\"], axis=1)\n",
    "df.info()"
   ]
  },
  {
   "cell_type": "markdown",
   "metadata": {},
   "source": [
    "## Removing Interior Size Outliers from top"
   ]
  },
  {
   "cell_type": "code",
   "execution_count": 12,
   "metadata": {},
   "outputs": [
    {
     "data": {
      "text/plain": [
       "<Axes: title={'center': 'size_interior'}, xlabel='province'>"
      ]
     },
     "execution_count": 12,
     "metadata": {},
     "output_type": "execute_result"
    },
    {
     "data": {
      "image/png": "[encoded data removed]",
      "text/plain": [
       "<Figure size 1200x800 with 1 Axes>"
      ]
     },
     "metadata": {},
     "output_type": "display_data"
    }
   ],
   "source": [
    "df.boxplot(column=\"size_interior\", by=\"province\", figsize=(12,8))"
   ]
  },
  {
   "cell_type": "code",
   "execution_count": 13,
   "metadata": {},
   "outputs": [],
   "source": [
    "# for province in df[\"province\"].unique():\n",
    "#     for building_type in df[\"building_type\"].unique():\n",
    "\n",
    "#         mask = (df[\"province\"] == province) & (df[\"building_type\"] == building_type)\n",
    "#         # mask = (df_norm[\"province\"] == province)\n",
    "\n",
    "#         q1 = df[mask][\"size_interior\"].quantile(0.25)\n",
    "#         q3 = df[mask][\"size_interior\"].quantile(0.75)\n",
    "#         iqr = q3 - q1\n",
    "\n",
    "#         # remove outliers\n",
    "#         df[mask] = df[mask][df[mask][\"size_interior\"]<=abs(q3+1.5*iqr)]\n",
    "\n",
    "#         df_szie = df[df[\"size_interior\"].notna()]"
   ]
  },
  {
   "cell_type": "code",
   "execution_count": 14,
   "metadata": {},
   "outputs": [],
   "source": [
    "q1 = df[\"size_interior\"].quantile(0.25)\n",
    "q3 = df[\"size_interior\"].quantile(0.75)\n",
    "iqr = q3 - q1\n",
    "\n",
    "df = df[df[\"size_interior\"] < (q3+1.5*iqr)]"
   ]
  },
  {
   "cell_type": "code",
   "execution_count": 15,
   "metadata": {},
   "outputs": [
    {
     "data": {
      "text/plain": [
       "<Axes: title={'center': 'size_interior'}, xlabel='province'>"
      ]
     },
     "execution_count": 15,
     "metadata": {},
     "output_type": "execute_result"
    },
    {
     "data": {
      "image/png": "[encoded data removed]",
      "text/plain": [
       "<Figure size 1200x800 with 1 Axes>"
      ]
     },
     "metadata": {},
     "output_type": "display_data"
    }
   ],
   "source": [
    "df.boxplot(column=\"size_interior\", by=\"province\", figsize=(12,8))"
   ]
  },
  {
   "cell_type": "code",
   "execution_count": 39,
   "metadata": {},
   "outputs": [
    {
     "data": {
      "text/plain": [
       "(49, 73)"
      ]
     },
     "execution_count": 39,
     "metadata": {},
     "output_type": "execute_result"
    }
   ],
   "source": [
    "df_enc = pd.get_dummies(df[df[\"province\"] == \"Northwest Territories\"])\n",
    "df_enc.shape"
   ]
  },
  {
   "cell_type": "code",
   "execution_count": 84,
   "metadata": {},
   "outputs": [
    {
     "name": "stdout",
     "output_type": "stream",
     "text": [
      "<class 'pandas.core.frame.DataFrame'>\n",
      "Index: 49 entries, 77169 to 90764\n",
      "Data columns (total 73 columns):\n",
      " #   Column                          Non-Null Count  Dtype  \n",
      "---  ------                          --------------  -----  \n",
      " 0   Unnamed: 0                      49 non-null     int64  \n",
      " 1   bathrooms_total                 49 non-null     float64\n",
      " 2   bedrooms_extra                  49 non-null     float64\n",
      " 3   bedrooms                        49 non-null     float64\n",
      " 4   stories_total                   49 non-null     float64\n",
      " 5   size_interior                   49 non-null     float64\n",
      " 6   lng                             49 non-null     float64\n",
      " 7   lat                             49 non-null     float64\n",
      " 8   ownership_type_group_ids        49 non-null     int64  \n",
      " 9   parkings                        49 non-null     float64\n",
      " 10  price                           49 non-null     float64\n",
      " 11  household_income                48 non-null     float64\n",
      " 12  individual_income               48 non-null     float64\n",
      " 13  commute_transit                 48 non-null     float64\n",
      " 14  commute_foot                    48 non-null     float64\n",
      " 15  commute_bicycle                 48 non-null     float64\n",
      " 16  commute_drive                   48 non-null     float64\n",
      " 17  single_family                   48 non-null     float64\n",
      " 18  multi_family                    48 non-null     float64\n",
      " 19  single_person                   48 non-null     float64\n",
      " 20  multi_person                    48 non-null     float64\n",
      " 21  total_individuals               48 non-null     float64\n",
      " 22  age_0_to_4                      48 non-null     float64\n",
      " 23  age_5_to_9                      48 non-null     float64\n",
      " 24  age_10_to_14                    48 non-null     float64\n",
      " 25  age_15_to_19                    48 non-null     float64\n",
      " 26  age_20_to_34                    48 non-null     float64\n",
      " 27  age_35_to_49                    48 non-null     float64\n",
      " 28  age_50_to_64                    48 non-null     float64\n",
      " 29  age_65_to_79                    48 non-null     float64\n",
      " 30  age_80_plus                     48 non-null     float64\n",
      " 31  owners                          48 non-null     float64\n",
      " 32  renters                         48 non-null     float64\n",
      " 33  lang_en_only                    48 non-null     float64\n",
      " 34  lang_fr_only                    48 non-null     float64\n",
      " 35  lang_en_and_fr                  48 non-null     float64\n",
      " 36  lang_other                      48 non-null     float64\n",
      " 37  edu_no_high_school              48 non-null     float64\n",
      " 38  edu_high_school                 48 non-null     float64\n",
      " 39  edu_trade_certificate           48 non-null     float64\n",
      " 40  edu_college_certificate         48 non-null     float64\n",
      " 41  edu_university_certificate      48 non-null     float64\n",
      " 42  edu_bachelor_degree             48 non-null     float64\n",
      " 43  edu_post_graduate_degree        48 non-null     float64\n",
      " 44  household_children              48 non-null     float64\n",
      " 45  area_single_detached            48 non-null     float64\n",
      " 46  area_semi_detached              48 non-null     float64\n",
      " 47  area_duplex                     48 non-null     float64\n",
      " 48  area_row_houses                 48 non-null     float64\n",
      " 49  area_apt_1_to_4_floors          48 non-null     float64\n",
      " 50  area_apt_5_plus_floors          48 non-null     float64\n",
      " 51  loc_high_schools                49 non-null     float64\n",
      " 52  loc_primary_schools             49 non-null     float64\n",
      " 53  loc_transit_friendly            49 non-null     float64\n",
      " 54  loc_groceries                   49 non-null     float64\n",
      " 55  loc_wellness                    49 non-null     float64\n",
      " 56  loc_restaurants                 49 non-null     float64\n",
      " 57  loc_pedestrian_friendly         49 non-null     float64\n",
      " 58  loc_greenery                    49 non-null     float64\n",
      " 59  loc_cycling_friendly            49 non-null     float64\n",
      " 60  loc_car_friendly                49 non-null     float64\n",
      " 61  loc_vibrant                     49 non-null     float64\n",
      " 62  loc_shopping                    49 non-null     float64\n",
      " 63  loc_daycares                    49 non-null     float64\n",
      " 64  loc_nightlife                   49 non-null     float64\n",
      " 65  loc_cafes                       49 non-null     float64\n",
      " 66  loc_quiet                       49 non-null     float64\n",
      " 67  loc_parks                       49 non-null     float64\n",
      " 68  building_type_Apartment         49 non-null     bool   \n",
      " 69  building_type_House             49 non-null     bool   \n",
      " 70  building_type_Row / Townhouse   49 non-null     bool   \n",
      " 71  building_type_Semi-Detached     49 non-null     bool   \n",
      " 72  province_Northwest Territories  49 non-null     bool   \n",
      "dtypes: bool(5), float64(66), int64(2)\n",
      "memory usage: 26.7 KB\n"
     ]
    }
   ],
   "source": [
    "df_enc.info()"
   ]
  },
  {
   "cell_type": "code",
   "execution_count": 64,
   "metadata": {},
   "outputs": [],
   "source": [
    "from sklearn. preprocessing import StandardScaler\n",
    "\n",
    "scaler_X = StandardScaler()\n",
    "scaler_y = StandardScaler()\n",
    "X_scaled = scaler_X.fit_transform(df_enc.drop(\"price\", axis=1))\n",
    "y_scaled = scaler_y.fit_transform(np.array(df_enc[\"price\"]).reshape(-1,1))"
   ]
  },
  {
   "cell_type": "code",
   "execution_count": 65,
   "metadata": {},
   "outputs": [
    {
     "data": {
      "text/plain": [
       "price                         1.000000\n",
       "size_interior                 0.669304\n",
       "bathrooms_total               0.577387\n",
       "bedrooms                      0.421940\n",
       "edu_high_school               0.388963\n",
       "single_family                 0.342063\n",
       "age_15_to_19                  0.329975\n",
       "lang_en_and_fr                0.318879\n",
       "age_35_to_49                  0.289636\n",
       "loc_transit_friendly          0.288804\n",
       "loc_car_friendly              0.246863\n",
       "age_10_to_14                  0.232433\n",
       "loc_cycling_friendly          0.220810\n",
       "household_income              0.212752\n",
       "individual_income             0.212752\n",
       "commute_drive                 0.209854\n",
       "age_5_to_9                    0.206270\n",
       "owners                        0.175870\n",
       "multi_family                  0.166125\n",
       "edu_university_certificate    0.133778\n",
       "Name: price, dtype: float64"
      ]
     },
     "execution_count": 65,
     "metadata": {},
     "output_type": "execute_result"
    }
   ],
   "source": [
    "df_enc.corr(numeric_only=True)[\"price\"].sort_values(ascending=False).head(20)"
   ]
  },
  {
   "cell_type": "code",
   "execution_count": 66,
   "metadata": {},
   "outputs": [],
   "source": [
    "from sklearn.model_selection import cross_val_score, KFold\n"
   ]
  },
  {
   "cell_type": "code",
   "execution_count": 67,
   "metadata": {},
   "outputs": [],
   "source": [
    "kf = KFold(n_splits=5)"
   ]
  },
  {
   "cell_type": "code",
   "execution_count": 68,
   "metadata": {},
   "outputs": [],
   "source": [
    "from sklearn.ensemble import RandomForestRegressor\n",
    "\n",
    "\n",
    "rf = RandomForestRegressor(max_depth=5)"
   ]
  },
  {
   "cell_type": "code",
   "execution_count": 69,
   "metadata": {},
   "outputs": [
    {
     "name": "stderr",
     "output_type": "stream",
     "text": [
      "/home/soheil/codes/House-Pred-CA/House-Pred-CA/.venv/lib64/python3.12/site-packages/sklearn/base.py:1474: DataConversionWarning: A column-vector y was passed when a 1d array was expected. Please change the shape of y to (n_samples,), for example using ravel().\n",
      "  return fit_method(estimator, *args, **kwargs)\n",
      "/home/soheil/codes/House-Pred-CA/House-Pred-CA/.venv/lib64/python3.12/site-packages/sklearn/base.py:1474: DataConversionWarning: A column-vector y was passed when a 1d array was expected. Please change the shape of y to (n_samples,), for example using ravel().\n",
      "  return fit_method(estimator, *args, **kwargs)\n",
      "/home/soheil/codes/House-Pred-CA/House-Pred-CA/.venv/lib64/python3.12/site-packages/sklearn/base.py:1474: DataConversionWarning: A column-vector y was passed when a 1d array was expected. Please change the shape of y to (n_samples,), for example using ravel().\n",
      "  return fit_method(estimator, *args, **kwargs)\n",
      "/home/soheil/codes/House-Pred-CA/House-Pred-CA/.venv/lib64/python3.12/site-packages/sklearn/base.py:1474: DataConversionWarning: A column-vector y was passed when a 1d array was expected. Please change the shape of y to (n_samples,), for example using ravel().\n",
      "  return fit_method(estimator, *args, **kwargs)\n",
      "/home/soheil/codes/House-Pred-CA/House-Pred-CA/.venv/lib64/python3.12/site-packages/sklearn/base.py:1474: DataConversionWarning: A column-vector y was passed when a 1d array was expected. Please change the shape of y to (n_samples,), for example using ravel().\n",
      "  return fit_method(estimator, *args, **kwargs)\n"
     ]
    },
    {
     "data": {
      "text/plain": [
       "array([-2.56950383,  0.67594744,  0.35990371,  0.68043737,  0.28937875])"
      ]
     },
     "execution_count": 69,
     "metadata": {},
     "output_type": "execute_result"
    }
   ],
   "source": [
    "cross_val_score(rf, X_scaled, y_scaled, cv=kf, scoring=\"r2\")"
   ]
  },
  {
   "cell_type": "code",
   "execution_count": 70,
   "metadata": {},
   "outputs": [],
   "source": [
    "from xgboost import XGBRegressor"
   ]
  },
  {
   "cell_type": "code",
   "execution_count": 71,
   "metadata": {},
   "outputs": [],
   "source": [
    "xgb = XGBRegressor()"
   ]
  },
  {
   "cell_type": "code",
   "execution_count": 72,
   "metadata": {},
   "outputs": [
    {
     "data": {
      "text/plain": [
       "array([-7.86843111,  0.62179765,  0.18040775,  0.52300674,  0.23301193])"
      ]
     },
     "execution_count": 72,
     "metadata": {},
     "output_type": "execute_result"
    }
   ],
   "source": [
    "cross_val_score(xgb, X_scaled, y_scaled, cv=kf, scoring=\"r2\")"
   ]
  },
  {
   "cell_type": "code",
   "execution_count": 73,
   "metadata": {},
   "outputs": [],
   "source": [
    "xgb.fit(X_scaled, y_scaled)\n",
    "y_pred = xgb.predict(X_scaled)"
   ]
  },
  {
   "cell_type": "code",
   "execution_count": 74,
   "metadata": {},
   "outputs": [
    {
     "data": {
      "text/plain": [
       "<matplotlib.collections.PathCollection at 0x7f5620122a50>"
      ]
     },
     "execution_count": 74,
     "metadata": {},
     "output_type": "execute_result"
    },
    {
     "data": {
      "image/png": "[encoded data removed]",
      "text/plain": [
       "<Figure size 1200x800 with 1 Axes>"
      ]
     },
     "metadata": {},
     "output_type": "display_data"
    }
   ],
   "source": [
    "plt.figure(figsize=(12,8))\n",
    "plt.scatter(np.log(df_enc[\"size_interior\"]), y_scaled, c=\"blue\")\n",
    "plt.scatter(np.log(df_enc[\"size_interior\"]), y_pred, c=\"red\")"
   ]
  },
  {
   "cell_type": "code",
   "execution_count": 75,
   "metadata": {},
   "outputs": [
    {
     "data": {
      "text/plain": [
       "<matplotlib.collections.PathCollection at 0x7f562012e420>"
      ]
     },
     "execution_count": 75,
     "metadata": {},
     "output_type": "execute_result"
    },
    {
     "data": {
      "image/png": "[encoded data removed]",
      "text/plain": [
       "<Figure size 1200x800 with 1 Axes>"
      ]
     },
     "metadata": {},
     "output_type": "display_data"
    }
   ],
   "source": [
    "plt.figure(figsize=(12,8))\n",
    "plt.scatter(df_enc[\"size_interior\"], y_scaled, c=\"blue\")\n",
    "plt.scatter(df_enc[\"size_interior\"], y_pred, c=\"red\")"
   ]
  },
  {
   "cell_type": "code",
   "execution_count": 76,
   "metadata": {},
   "outputs": [],
   "source": [
    "from sklearn.model_selection import train_test_split\n",
    "\n",
    "X_train, X_test, y_train, y_test = train_test_split(X_scaled, y_scaled, test_size=0.2)"
   ]
  },
  {
   "cell_type": "code",
   "execution_count": 77,
   "metadata": {},
   "outputs": [],
   "source": [
    "xgb.fit(X_train, y_train)\n",
    "y_pred = xgb.predict(X_test)"
   ]
  },
  {
   "cell_type": "code",
   "execution_count": 78,
   "metadata": {},
   "outputs": [
    {
     "data": {
      "text/plain": [
       "0.6693177335347197"
      ]
     },
     "execution_count": 78,
     "metadata": {},
     "output_type": "execute_result"
    }
   ],
   "source": [
    "from sklearn.metrics import r2_score\n",
    "r2_score(y_test, y_pred)"
   ]
  },
  {
   "cell_type": "code",
   "execution_count": 79,
   "metadata": {},
   "outputs": [
    {
     "data": {
      "text/plain": [
       "(39, 72)"
      ]
     },
     "execution_count": 79,
     "metadata": {},
     "output_type": "execute_result"
    }
   ],
   "source": [
    "X_train.shape"
   ]
  },
  {
   "cell_type": "code",
   "execution_count": 80,
   "metadata": {},
   "outputs": [
    {
     "data": {
      "text/plain": [
       "(48, 73)"
      ]
     },
     "execution_count": 80,
     "metadata": {},
     "output_type": "execute_result"
    }
   ],
   "source": [
    "df_enc[(df_enc[\"household_income\"].notna()) & df_enc[\"loc_parks\"].notna()].shape"
   ]
  },
  {
   "cell_type": "code",
   "execution_count": 81,
   "metadata": {},
   "outputs": [],
   "source": [
    "# We therefore conclude that XGBoost and RandomForest Ignore the samples with NA"
   ]
  }
 ],
 "metadata": {
  "kernelspec": {
   "display_name": ".venv",
   "language": "python",
   "name": "python3"
  },
  "language_info": {
   "codemirror_mode": {
    "name": "ipython",
    "version": 3
   },
   "file_extension": ".py",
   "mimetype": "text/x-python",
   "name": "python",
   "nbconvert_exporter": "python",
   "pygments_lexer": "ipython3",
   "version": "3.12.2"
  }
 },
 "nbformat": 4,
 "nbformat_minor": 2
}
