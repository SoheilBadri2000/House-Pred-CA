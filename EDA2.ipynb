{
 "cells": [
  {
   "cell_type": "code",
   "execution_count": 1,
   "metadata": {},
   "outputs": [],
   "source": [
    "import pandas as pd\n",
    "import numpy as np\n",
    "import matplotlib.pyplot as plt\n",
    "# import seaborn as sns"
   ]
  },
  {
   "cell_type": "code",
   "execution_count": 2,
   "metadata": {},
   "outputs": [],
   "source": [
    "df = pd.read_csv(\"data/lof/data-lof-2024-04-01.csv\")"
   ]
  },
  {
   "cell_type": "code",
   "execution_count": 3,
   "metadata": {},
   "outputs": [
    {
     "data": {
      "text/plain": [
       "province\n",
       "Ontario                    32102\n",
       "British Columbia           18114\n",
       "Alberta                    10958\n",
       "Quebec                      6869\n",
       "Saskatchewan                3513\n",
       "Manitoba                    2378\n",
       "Nova Scotia                 1597\n",
       "New Brunswick               1137\n",
       "Prince Edward Island         342\n",
       "Newfoundland & Labrador      318\n",
       "Yukon                         81\n",
       "Northwest Territories         46\n",
       "Name: count, dtype: int64"
      ]
     },
     "execution_count": 3,
     "metadata": {},
     "output_type": "execute_result"
    }
   ],
   "source": [
    "df[\"province\"].value_counts()"
   ]
  },
  {
   "cell_type": "code",
   "execution_count": 4,
   "metadata": {},
   "outputs": [
    {
     "name": "stdout",
     "output_type": "stream",
     "text": [
      "<class 'pandas.core.frame.DataFrame'>\n",
      "RangeIndex: 77455 entries, 0 to 77454\n",
      "Data columns (total 22 columns):\n",
      " #   Column                    Non-Null Count  Dtype  \n",
      "---  ------                    --------------  -----  \n",
      " 0   id                        77455 non-null  float64\n",
      " 1   id_mls                    77455 non-null  object \n",
      " 2   bathrooms_total           77455 non-null  float64\n",
      " 3   bedrooms_extra            77455 non-null  float64\n",
      " 4   bedrooms                  77455 non-null  float64\n",
      " 5   stories_total             77455 non-null  float64\n",
      " 6   size_interior             77455 non-null  float64\n",
      " 7   building_type             77455 non-null  object \n",
      " 8   agency_name               77455 non-null  object \n",
      " 9   agency_type               77455 non-null  object \n",
      " 10  property_type             77455 non-null  object \n",
      " 11  lng                       77455 non-null  float64\n",
      " 12  lat                       77455 non-null  float64\n",
      " 13  ownership_type            77455 non-null  object \n",
      " 14  ownership_type_group_ids  77455 non-null  int64  \n",
      " 15  land_size                 66069 non-null  object \n",
      " 16  parkings                  77455 non-null  float64\n",
      " 17  page_url                  77455 non-null  object \n",
      " 18  timestamp                 77455 non-null  float64\n",
      " 19  postal_code               77147 non-null  object \n",
      " 20  province                  77455 non-null  object \n",
      " 21  price                     77455 non-null  float64\n",
      "dtypes: float64(11), int64(1), object(10)\n",
      "memory usage: 13.0+ MB\n"
     ]
    }
   ],
   "source": [
    "df.info()"
   ]
  },
  {
   "cell_type": "code",
   "execution_count": 5,
   "metadata": {},
   "outputs": [],
   "source": [
    "df_dem = pd.read_csv(\"data/LocalLogic/Demographics/demographics-2024-04-01.csv\")\n",
    "df_loc = pd.read_csv(\"data/LocalLogic/Locations/locations-2024-04-01.csv\")\n",
    "\n",
    "df = pd.merge(df, df_dem, on=\"id\")\n",
    "df = pd.merge(df, df_loc, on=\"id\")"
   ]
  },
  {
   "cell_type": "code",
   "execution_count": 6,
   "metadata": {},
   "outputs": [
    {
     "name": "stdout",
     "output_type": "stream",
     "text": [
      "<class 'pandas.core.frame.DataFrame'>\n",
      "RangeIndex: 98885 entries, 0 to 98884\n",
      "Data columns (total 18 columns):\n",
      " #   Column                   Non-Null Count  Dtype  \n",
      "---  ------                   --------------  -----  \n",
      " 0   id                       98885 non-null  int64  \n",
      " 1   loc_high_schools         98814 non-null  float64\n",
      " 2   loc_primary_schools      98814 non-null  float64\n",
      " 3   loc_transit_friendly     98814 non-null  float64\n",
      " 4   loc_groceries            98814 non-null  float64\n",
      " 5   loc_wellness             98814 non-null  float64\n",
      " 6   loc_restaurants          98814 non-null  float64\n",
      " 7   loc_pedestrian_friendly  98814 non-null  float64\n",
      " 8   loc_greenery             98814 non-null  float64\n",
      " 9   loc_cycling_friendly     98814 non-null  float64\n",
      " 10  loc_car_friendly         98814 non-null  float64\n",
      " 11  loc_vibrant              98814 non-null  float64\n",
      " 12  loc_shopping             98814 non-null  float64\n",
      " 13  loc_daycares             98814 non-null  float64\n",
      " 14  loc_nightlife            98814 non-null  float64\n",
      " 15  loc_cafes                98814 non-null  float64\n",
      " 16  loc_quiet                98814 non-null  float64\n",
      " 17  loc_parks                98814 non-null  float64\n",
      "dtypes: float64(17), int64(1)\n",
      "memory usage: 13.6 MB\n"
     ]
    }
   ],
   "source": [
    "df_loc.info()"
   ]
  },
  {
   "cell_type": "code",
   "execution_count": 7,
   "metadata": {},
   "outputs": [
    {
     "name": "stdout",
     "output_type": "stream",
     "text": [
      "<class 'pandas.core.frame.DataFrame'>\n",
      "RangeIndex: 77455 entries, 0 to 77454\n",
      "Data columns (total 79 columns):\n",
      " #   Column                      Non-Null Count  Dtype  \n",
      "---  ------                      --------------  -----  \n",
      " 0   id                          77455 non-null  float64\n",
      " 1   id_mls                      77455 non-null  object \n",
      " 2   bathrooms_total             77455 non-null  float64\n",
      " 3   bedrooms_extra              77455 non-null  float64\n",
      " 4   bedrooms                    77455 non-null  float64\n",
      " 5   stories_total               77455 non-null  float64\n",
      " 6   size_interior               77455 non-null  float64\n",
      " 7   building_type               77455 non-null  object \n",
      " 8   agency_name                 77455 non-null  object \n",
      " 9   agency_type                 77455 non-null  object \n",
      " 10  property_type               77455 non-null  object \n",
      " 11  lng                         77455 non-null  float64\n",
      " 12  lat                         77455 non-null  float64\n",
      " 13  ownership_type              77455 non-null  object \n",
      " 14  ownership_type_group_ids    77455 non-null  int64  \n",
      " 15  land_size                   66069 non-null  object \n",
      " 16  parkings                    77455 non-null  float64\n",
      " 17  page_url                    77455 non-null  object \n",
      " 18  timestamp                   77455 non-null  float64\n",
      " 19  postal_code                 77147 non-null  object \n",
      " 20  province                    77455 non-null  object \n",
      " 21  price                       77455 non-null  float64\n",
      " 22  household_income            76753 non-null  float64\n",
      " 23  individual_income           76753 non-null  float64\n",
      " 24  commute_transit             76753 non-null  float64\n",
      " 25  commute_foot                76753 non-null  float64\n",
      " 26  commute_bicycle             76753 non-null  float64\n",
      " 27  commute_drive               76753 non-null  float64\n",
      " 28  single_family               76753 non-null  float64\n",
      " 29  multi_family                76753 non-null  float64\n",
      " 30  single_person               76753 non-null  float64\n",
      " 31  multi_person                76753 non-null  float64\n",
      " 32  total_individuals           76753 non-null  float64\n",
      " 33  age_0_to_4                  76753 non-null  float64\n",
      " 34  age_5_to_9                  76753 non-null  float64\n",
      " 35  age_10_to_14                76753 non-null  float64\n",
      " 36  age_15_to_19                76753 non-null  float64\n",
      " 37  age_20_to_34                76753 non-null  float64\n",
      " 38  age_35_to_49                76753 non-null  float64\n",
      " 39  age_50_to_64                76753 non-null  float64\n",
      " 40  age_65_to_79                76753 non-null  float64\n",
      " 41  age_80_plus                 76753 non-null  float64\n",
      " 42  owners                      76753 non-null  float64\n",
      " 43  renters                     76753 non-null  float64\n",
      " 44  lang_en_only                76753 non-null  float64\n",
      " 45  lang_fr_only                76753 non-null  float64\n",
      " 46  lang_en_and_fr              76753 non-null  float64\n",
      " 47  lang_other                  76753 non-null  float64\n",
      " 48  edu_no_high_school          76753 non-null  float64\n",
      " 49  edu_high_school             76753 non-null  float64\n",
      " 50  edu_trade_certificate       76753 non-null  float64\n",
      " 51  edu_college_certificate     76753 non-null  float64\n",
      " 52  edu_university_certificate  76753 non-null  float64\n",
      " 53  edu_bachelor_degree         76753 non-null  float64\n",
      " 54  edu_post_graduate_degree    76753 non-null  float64\n",
      " 55  household_children          76753 non-null  float64\n",
      " 56  area_single_detached        76753 non-null  float64\n",
      " 57  area_semi_detached          76753 non-null  float64\n",
      " 58  area_duplex                 76753 non-null  float64\n",
      " 59  area_row_houses             76753 non-null  float64\n",
      " 60  area_apt_1_to_4_floors      76753 non-null  float64\n",
      " 61  area_apt_5_plus_floors      76753 non-null  float64\n",
      " 62  loc_high_schools            77404 non-null  float64\n",
      " 63  loc_primary_schools         77404 non-null  float64\n",
      " 64  loc_transit_friendly        77404 non-null  float64\n",
      " 65  loc_groceries               77404 non-null  float64\n",
      " 66  loc_wellness                77404 non-null  float64\n",
      " 67  loc_restaurants             77404 non-null  float64\n",
      " 68  loc_pedestrian_friendly     77404 non-null  float64\n",
      " 69  loc_greenery                77404 non-null  float64\n",
      " 70  loc_cycling_friendly        77404 non-null  float64\n",
      " 71  loc_car_friendly            77404 non-null  float64\n",
      " 72  loc_vibrant                 77404 non-null  float64\n",
      " 73  loc_shopping                77404 non-null  float64\n",
      " 74  loc_daycares                77404 non-null  float64\n",
      " 75  loc_nightlife               77404 non-null  float64\n",
      " 76  loc_cafes                   77404 non-null  float64\n",
      " 77  loc_quiet                   77404 non-null  float64\n",
      " 78  loc_parks                   77404 non-null  float64\n",
      "dtypes: float64(68), int64(1), object(10)\n",
      "memory usage: 46.7+ MB\n"
     ]
    }
   ],
   "source": [
    "df.info()"
   ]
  },
  {
   "cell_type": "code",
   "execution_count": 8,
   "metadata": {},
   "outputs": [
    {
     "data": {
      "text/plain": [
       "province\n",
       "Ontario                    32102\n",
       "British Columbia           18114\n",
       "Alberta                    10958\n",
       "Quebec                      6869\n",
       "Saskatchewan                3513\n",
       "Manitoba                    2378\n",
       "Nova Scotia                 1597\n",
       "New Brunswick               1137\n",
       "Prince Edward Island         342\n",
       "Newfoundland & Labrador      318\n",
       "Yukon                         81\n",
       "Northwest Territories         46\n",
       "Name: count, dtype: int64"
      ]
     },
     "execution_count": 8,
     "metadata": {},
     "output_type": "execute_result"
    }
   ],
   "source": [
    "df[\"province\"].value_counts()"
   ]
  },
  {
   "cell_type": "markdown",
   "metadata": {},
   "source": [
    "## First Glance"
   ]
  },
  {
   "cell_type": "code",
   "execution_count": 9,
   "metadata": {},
   "outputs": [
    {
     "data": {
      "text/html": [
       "<div>\n",
       "<style scoped>\n",
       "    .dataframe tbody tr th:only-of-type {\n",
       "        vertical-align: middle;\n",
       "    }\n",
       "\n",
       "    .dataframe tbody tr th {\n",
       "        vertical-align: top;\n",
       "    }\n",
       "\n",
       "    .dataframe thead th {\n",
       "        text-align: right;\n",
       "    }\n",
       "</style>\n",
       "<table border=\"1\" class=\"dataframe\">\n",
       "  <thead>\n",
       "    <tr style=\"text-align: right;\">\n",
       "      <th></th>\n",
       "      <th>id</th>\n",
       "      <th>id_mls</th>\n",
       "      <th>bathrooms_total</th>\n",
       "      <th>bedrooms_extra</th>\n",
       "      <th>bedrooms</th>\n",
       "      <th>stories_total</th>\n",
       "      <th>size_interior</th>\n",
       "      <th>building_type</th>\n",
       "      <th>agency_name</th>\n",
       "      <th>agency_type</th>\n",
       "      <th>...</th>\n",
       "      <th>loc_greenery</th>\n",
       "      <th>loc_cycling_friendly</th>\n",
       "      <th>loc_car_friendly</th>\n",
       "      <th>loc_vibrant</th>\n",
       "      <th>loc_shopping</th>\n",
       "      <th>loc_daycares</th>\n",
       "      <th>loc_nightlife</th>\n",
       "      <th>loc_cafes</th>\n",
       "      <th>loc_quiet</th>\n",
       "      <th>loc_parks</th>\n",
       "    </tr>\n",
       "  </thead>\n",
       "  <tbody>\n",
       "    <tr>\n",
       "      <th>0</th>\n",
       "      <td>26639235.0</td>\n",
       "      <td>24005541</td>\n",
       "      <td>3.0</td>\n",
       "      <td>0.0</td>\n",
       "      <td>4.0</td>\n",
       "      <td>2.5</td>\n",
       "      <td>2810.000000</td>\n",
       "      <td>House</td>\n",
       "      <td>RE/MAX PREFERRED REALTY LTD. - 585</td>\n",
       "      <td>Firm</td>\n",
       "      <td>...</td>\n",
       "      <td>0.0</td>\n",
       "      <td>3.5</td>\n",
       "      <td>3.0</td>\n",
       "      <td>1.5</td>\n",
       "      <td>2.5</td>\n",
       "      <td>5.0</td>\n",
       "      <td>2.0</td>\n",
       "      <td>3.0</td>\n",
       "      <td>5.0</td>\n",
       "      <td>3.5</td>\n",
       "    </tr>\n",
       "    <tr>\n",
       "      <th>1</th>\n",
       "      <td>26639230.0</td>\n",
       "      <td>24005774</td>\n",
       "      <td>2.0</td>\n",
       "      <td>0.0</td>\n",
       "      <td>2.0</td>\n",
       "      <td>1.0</td>\n",
       "      <td>1072.000000</td>\n",
       "      <td>Apartment</td>\n",
       "      <td>ROYAL LEPAGE BINDER REAL ESTATE - 640</td>\n",
       "      <td>Firm</td>\n",
       "      <td>...</td>\n",
       "      <td>0.0</td>\n",
       "      <td>3.0</td>\n",
       "      <td>4.5</td>\n",
       "      <td>1.0</td>\n",
       "      <td>3.0</td>\n",
       "      <td>4.5</td>\n",
       "      <td>0.5</td>\n",
       "      <td>1.5</td>\n",
       "      <td>4.5</td>\n",
       "      <td>3.5</td>\n",
       "    </tr>\n",
       "    <tr>\n",
       "      <th>2</th>\n",
       "      <td>26639229.0</td>\n",
       "      <td>24005776</td>\n",
       "      <td>3.0</td>\n",
       "      <td>0.0</td>\n",
       "      <td>4.0</td>\n",
       "      <td>2.0</td>\n",
       "      <td>1965.881818</td>\n",
       "      <td>House</td>\n",
       "      <td>RE/MAX CAPITAL DIAMOND REALTY - 821</td>\n",
       "      <td>Firm</td>\n",
       "      <td>...</td>\n",
       "      <td>0.0</td>\n",
       "      <td>2.5</td>\n",
       "      <td>4.0</td>\n",
       "      <td>0.5</td>\n",
       "      <td>1.0</td>\n",
       "      <td>5.0</td>\n",
       "      <td>0.0</td>\n",
       "      <td>1.0</td>\n",
       "      <td>5.0</td>\n",
       "      <td>0.0</td>\n",
       "    </tr>\n",
       "    <tr>\n",
       "      <th>3</th>\n",
       "      <td>26639225.0</td>\n",
       "      <td>24005786</td>\n",
       "      <td>1.0</td>\n",
       "      <td>0.0</td>\n",
       "      <td>4.0</td>\n",
       "      <td>1.0</td>\n",
       "      <td>1040.426146</td>\n",
       "      <td>House</td>\n",
       "      <td>REMO VALENTE REAL ESTATE (1990) LIMITED - 790</td>\n",
       "      <td>Firm</td>\n",
       "      <td>...</td>\n",
       "      <td>0.0</td>\n",
       "      <td>3.5</td>\n",
       "      <td>3.5</td>\n",
       "      <td>2.0</td>\n",
       "      <td>2.0</td>\n",
       "      <td>4.0</td>\n",
       "      <td>2.0</td>\n",
       "      <td>2.5</td>\n",
       "      <td>3.0</td>\n",
       "      <td>3.5</td>\n",
       "    </tr>\n",
       "    <tr>\n",
       "      <th>4</th>\n",
       "      <td>26638943.0</td>\n",
       "      <td>24005775</td>\n",
       "      <td>1.0</td>\n",
       "      <td>0.0</td>\n",
       "      <td>3.0</td>\n",
       "      <td>1.0</td>\n",
       "      <td>3718.455676</td>\n",
       "      <td>House</td>\n",
       "      <td>RE/MAX CAPITAL DIAMOND REALTY - 821</td>\n",
       "      <td>Firm</td>\n",
       "      <td>...</td>\n",
       "      <td>0.0</td>\n",
       "      <td>3.0</td>\n",
       "      <td>4.0</td>\n",
       "      <td>1.5</td>\n",
       "      <td>2.0</td>\n",
       "      <td>4.0</td>\n",
       "      <td>1.5</td>\n",
       "      <td>2.0</td>\n",
       "      <td>4.0</td>\n",
       "      <td>3.5</td>\n",
       "    </tr>\n",
       "  </tbody>\n",
       "</table>\n",
       "<p>5 rows × 79 columns</p>\n",
       "</div>"
      ],
      "text/plain": [
       "           id    id_mls  bathrooms_total  bedrooms_extra  bedrooms  \\\n",
       "0  26639235.0  24005541              3.0             0.0       4.0   \n",
       "1  26639230.0  24005774              2.0             0.0       2.0   \n",
       "2  26639229.0  24005776              3.0             0.0       4.0   \n",
       "3  26639225.0  24005786              1.0             0.0       4.0   \n",
       "4  26638943.0  24005775              1.0             0.0       3.0   \n",
       "\n",
       "   stories_total  size_interior building_type  \\\n",
       "0            2.5    2810.000000         House   \n",
       "1            1.0    1072.000000     Apartment   \n",
       "2            2.0    1965.881818         House   \n",
       "3            1.0    1040.426146         House   \n",
       "4            1.0    3718.455676         House   \n",
       "\n",
       "                                     agency_name agency_type  ...  \\\n",
       "0             RE/MAX PREFERRED REALTY LTD. - 585        Firm  ...   \n",
       "1          ROYAL LEPAGE BINDER REAL ESTATE - 640        Firm  ...   \n",
       "2            RE/MAX CAPITAL DIAMOND REALTY - 821        Firm  ...   \n",
       "3  REMO VALENTE REAL ESTATE (1990) LIMITED - 790        Firm  ...   \n",
       "4            RE/MAX CAPITAL DIAMOND REALTY - 821        Firm  ...   \n",
       "\n",
       "  loc_greenery  loc_cycling_friendly  loc_car_friendly loc_vibrant  \\\n",
       "0          0.0                   3.5               3.0         1.5   \n",
       "1          0.0                   3.0               4.5         1.0   \n",
       "2          0.0                   2.5               4.0         0.5   \n",
       "3          0.0                   3.5               3.5         2.0   \n",
       "4          0.0                   3.0               4.0         1.5   \n",
       "\n",
       "   loc_shopping loc_daycares  loc_nightlife loc_cafes  loc_quiet loc_parks  \n",
       "0           2.5          5.0            2.0       3.0        5.0       3.5  \n",
       "1           3.0          4.5            0.5       1.5        4.5       3.5  \n",
       "2           1.0          5.0            0.0       1.0        5.0       0.0  \n",
       "3           2.0          4.0            2.0       2.5        3.0       3.5  \n",
       "4           2.0          4.0            1.5       2.0        4.0       3.5  \n",
       "\n",
       "[5 rows x 79 columns]"
      ]
     },
     "execution_count": 9,
     "metadata": {},
     "output_type": "execute_result"
    }
   ],
   "source": [
    "df.head()"
   ]
  },
  {
   "cell_type": "markdown",
   "metadata": {},
   "source": [
    "## Removing Unwanted Features"
   ]
  },
  {
   "cell_type": "code",
   "execution_count": 10,
   "metadata": {},
   "outputs": [
    {
     "name": "stdout",
     "output_type": "stream",
     "text": [
      "<class 'pandas.core.frame.DataFrame'>\n",
      "RangeIndex: 77455 entries, 0 to 77454\n",
      "Data columns (total 69 columns):\n",
      " #   Column                      Non-Null Count  Dtype  \n",
      "---  ------                      --------------  -----  \n",
      " 0   bathrooms_total             77455 non-null  float64\n",
      " 1   bedrooms_extra              77455 non-null  float64\n",
      " 2   bedrooms                    77455 non-null  float64\n",
      " 3   stories_total               77455 non-null  float64\n",
      " 4   size_interior               77455 non-null  float64\n",
      " 5   building_type               77455 non-null  object \n",
      " 6   lng                         77455 non-null  float64\n",
      " 7   lat                         77455 non-null  float64\n",
      " 8   ownership_type_group_ids    77455 non-null  int64  \n",
      " 9   parkings                    77455 non-null  float64\n",
      " 10  province                    77455 non-null  object \n",
      " 11  price                       77455 non-null  float64\n",
      " 12  household_income            76753 non-null  float64\n",
      " 13  individual_income           76753 non-null  float64\n",
      " 14  commute_transit             76753 non-null  float64\n",
      " 15  commute_foot                76753 non-null  float64\n",
      " 16  commute_bicycle             76753 non-null  float64\n",
      " 17  commute_drive               76753 non-null  float64\n",
      " 18  single_family               76753 non-null  float64\n",
      " 19  multi_family                76753 non-null  float64\n",
      " 20  single_person               76753 non-null  float64\n",
      " 21  multi_person                76753 non-null  float64\n",
      " 22  total_individuals           76753 non-null  float64\n",
      " 23  age_0_to_4                  76753 non-null  float64\n",
      " 24  age_5_to_9                  76753 non-null  float64\n",
      " 25  age_10_to_14                76753 non-null  float64\n",
      " 26  age_15_to_19                76753 non-null  float64\n",
      " 27  age_20_to_34                76753 non-null  float64\n",
      " 28  age_35_to_49                76753 non-null  float64\n",
      " 29  age_50_to_64                76753 non-null  float64\n",
      " 30  age_65_to_79                76753 non-null  float64\n",
      " 31  age_80_plus                 76753 non-null  float64\n",
      " 32  owners                      76753 non-null  float64\n",
      " 33  renters                     76753 non-null  float64\n",
      " 34  lang_en_only                76753 non-null  float64\n",
      " 35  lang_fr_only                76753 non-null  float64\n",
      " 36  lang_en_and_fr              76753 non-null  float64\n",
      " 37  lang_other                  76753 non-null  float64\n",
      " 38  edu_no_high_school          76753 non-null  float64\n",
      " 39  edu_high_school             76753 non-null  float64\n",
      " 40  edu_trade_certificate       76753 non-null  float64\n",
      " 41  edu_college_certificate     76753 non-null  float64\n",
      " 42  edu_university_certificate  76753 non-null  float64\n",
      " 43  edu_bachelor_degree         76753 non-null  float64\n",
      " 44  edu_post_graduate_degree    76753 non-null  float64\n",
      " 45  household_children          76753 non-null  float64\n",
      " 46  area_single_detached        76753 non-null  float64\n",
      " 47  area_semi_detached          76753 non-null  float64\n",
      " 48  area_duplex                 76753 non-null  float64\n",
      " 49  area_row_houses             76753 non-null  float64\n",
      " 50  area_apt_1_to_4_floors      76753 non-null  float64\n",
      " 51  area_apt_5_plus_floors      76753 non-null  float64\n",
      " 52  loc_high_schools            77404 non-null  float64\n",
      " 53  loc_primary_schools         77404 non-null  float64\n",
      " 54  loc_transit_friendly        77404 non-null  float64\n",
      " 55  loc_groceries               77404 non-null  float64\n",
      " 56  loc_wellness                77404 non-null  float64\n",
      " 57  loc_restaurants             77404 non-null  float64\n",
      " 58  loc_pedestrian_friendly     77404 non-null  float64\n",
      " 59  loc_greenery                77404 non-null  float64\n",
      " 60  loc_cycling_friendly        77404 non-null  float64\n",
      " 61  loc_car_friendly            77404 non-null  float64\n",
      " 62  loc_vibrant                 77404 non-null  float64\n",
      " 63  loc_shopping                77404 non-null  float64\n",
      " 64  loc_daycares                77404 non-null  float64\n",
      " 65  loc_nightlife               77404 non-null  float64\n",
      " 66  loc_cafes                   77404 non-null  float64\n",
      " 67  loc_quiet                   77404 non-null  float64\n",
      " 68  loc_parks                   77404 non-null  float64\n",
      "dtypes: float64(66), int64(1), object(2)\n",
      "memory usage: 40.8+ MB\n"
     ]
    }
   ],
   "source": [
    "df = df.drop([\"id\", \"id_mls\", \"agency_name\", \"agency_type\", \"property_type\", \"ownership_type\", \"land_size\", \"page_url\", \"timestamp\", \"postal_code\"], axis=1)\n",
    "\n",
    "# df = df[[\"bathrooms_total\",\n",
    "#     \"bedrooms_extra\",\n",
    "#     \"bedrooms\",\n",
    "#     \"stories_total\",\n",
    "#     \"size_interior\",\n",
    "#     \"building_type\",\n",
    "#     \"lng\",\n",
    "#     \"lat\",\n",
    "#     \"ownership_type_group_ids\",\n",
    "#     \"parkings\",\n",
    "#     \"province\",\n",
    "#     \"price\"]]\n",
    "\n",
    "df.info()"
   ]
  },
  {
   "cell_type": "code",
   "execution_count": 11,
   "metadata": {},
   "outputs": [
    {
     "data": {
      "text/plain": [
       "<matplotlib.collections.PathCollection at 0x7f55ddbe3620>"
      ]
     },
     "execution_count": 11,
     "metadata": {},
     "output_type": "execute_result"
    },
    {
     "data": {
      "image/png": "[encoded data removed]",
      "text/plain": [
       "<Figure size 1200x800 with 1 Axes>"
      ]
     },
     "metadata": {},
     "output_type": "display_data"
    }
   ],
   "source": [
    "plt.figure(figsize=(12,8))\n",
    "plt.grid()\n",
    "plt.scatter(df[\"lng\"], df[\"lat\"], alpha=0.2, s=1)"
   ]
  },
  {
   "cell_type": "code",
   "execution_count": 12,
   "metadata": {},
   "outputs": [
    {
     "name": "stdout",
     "output_type": "stream",
     "text": [
      "<class 'pandas.core.frame.DataFrame'>\n",
      "RangeIndex: 77455 entries, 0 to 77454\n",
      "Data columns (total 69 columns):\n",
      " #   Column                      Non-Null Count  Dtype  \n",
      "---  ------                      --------------  -----  \n",
      " 0   bathrooms_total             77455 non-null  float64\n",
      " 1   bedrooms_extra              77455 non-null  float64\n",
      " 2   bedrooms                    77455 non-null  float64\n",
      " 3   stories_total               77455 non-null  float64\n",
      " 4   size_interior               77455 non-null  float64\n",
      " 5   building_type               77455 non-null  object \n",
      " 6   lng                         77455 non-null  float64\n",
      " 7   lat                         77455 non-null  float64\n",
      " 8   ownership_type_group_ids    77455 non-null  int64  \n",
      " 9   parkings                    77455 non-null  float64\n",
      " 10  province                    77455 non-null  object \n",
      " 11  price                       77455 non-null  float64\n",
      " 12  household_income            76753 non-null  float64\n",
      " 13  individual_income           76753 non-null  float64\n",
      " 14  commute_transit             76753 non-null  float64\n",
      " 15  commute_foot                76753 non-null  float64\n",
      " 16  commute_bicycle             76753 non-null  float64\n",
      " 17  commute_drive               76753 non-null  float64\n",
      " 18  single_family               76753 non-null  float64\n",
      " 19  multi_family                76753 non-null  float64\n",
      " 20  single_person               76753 non-null  float64\n",
      " 21  multi_person                76753 non-null  float64\n",
      " 22  total_individuals           76753 non-null  float64\n",
      " 23  age_0_to_4                  76753 non-null  float64\n",
      " 24  age_5_to_9                  76753 non-null  float64\n",
      " 25  age_10_to_14                76753 non-null  float64\n",
      " 26  age_15_to_19                76753 non-null  float64\n",
      " 27  age_20_to_34                76753 non-null  float64\n",
      " 28  age_35_to_49                76753 non-null  float64\n",
      " 29  age_50_to_64                76753 non-null  float64\n",
      " 30  age_65_to_79                76753 non-null  float64\n",
      " 31  age_80_plus                 76753 non-null  float64\n",
      " 32  owners                      76753 non-null  float64\n",
      " 33  renters                     76753 non-null  float64\n",
      " 34  lang_en_only                76753 non-null  float64\n",
      " 35  lang_fr_only                76753 non-null  float64\n",
      " 36  lang_en_and_fr              76753 non-null  float64\n",
      " 37  lang_other                  76753 non-null  float64\n",
      " 38  edu_no_high_school          76753 non-null  float64\n",
      " 39  edu_high_school             76753 non-null  float64\n",
      " 40  edu_trade_certificate       76753 non-null  float64\n",
      " 41  edu_college_certificate     76753 non-null  float64\n",
      " 42  edu_university_certificate  76753 non-null  float64\n",
      " 43  edu_bachelor_degree         76753 non-null  float64\n",
      " 44  edu_post_graduate_degree    76753 non-null  float64\n",
      " 45  household_children          76753 non-null  float64\n",
      " 46  area_single_detached        76753 non-null  float64\n",
      " 47  area_semi_detached          76753 non-null  float64\n",
      " 48  area_duplex                 76753 non-null  float64\n",
      " 49  area_row_houses             76753 non-null  float64\n",
      " 50  area_apt_1_to_4_floors      76753 non-null  float64\n",
      " 51  area_apt_5_plus_floors      76753 non-null  float64\n",
      " 52  loc_high_schools            77404 non-null  float64\n",
      " 53  loc_primary_schools         77404 non-null  float64\n",
      " 54  loc_transit_friendly        77404 non-null  float64\n",
      " 55  loc_groceries               77404 non-null  float64\n",
      " 56  loc_wellness                77404 non-null  float64\n",
      " 57  loc_restaurants             77404 non-null  float64\n",
      " 58  loc_pedestrian_friendly     77404 non-null  float64\n",
      " 59  loc_greenery                77404 non-null  float64\n",
      " 60  loc_cycling_friendly        77404 non-null  float64\n",
      " 61  loc_car_friendly            77404 non-null  float64\n",
      " 62  loc_vibrant                 77404 non-null  float64\n",
      " 63  loc_shopping                77404 non-null  float64\n",
      " 64  loc_daycares                77404 non-null  float64\n",
      " 65  loc_nightlife               77404 non-null  float64\n",
      " 66  loc_cafes                   77404 non-null  float64\n",
      " 67  loc_quiet                   77404 non-null  float64\n",
      " 68  loc_parks                   77404 non-null  float64\n",
      "dtypes: float64(66), int64(1), object(2)\n",
      "memory usage: 40.8+ MB\n"
     ]
    }
   ],
   "source": [
    "df.info()"
   ]
  },
  {
   "cell_type": "code",
   "execution_count": 13,
   "metadata": {},
   "outputs": [],
   "source": [
    "from sklearn.preprocessing import OneHotEncoder, OrdinalEncoder"
   ]
  },
  {
   "cell_type": "code",
   "execution_count": 14,
   "metadata": {},
   "outputs": [],
   "source": [
    "# df = df.to_numpy()"
   ]
  },
  {
   "cell_type": "code",
   "execution_count": 15,
   "metadata": {},
   "outputs": [],
   "source": [
    "# cat_encoder = OrdinalEncoder(handle_unknown=\"use_encoded_value\", unknown_value=9999999)\n",
    "cat_encoder = OneHotEncoder()\n",
    "\n",
    "df_enc = cat_encoder.fit_transform(df)\n",
    "# df_sample_enc = cat_encoder.transform(df_sample)"
   ]
  },
  {
   "cell_type": "code",
   "execution_count": 16,
   "metadata": {},
   "outputs": [
    {
     "data": {
      "text/plain": [
       "(77455, 656837)"
      ]
     },
     "execution_count": 16,
     "metadata": {},
     "output_type": "execute_result"
    }
   ],
   "source": [
    "df_enc.shape"
   ]
  },
  {
   "cell_type": "code",
   "execution_count": 17,
   "metadata": {},
   "outputs": [
    {
     "data": {
      "text/plain": [
       "<77455x656837 sparse matrix of type '<class 'numpy.float64'>'\n",
       "\twith 5344395 stored elements in Compressed Sparse Row format>"
      ]
     },
     "execution_count": 17,
     "metadata": {},
     "output_type": "execute_result"
    }
   ],
   "source": [
    "df_enc"
   ]
  },
  {
   "cell_type": "code",
   "execution_count": 18,
   "metadata": {},
   "outputs": [
    {
     "data": {
      "text/plain": [
       "(6869, 72)"
      ]
     },
     "execution_count": 18,
     "metadata": {},
     "output_type": "execute_result"
    }
   ],
   "source": [
    "df_enc = pd.get_dummies(df[df[\"province\"] == \"Quebec\"])\n",
    "df_enc.shape"
   ]
  },
  {
   "cell_type": "code",
   "execution_count": 19,
   "metadata": {},
   "outputs": [
    {
     "data": {
      "text/html": [
       "<div>\n",
       "<style scoped>\n",
       "    .dataframe tbody tr th:only-of-type {\n",
       "        vertical-align: middle;\n",
       "    }\n",
       "\n",
       "    .dataframe tbody tr th {\n",
       "        vertical-align: top;\n",
       "    }\n",
       "\n",
       "    .dataframe thead th {\n",
       "        text-align: right;\n",
       "    }\n",
       "</style>\n",
       "<table border=\"1\" class=\"dataframe\">\n",
       "  <thead>\n",
       "    <tr style=\"text-align: right;\">\n",
       "      <th></th>\n",
       "      <th>bathrooms_total</th>\n",
       "      <th>bedrooms_extra</th>\n",
       "      <th>bedrooms</th>\n",
       "      <th>stories_total</th>\n",
       "      <th>size_interior</th>\n",
       "      <th>lng</th>\n",
       "      <th>lat</th>\n",
       "      <th>ownership_type_group_ids</th>\n",
       "      <th>parkings</th>\n",
       "      <th>price</th>\n",
       "      <th>...</th>\n",
       "      <th>loc_greenery</th>\n",
       "      <th>loc_cycling_friendly</th>\n",
       "      <th>loc_car_friendly</th>\n",
       "      <th>loc_vibrant</th>\n",
       "      <th>loc_shopping</th>\n",
       "      <th>loc_daycares</th>\n",
       "      <th>loc_nightlife</th>\n",
       "      <th>loc_cafes</th>\n",
       "      <th>loc_quiet</th>\n",
       "      <th>loc_parks</th>\n",
       "    </tr>\n",
       "  </thead>\n",
       "  <tbody>\n",
       "    <tr>\n",
       "      <th>count</th>\n",
       "      <td>6869.0</td>\n",
       "      <td>6869.0</td>\n",
       "      <td>6869.0</td>\n",
       "      <td>6869.0</td>\n",
       "      <td>6869.0</td>\n",
       "      <td>6869.0</td>\n",
       "      <td>6869.0</td>\n",
       "      <td>6869.0</td>\n",
       "      <td>6869.0</td>\n",
       "      <td>6869.0</td>\n",
       "      <td>...</td>\n",
       "      <td>6864.0</td>\n",
       "      <td>6864.0</td>\n",
       "      <td>6864.0</td>\n",
       "      <td>6864.0</td>\n",
       "      <td>6864.0</td>\n",
       "      <td>6864.0</td>\n",
       "      <td>6864.0</td>\n",
       "      <td>6864.0</td>\n",
       "      <td>6864.0</td>\n",
       "      <td>6864.0</td>\n",
       "    </tr>\n",
       "    <tr>\n",
       "      <th>mean</th>\n",
       "      <td>2.0</td>\n",
       "      <td>0.0</td>\n",
       "      <td>3.0</td>\n",
       "      <td>1.0</td>\n",
       "      <td>1485.0</td>\n",
       "      <td>-73.0</td>\n",
       "      <td>46.0</td>\n",
       "      <td>0.0</td>\n",
       "      <td>4.0</td>\n",
       "      <td>598381.0</td>\n",
       "      <td>...</td>\n",
       "      <td>1.0</td>\n",
       "      <td>2.0</td>\n",
       "      <td>4.0</td>\n",
       "      <td>1.0</td>\n",
       "      <td>1.0</td>\n",
       "      <td>2.0</td>\n",
       "      <td>1.0</td>\n",
       "      <td>1.0</td>\n",
       "      <td>4.0</td>\n",
       "      <td>1.0</td>\n",
       "    </tr>\n",
       "    <tr>\n",
       "      <th>std</th>\n",
       "      <td>1.0</td>\n",
       "      <td>0.0</td>\n",
       "      <td>1.0</td>\n",
       "      <td>0.0</td>\n",
       "      <td>611.0</td>\n",
       "      <td>2.0</td>\n",
       "      <td>1.0</td>\n",
       "      <td>1.0</td>\n",
       "      <td>3.0</td>\n",
       "      <td>392940.0</td>\n",
       "      <td>...</td>\n",
       "      <td>1.0</td>\n",
       "      <td>1.0</td>\n",
       "      <td>1.0</td>\n",
       "      <td>1.0</td>\n",
       "      <td>1.0</td>\n",
       "      <td>2.0</td>\n",
       "      <td>1.0</td>\n",
       "      <td>1.0</td>\n",
       "      <td>1.0</td>\n",
       "      <td>2.0</td>\n",
       "    </tr>\n",
       "    <tr>\n",
       "      <th>min</th>\n",
       "      <td>0.0</td>\n",
       "      <td>0.0</td>\n",
       "      <td>0.0</td>\n",
       "      <td>1.0</td>\n",
       "      <td>370.0</td>\n",
       "      <td>-79.0</td>\n",
       "      <td>45.0</td>\n",
       "      <td>0.0</td>\n",
       "      <td>0.0</td>\n",
       "      <td>119000.0</td>\n",
       "      <td>...</td>\n",
       "      <td>0.0</td>\n",
       "      <td>0.0</td>\n",
       "      <td>2.0</td>\n",
       "      <td>0.0</td>\n",
       "      <td>0.0</td>\n",
       "      <td>0.0</td>\n",
       "      <td>0.0</td>\n",
       "      <td>0.0</td>\n",
       "      <td>0.0</td>\n",
       "      <td>0.0</td>\n",
       "    </tr>\n",
       "    <tr>\n",
       "      <th>25%</th>\n",
       "      <td>1.0</td>\n",
       "      <td>0.0</td>\n",
       "      <td>2.0</td>\n",
       "      <td>1.0</td>\n",
       "      <td>1059.0</td>\n",
       "      <td>-75.0</td>\n",
       "      <td>45.0</td>\n",
       "      <td>0.0</td>\n",
       "      <td>2.0</td>\n",
       "      <td>365000.0</td>\n",
       "      <td>...</td>\n",
       "      <td>0.0</td>\n",
       "      <td>2.0</td>\n",
       "      <td>4.0</td>\n",
       "      <td>0.0</td>\n",
       "      <td>0.0</td>\n",
       "      <td>0.0</td>\n",
       "      <td>0.0</td>\n",
       "      <td>0.0</td>\n",
       "      <td>4.0</td>\n",
       "      <td>0.0</td>\n",
       "    </tr>\n",
       "    <tr>\n",
       "      <th>50%</th>\n",
       "      <td>2.0</td>\n",
       "      <td>0.0</td>\n",
       "      <td>3.0</td>\n",
       "      <td>1.0</td>\n",
       "      <td>1348.0</td>\n",
       "      <td>-74.0</td>\n",
       "      <td>46.0</td>\n",
       "      <td>0.0</td>\n",
       "      <td>3.0</td>\n",
       "      <td>495000.0</td>\n",
       "      <td>...</td>\n",
       "      <td>0.0</td>\n",
       "      <td>2.0</td>\n",
       "      <td>4.0</td>\n",
       "      <td>0.0</td>\n",
       "      <td>2.0</td>\n",
       "      <td>2.0</td>\n",
       "      <td>0.0</td>\n",
       "      <td>1.0</td>\n",
       "      <td>4.0</td>\n",
       "      <td>0.0</td>\n",
       "    </tr>\n",
       "    <tr>\n",
       "      <th>75%</th>\n",
       "      <td>2.0</td>\n",
       "      <td>0.0</td>\n",
       "      <td>4.0</td>\n",
       "      <td>2.0</td>\n",
       "      <td>1794.0</td>\n",
       "      <td>-72.0</td>\n",
       "      <td>47.0</td>\n",
       "      <td>0.0</td>\n",
       "      <td>5.0</td>\n",
       "      <td>699000.0</td>\n",
       "      <td>...</td>\n",
       "      <td>2.0</td>\n",
       "      <td>3.0</td>\n",
       "      <td>5.0</td>\n",
       "      <td>1.0</td>\n",
       "      <td>2.0</td>\n",
       "      <td>4.0</td>\n",
       "      <td>2.0</td>\n",
       "      <td>2.0</td>\n",
       "      <td>5.0</td>\n",
       "      <td>4.0</td>\n",
       "    </tr>\n",
       "    <tr>\n",
       "      <th>max</th>\n",
       "      <td>3.0</td>\n",
       "      <td>0.0</td>\n",
       "      <td>5.0</td>\n",
       "      <td>3.0</td>\n",
       "      <td>4570.0</td>\n",
       "      <td>-61.0</td>\n",
       "      <td>50.0</td>\n",
       "      <td>2.0</td>\n",
       "      <td>12.0</td>\n",
       "      <td>5999000.0</td>\n",
       "      <td>...</td>\n",
       "      <td>5.0</td>\n",
       "      <td>5.0</td>\n",
       "      <td>5.0</td>\n",
       "      <td>5.0</td>\n",
       "      <td>5.0</td>\n",
       "      <td>5.0</td>\n",
       "      <td>5.0</td>\n",
       "      <td>5.0</td>\n",
       "      <td>5.0</td>\n",
       "      <td>5.0</td>\n",
       "    </tr>\n",
       "  </tbody>\n",
       "</table>\n",
       "<p>8 rows × 67 columns</p>\n",
       "</div>"
      ],
      "text/plain": [
       "       bathrooms_total  bedrooms_extra  bedrooms  stories_total  \\\n",
       "count           6869.0          6869.0    6869.0         6869.0   \n",
       "mean               2.0             0.0       3.0            1.0   \n",
       "std                1.0             0.0       1.0            0.0   \n",
       "min                0.0             0.0       0.0            1.0   \n",
       "25%                1.0             0.0       2.0            1.0   \n",
       "50%                2.0             0.0       3.0            1.0   \n",
       "75%                2.0             0.0       4.0            2.0   \n",
       "max                3.0             0.0       5.0            3.0   \n",
       "\n",
       "       size_interior     lng     lat  ownership_type_group_ids  parkings  \\\n",
       "count         6869.0  6869.0  6869.0                    6869.0    6869.0   \n",
       "mean          1485.0   -73.0    46.0                       0.0       4.0   \n",
       "std            611.0     2.0     1.0                       1.0       3.0   \n",
       "min            370.0   -79.0    45.0                       0.0       0.0   \n",
       "25%           1059.0   -75.0    45.0                       0.0       2.0   \n",
       "50%           1348.0   -74.0    46.0                       0.0       3.0   \n",
       "75%           1794.0   -72.0    47.0                       0.0       5.0   \n",
       "max           4570.0   -61.0    50.0                       2.0      12.0   \n",
       "\n",
       "           price  ...  loc_greenery  loc_cycling_friendly  loc_car_friendly  \\\n",
       "count     6869.0  ...        6864.0                6864.0            6864.0   \n",
       "mean    598381.0  ...           1.0                   2.0               4.0   \n",
       "std     392940.0  ...           1.0                   1.0               1.0   \n",
       "min     119000.0  ...           0.0                   0.0               2.0   \n",
       "25%     365000.0  ...           0.0                   2.0               4.0   \n",
       "50%     495000.0  ...           0.0                   2.0               4.0   \n",
       "75%     699000.0  ...           2.0                   3.0               5.0   \n",
       "max    5999000.0  ...           5.0                   5.0               5.0   \n",
       "\n",
       "       loc_vibrant  loc_shopping  loc_daycares  loc_nightlife  loc_cafes  \\\n",
       "count       6864.0        6864.0        6864.0         6864.0     6864.0   \n",
       "mean           1.0           1.0           2.0            1.0        1.0   \n",
       "std            1.0           1.0           2.0            1.0        1.0   \n",
       "min            0.0           0.0           0.0            0.0        0.0   \n",
       "25%            0.0           0.0           0.0            0.0        0.0   \n",
       "50%            0.0           2.0           2.0            0.0        1.0   \n",
       "75%            1.0           2.0           4.0            2.0        2.0   \n",
       "max            5.0           5.0           5.0            5.0        5.0   \n",
       "\n",
       "       loc_quiet  loc_parks  \n",
       "count     6864.0     6864.0  \n",
       "mean         4.0        1.0  \n",
       "std          1.0        2.0  \n",
       "min          0.0        0.0  \n",
       "25%          4.0        0.0  \n",
       "50%          4.0        0.0  \n",
       "75%          5.0        4.0  \n",
       "max          5.0        5.0  \n",
       "\n",
       "[8 rows x 67 columns]"
      ]
     },
     "execution_count": 19,
     "metadata": {},
     "output_type": "execute_result"
    }
   ],
   "source": [
    "np.round(df_enc.describe())"
   ]
  },
  {
   "cell_type": "code",
   "execution_count": null,
   "metadata": {},
   "outputs": [],
   "source": []
  },
  {
   "cell_type": "code",
   "execution_count": 20,
   "metadata": {},
   "outputs": [
    {
     "name": "stdout",
     "output_type": "stream",
     "text": [
      "<class 'pandas.core.frame.DataFrame'>\n",
      "Index: 6869 entries, 19435 to 75728\n",
      "Data columns (total 72 columns):\n",
      " #   Column                         Non-Null Count  Dtype  \n",
      "---  ------                         --------------  -----  \n",
      " 0   bathrooms_total                6869 non-null   float64\n",
      " 1   bedrooms_extra                 6869 non-null   float64\n",
      " 2   bedrooms                       6869 non-null   float64\n",
      " 3   stories_total                  6869 non-null   float64\n",
      " 4   size_interior                  6869 non-null   float64\n",
      " 5   lng                            6869 non-null   float64\n",
      " 6   lat                            6869 non-null   float64\n",
      " 7   ownership_type_group_ids       6869 non-null   int64  \n",
      " 8   parkings                       6869 non-null   float64\n",
      " 9   price                          6869 non-null   float64\n",
      " 10  household_income               6836 non-null   float64\n",
      " 11  individual_income              6836 non-null   float64\n",
      " 12  commute_transit                6836 non-null   float64\n",
      " 13  commute_foot                   6836 non-null   float64\n",
      " 14  commute_bicycle                6836 non-null   float64\n",
      " 15  commute_drive                  6836 non-null   float64\n",
      " 16  single_family                  6836 non-null   float64\n",
      " 17  multi_family                   6836 non-null   float64\n",
      " 18  single_person                  6836 non-null   float64\n",
      " 19  multi_person                   6836 non-null   float64\n",
      " 20  total_individuals              6836 non-null   float64\n",
      " 21  age_0_to_4                     6836 non-null   float64\n",
      " 22  age_5_to_9                     6836 non-null   float64\n",
      " 23  age_10_to_14                   6836 non-null   float64\n",
      " 24  age_15_to_19                   6836 non-null   float64\n",
      " 25  age_20_to_34                   6836 non-null   float64\n",
      " 26  age_35_to_49                   6836 non-null   float64\n",
      " 27  age_50_to_64                   6836 non-null   float64\n",
      " 28  age_65_to_79                   6836 non-null   float64\n",
      " 29  age_80_plus                    6836 non-null   float64\n",
      " 30  owners                         6836 non-null   float64\n",
      " 31  renters                        6836 non-null   float64\n",
      " 32  lang_en_only                   6836 non-null   float64\n",
      " 33  lang_fr_only                   6836 non-null   float64\n",
      " 34  lang_en_and_fr                 6836 non-null   float64\n",
      " 35  lang_other                     6836 non-null   float64\n",
      " 36  edu_no_high_school             6836 non-null   float64\n",
      " 37  edu_high_school                6836 non-null   float64\n",
      " 38  edu_trade_certificate          6836 non-null   float64\n",
      " 39  edu_college_certificate        6836 non-null   float64\n",
      " 40  edu_university_certificate     6836 non-null   float64\n",
      " 41  edu_bachelor_degree            6836 non-null   float64\n",
      " 42  edu_post_graduate_degree       6836 non-null   float64\n",
      " 43  household_children             6836 non-null   float64\n",
      " 44  area_single_detached           6836 non-null   float64\n",
      " 45  area_semi_detached             6836 non-null   float64\n",
      " 46  area_duplex                    6836 non-null   float64\n",
      " 47  area_row_houses                6836 non-null   float64\n",
      " 48  area_apt_1_to_4_floors         6836 non-null   float64\n",
      " 49  area_apt_5_plus_floors         6836 non-null   float64\n",
      " 50  loc_high_schools               6864 non-null   float64\n",
      " 51  loc_primary_schools            6864 non-null   float64\n",
      " 52  loc_transit_friendly           6864 non-null   float64\n",
      " 53  loc_groceries                  6864 non-null   float64\n",
      " 54  loc_wellness                   6864 non-null   float64\n",
      " 55  loc_restaurants                6864 non-null   float64\n",
      " 56  loc_pedestrian_friendly        6864 non-null   float64\n",
      " 57  loc_greenery                   6864 non-null   float64\n",
      " 58  loc_cycling_friendly           6864 non-null   float64\n",
      " 59  loc_car_friendly               6864 non-null   float64\n",
      " 60  loc_vibrant                    6864 non-null   float64\n",
      " 61  loc_shopping                   6864 non-null   float64\n",
      " 62  loc_daycares                   6864 non-null   float64\n",
      " 63  loc_nightlife                  6864 non-null   float64\n",
      " 64  loc_cafes                      6864 non-null   float64\n",
      " 65  loc_quiet                      6864 non-null   float64\n",
      " 66  loc_parks                      6864 non-null   float64\n",
      " 67  building_type_Apartment        6869 non-null   bool   \n",
      " 68  building_type_House            6869 non-null   bool   \n",
      " 69  building_type_Row / Townhouse  6869 non-null   bool   \n",
      " 70  building_type_Semi-Detached    6869 non-null   bool   \n",
      " 71  province_Quebec                6869 non-null   bool   \n",
      "dtypes: bool(5), float64(66), int64(1)\n",
      "memory usage: 3.6 MB\n"
     ]
    }
   ],
   "source": [
    "df_enc.info()"
   ]
  },
  {
   "cell_type": "code",
   "execution_count": 21,
   "metadata": {},
   "outputs": [],
   "source": [
    "# dropna?\n",
    "# df_enc = df_enc.dropna()"
   ]
  },
  {
   "cell_type": "code",
   "execution_count": 22,
   "metadata": {},
   "outputs": [],
   "source": [
    "from sklearn. preprocessing import StandardScaler\n",
    "\n",
    "scaler_X = StandardScaler()\n",
    "scaler_y = StandardScaler()\n",
    "X_scaled = scaler_X.fit_transform(df_enc.drop(\"price\", axis=1))\n",
    "y_scaled = scaler_y.fit_transform(np.array(df_enc[\"price\"]).reshape(-1,1))"
   ]
  },
  {
   "cell_type": "code",
   "execution_count": 23,
   "metadata": {},
   "outputs": [
    {
     "data": {
      "text/plain": [
       "price                         1.000000\n",
       "size_interior                 0.591224\n",
       "bathrooms_total               0.436610\n",
       "individual_income             0.406598\n",
       "household_income              0.406598\n",
       "lang_en_and_fr                0.393406\n",
       "edu_post_graduate_degree      0.381722\n",
       "edu_bachelor_degree           0.370807\n",
       "edu_university_certificate    0.350773\n",
       "loc_greenery                  0.309501\n",
       "bedrooms                      0.281544\n",
       "stories_total                 0.256268\n",
       "loc_wellness                  0.223974\n",
       "loc_parks                     0.212877\n",
       "commute_transit               0.201713\n",
       "commute_bicycle               0.192721\n",
       "loc_transit_friendly          0.190615\n",
       "lang_other                    0.173649\n",
       "lang_en_only                  0.171880\n",
       "total_individuals             0.163310\n",
       "Name: price, dtype: float64"
      ]
     },
     "execution_count": 23,
     "metadata": {},
     "output_type": "execute_result"
    }
   ],
   "source": [
    "df_enc.corr(numeric_only=True)[\"price\"].sort_values(ascending=False).head(20)"
   ]
  },
  {
   "cell_type": "code",
   "execution_count": 24,
   "metadata": {},
   "outputs": [],
   "source": [
    "from sklearn.model_selection import cross_val_score, KFold\n"
   ]
  },
  {
   "cell_type": "code",
   "execution_count": 25,
   "metadata": {},
   "outputs": [],
   "source": [
    "kf = KFold(n_splits=5)"
   ]
  },
  {
   "cell_type": "code",
   "execution_count": 26,
   "metadata": {},
   "outputs": [],
   "source": [
    "from sklearn.ensemble import RandomForestRegressor\n",
    "\n",
    "\n",
    "rf = RandomForestRegressor(max_depth=5)"
   ]
  },
  {
   "cell_type": "code",
   "execution_count": 27,
   "metadata": {},
   "outputs": [
    {
     "name": "stderr",
     "output_type": "stream",
     "text": [
      "/home/soheil/codes/House-Pred-CA/House-Pred-CA/.venv/lib64/python3.12/site-packages/sklearn/base.py:1474: DataConversionWarning: A column-vector y was passed when a 1d array was expected. Please change the shape of y to (n_samples,), for example using ravel().\n",
      "  return fit_method(estimator, *args, **kwargs)\n"
     ]
    },
    {
     "name": "stderr",
     "output_type": "stream",
     "text": [
      "/home/soheil/codes/House-Pred-CA/House-Pred-CA/.venv/lib64/python3.12/site-packages/sklearn/base.py:1474: DataConversionWarning: A column-vector y was passed when a 1d array was expected. Please change the shape of y to (n_samples,), for example using ravel().\n",
      "  return fit_method(estimator, *args, **kwargs)\n",
      "/home/soheil/codes/House-Pred-CA/House-Pred-CA/.venv/lib64/python3.12/site-packages/sklearn/base.py:1474: DataConversionWarning: A column-vector y was passed when a 1d array was expected. Please change the shape of y to (n_samples,), for example using ravel().\n",
      "  return fit_method(estimator, *args, **kwargs)\n",
      "/home/soheil/codes/House-Pred-CA/House-Pred-CA/.venv/lib64/python3.12/site-packages/sklearn/base.py:1474: DataConversionWarning: A column-vector y was passed when a 1d array was expected. Please change the shape of y to (n_samples,), for example using ravel().\n",
      "  return fit_method(estimator, *args, **kwargs)\n",
      "/home/soheil/codes/House-Pred-CA/House-Pred-CA/.venv/lib64/python3.12/site-packages/sklearn/base.py:1474: DataConversionWarning: A column-vector y was passed when a 1d array was expected. Please change the shape of y to (n_samples,), for example using ravel().\n",
      "  return fit_method(estimator, *args, **kwargs)\n"
     ]
    },
    {
     "data": {
      "text/plain": [
       "array([0.25360233, 0.53722626, 0.39040834, 0.38306871, 0.50178313])"
      ]
     },
     "execution_count": 27,
     "metadata": {},
     "output_type": "execute_result"
    }
   ],
   "source": [
    "cross_val_score(rf, X_scaled, y_scaled, cv=kf, scoring=\"r2\")"
   ]
  },
  {
   "cell_type": "code",
   "execution_count": 28,
   "metadata": {},
   "outputs": [],
   "source": [
    "from xgboost import XGBRegressor"
   ]
  },
  {
   "cell_type": "code",
   "execution_count": 29,
   "metadata": {},
   "outputs": [],
   "source": [
    "xgb = XGBRegressor()"
   ]
  },
  {
   "cell_type": "code",
   "execution_count": 30,
   "metadata": {},
   "outputs": [
    {
     "data": {
      "text/plain": [
       "array([0.33390569, 0.67221676, 0.37463787, 0.43429945, 0.53218081])"
      ]
     },
     "execution_count": 30,
     "metadata": {},
     "output_type": "execute_result"
    }
   ],
   "source": [
    "cross_val_score(xgb, X_scaled, y_scaled, cv=kf, scoring=\"r2\")"
   ]
  },
  {
   "cell_type": "code",
   "execution_count": 31,
   "metadata": {},
   "outputs": [],
   "source": [
    "xgb.fit(X_scaled, y_scaled)\n",
    "y_pred = xgb.predict(X_scaled)"
   ]
  },
  {
   "cell_type": "code",
   "execution_count": 32,
   "metadata": {},
   "outputs": [
    {
     "data": {
      "text/plain": [
       "<matplotlib.collections.PathCollection at 0x7f55c69455e0>"
      ]
     },
     "execution_count": 32,
     "metadata": {},
     "output_type": "execute_result"
    },
    {
     "data": {
      "image/png": "[encoded data removed]",
      "text/plain": [
       "<Figure size 1200x800 with 1 Axes>"
      ]
     },
     "metadata": {},
     "output_type": "display_data"
    }
   ],
   "source": [
    "plt.figure(figsize=(12,8))\n",
    "plt.scatter(np.log(df_enc[\"size_interior\"]), y_scaled, c=\"blue\")\n",
    "plt.scatter(np.log(df_enc[\"size_interior\"]), y_pred, c=\"red\")"
   ]
  },
  {
   "cell_type": "code",
   "execution_count": 33,
   "metadata": {},
   "outputs": [
    {
     "data": {
      "text/plain": [
       "<matplotlib.collections.PathCollection at 0x7f55c6945400>"
      ]
     },
     "execution_count": 33,
     "metadata": {},
     "output_type": "execute_result"
    },
    {
     "data": {
      "image/png": "[encoded data removed]",
      "text/plain": [
       "<Figure size 1200x800 with 1 Axes>"
      ]
     },
     "metadata": {},
     "output_type": "display_data"
    }
   ],
   "source": [
    "plt.figure(figsize=(12,8))\n",
    "plt.scatter(df_enc[\"size_interior\"], y_scaled, c=\"blue\")\n",
    "plt.scatter(df_enc[\"size_interior\"], y_pred, c=\"red\")"
   ]
  },
  {
   "cell_type": "code",
   "execution_count": 34,
   "metadata": {},
   "outputs": [],
   "source": [
    "from sklearn.model_selection import train_test_split\n",
    "\n",
    "X_train, X_test, y_train, y_test = train_test_split(X_scaled, y_scaled, test_size=0.2, random_state=42)"
   ]
  },
  {
   "cell_type": "code",
   "execution_count": 35,
   "metadata": {},
   "outputs": [],
   "source": [
    "xgb.fit(X_train, y_train)\n",
    "y_pred = xgb.predict(X_test)"
   ]
  },
  {
   "cell_type": "code",
   "execution_count": 36,
   "metadata": {},
   "outputs": [
    {
     "data": {
      "text/plain": [
       "0.5633434982256338"
      ]
     },
     "execution_count": 36,
     "metadata": {},
     "output_type": "execute_result"
    }
   ],
   "source": [
    "from sklearn.metrics import r2_score\n",
    "r2_score(y_test, y_pred)"
   ]
  },
  {
   "cell_type": "code",
   "execution_count": 37,
   "metadata": {},
   "outputs": [
    {
     "data": {
      "text/plain": [
       "(5495, 71)"
      ]
     },
     "execution_count": 37,
     "metadata": {},
     "output_type": "execute_result"
    }
   ],
   "source": [
    "X_train.shape"
   ]
  },
  {
   "cell_type": "code",
   "execution_count": 38,
   "metadata": {},
   "outputs": [
    {
     "data": {
      "text/plain": [
       "(1374, 1)"
      ]
     },
     "execution_count": 38,
     "metadata": {},
     "output_type": "execute_result"
    }
   ],
   "source": [
    "y_test.shape"
   ]
  },
  {
   "cell_type": "code",
   "execution_count": 39,
   "metadata": {},
   "outputs": [
    {
     "data": {
      "text/plain": [
       "(1374,)"
      ]
     },
     "execution_count": 39,
     "metadata": {},
     "output_type": "execute_result"
    }
   ],
   "source": [
    "y_pred.shape"
   ]
  },
  {
   "cell_type": "code",
   "execution_count": 40,
   "metadata": {},
   "outputs": [
    {
     "data": {
      "text/plain": [
       "(6834, 72)"
      ]
     },
     "execution_count": 40,
     "metadata": {},
     "output_type": "execute_result"
    }
   ],
   "source": [
    "df_enc[~((df_enc[\"household_income\"].isna()) | (df_enc[\"loc_parks\"].isna()))].shape"
   ]
  },
  {
   "cell_type": "code",
   "execution_count": 41,
   "metadata": {},
   "outputs": [
    {
     "data": {
      "text/plain": [
       "(6834, 72)"
      ]
     },
     "execution_count": 41,
     "metadata": {},
     "output_type": "execute_result"
    }
   ],
   "source": [
    "df_enc[(df_enc[\"household_income\"].notna()) & df_enc[\"loc_parks\"].notna()].shape"
   ]
  },
  {
   "cell_type": "code",
   "execution_count": 42,
   "metadata": {},
   "outputs": [
    {
     "data": {
      "text/plain": [
       "(6834, 72)"
      ]
     },
     "execution_count": 42,
     "metadata": {},
     "output_type": "execute_result"
    }
   ],
   "source": [
    "df_enc.dropna().shape"
   ]
  },
  {
   "cell_type": "code",
   "execution_count": 43,
   "metadata": {},
   "outputs": [],
   "source": [
    "# We therefore conclude that XGBoost and RandomForest Ignore the samples with NA"
   ]
  }
 ],
 "metadata": {
  "kernelspec": {
   "display_name": ".venv",
   "language": "python",
   "name": "python3"
  },
  "language_info": {
   "codemirror_mode": {
    "name": "ipython",
    "version": 3
   },
   "file_extension": ".py",
   "mimetype": "text/x-python",
   "name": "python",
   "nbconvert_exporter": "python",
   "pygments_lexer": "ipython3",
   "version": "3.12.2"
  }
 },
 "nbformat": 4,
 "nbformat_minor": 2
}
