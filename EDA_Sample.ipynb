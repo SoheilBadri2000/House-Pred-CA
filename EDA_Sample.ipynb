{
 "cells": [
  {
   "cell_type": "code",
   "execution_count": 1,
   "metadata": {},
   "outputs": [],
   "source": [
    "import pandas as pd\n",
    "import numpy as np\n",
    "import matplotlib.pyplot as plt\n",
    "# import seaborn as sns"
   ]
  },
  {
   "cell_type": "code",
   "execution_count": 2,
   "metadata": {},
   "outputs": [],
   "source": [
    "df = pd.read_csv(\"data/lof/data-lof-2024-04-01.csv\")"
   ]
  },
  {
   "cell_type": "code",
   "execution_count": 3,
   "metadata": {},
   "outputs": [
    {
     "data": {
      "text/html": [
       "<div>\n",
       "<style scoped>\n",
       "    .dataframe tbody tr th:only-of-type {\n",
       "        vertical-align: middle;\n",
       "    }\n",
       "\n",
       "    .dataframe tbody tr th {\n",
       "        vertical-align: top;\n",
       "    }\n",
       "\n",
       "    .dataframe thead th {\n",
       "        text-align: right;\n",
       "    }\n",
       "</style>\n",
       "<table border=\"1\" class=\"dataframe\">\n",
       "  <thead>\n",
       "    <tr style=\"text-align: right;\">\n",
       "      <th></th>\n",
       "      <th>id</th>\n",
       "      <th>id_mls</th>\n",
       "      <th>bathrooms_total</th>\n",
       "      <th>bedrooms_extra</th>\n",
       "      <th>bedrooms</th>\n",
       "      <th>stories_total</th>\n",
       "      <th>size_interior</th>\n",
       "      <th>building_type</th>\n",
       "      <th>agency_name</th>\n",
       "      <th>agency_type</th>\n",
       "      <th>...</th>\n",
       "      <th>lat</th>\n",
       "      <th>ownership_type</th>\n",
       "      <th>ownership_type_group_ids</th>\n",
       "      <th>land_size</th>\n",
       "      <th>parkings</th>\n",
       "      <th>page_url</th>\n",
       "      <th>timestamp</th>\n",
       "      <th>postal_code</th>\n",
       "      <th>province</th>\n",
       "      <th>price</th>\n",
       "    </tr>\n",
       "  </thead>\n",
       "  <tbody>\n",
       "    <tr>\n",
       "      <th>0</th>\n",
       "      <td>26639235.0</td>\n",
       "      <td>24005541</td>\n",
       "      <td>3.0</td>\n",
       "      <td>0.0</td>\n",
       "      <td>4.0</td>\n",
       "      <td>2.5</td>\n",
       "      <td>2810.000000</td>\n",
       "      <td>House</td>\n",
       "      <td>RE/MAX PREFERRED REALTY LTD. - 585</td>\n",
       "      <td>Firm</td>\n",
       "      <td>...</td>\n",
       "      <td>42.321421</td>\n",
       "      <td>Freehold</td>\n",
       "      <td>1</td>\n",
       "      <td>45X119.25</td>\n",
       "      <td>0.0</td>\n",
       "      <td>https://realtor.ca/real-estate/26639235/794-de...</td>\n",
       "      <td>6.384645e+17</td>\n",
       "      <td>N8Y2M1</td>\n",
       "      <td>Ontario</td>\n",
       "      <td>849900.0</td>\n",
       "    </tr>\n",
       "    <tr>\n",
       "      <th>1</th>\n",
       "      <td>26639230.0</td>\n",
       "      <td>24005774</td>\n",
       "      <td>2.0</td>\n",
       "      <td>0.0</td>\n",
       "      <td>2.0</td>\n",
       "      <td>1.0</td>\n",
       "      <td>1072.000000</td>\n",
       "      <td>Apartment</td>\n",
       "      <td>ROYAL LEPAGE BINDER REAL ESTATE - 640</td>\n",
       "      <td>Firm</td>\n",
       "      <td>...</td>\n",
       "      <td>42.265783</td>\n",
       "      <td>Condominium/Strata</td>\n",
       "      <td>2</td>\n",
       "      <td>NaN</td>\n",
       "      <td>0.0</td>\n",
       "      <td>https://realtor.ca/real-estate/26639230/1655-g...</td>\n",
       "      <td>6.384645e+17</td>\n",
       "      <td>N9E4W4</td>\n",
       "      <td>Ontario</td>\n",
       "      <td>399900.0</td>\n",
       "    </tr>\n",
       "    <tr>\n",
       "      <th>2</th>\n",
       "      <td>26639229.0</td>\n",
       "      <td>24005776</td>\n",
       "      <td>3.0</td>\n",
       "      <td>0.0</td>\n",
       "      <td>4.0</td>\n",
       "      <td>2.0</td>\n",
       "      <td>1965.881818</td>\n",
       "      <td>House</td>\n",
       "      <td>RE/MAX CAPITAL DIAMOND REALTY - 821</td>\n",
       "      <td>Firm</td>\n",
       "      <td>...</td>\n",
       "      <td>42.228649</td>\n",
       "      <td>Freehold</td>\n",
       "      <td>1</td>\n",
       "      <td>53.92XIRREG FT</td>\n",
       "      <td>0.0</td>\n",
       "      <td>https://realtor.ca/real-estate/26639229/2580-m...</td>\n",
       "      <td>6.384645e+17</td>\n",
       "      <td>N9J2M6</td>\n",
       "      <td>Ontario</td>\n",
       "      <td>959900.0</td>\n",
       "    </tr>\n",
       "    <tr>\n",
       "      <th>3</th>\n",
       "      <td>26639225.0</td>\n",
       "      <td>24005786</td>\n",
       "      <td>1.0</td>\n",
       "      <td>0.0</td>\n",
       "      <td>4.0</td>\n",
       "      <td>1.0</td>\n",
       "      <td>1040.426146</td>\n",
       "      <td>House</td>\n",
       "      <td>REMO VALENTE REAL ESTATE (1990) LIMITED - 790</td>\n",
       "      <td>Firm</td>\n",
       "      <td>...</td>\n",
       "      <td>42.304613</td>\n",
       "      <td>Freehold</td>\n",
       "      <td>1</td>\n",
       "      <td>25X109.25</td>\n",
       "      <td>0.0</td>\n",
       "      <td>https://realtor.ca/real-estate/26639225/722-br...</td>\n",
       "      <td>6.384645e+17</td>\n",
       "      <td>N9B2M6</td>\n",
       "      <td>Ontario</td>\n",
       "      <td>299900.0</td>\n",
       "    </tr>\n",
       "    <tr>\n",
       "      <th>4</th>\n",
       "      <td>26638943.0</td>\n",
       "      <td>24005775</td>\n",
       "      <td>1.0</td>\n",
       "      <td>0.0</td>\n",
       "      <td>3.0</td>\n",
       "      <td>1.0</td>\n",
       "      <td>3718.455676</td>\n",
       "      <td>House</td>\n",
       "      <td>RE/MAX CAPITAL DIAMOND REALTY - 821</td>\n",
       "      <td>Firm</td>\n",
       "      <td>...</td>\n",
       "      <td>42.302468</td>\n",
       "      <td>Freehold</td>\n",
       "      <td>1</td>\n",
       "      <td>40X98.32</td>\n",
       "      <td>0.0</td>\n",
       "      <td>https://realtor.ca/real-estate/26638943/911-br...</td>\n",
       "      <td>6.384645e+17</td>\n",
       "      <td>N9B2M9</td>\n",
       "      <td>Ontario</td>\n",
       "      <td>399000.0</td>\n",
       "    </tr>\n",
       "  </tbody>\n",
       "</table>\n",
       "<p>5 rows × 22 columns</p>\n",
       "</div>"
      ],
      "text/plain": [
       "           id    id_mls  bathrooms_total  bedrooms_extra  bedrooms  \\\n",
       "0  26639235.0  24005541              3.0             0.0       4.0   \n",
       "1  26639230.0  24005774              2.0             0.0       2.0   \n",
       "2  26639229.0  24005776              3.0             0.0       4.0   \n",
       "3  26639225.0  24005786              1.0             0.0       4.0   \n",
       "4  26638943.0  24005775              1.0             0.0       3.0   \n",
       "\n",
       "   stories_total  size_interior building_type  \\\n",
       "0            2.5    2810.000000         House   \n",
       "1            1.0    1072.000000     Apartment   \n",
       "2            2.0    1965.881818         House   \n",
       "3            1.0    1040.426146         House   \n",
       "4            1.0    3718.455676         House   \n",
       "\n",
       "                                     agency_name agency_type  ...        lat  \\\n",
       "0             RE/MAX PREFERRED REALTY LTD. - 585        Firm  ...  42.321421   \n",
       "1          ROYAL LEPAGE BINDER REAL ESTATE - 640        Firm  ...  42.265783   \n",
       "2            RE/MAX CAPITAL DIAMOND REALTY - 821        Firm  ...  42.228649   \n",
       "3  REMO VALENTE REAL ESTATE (1990) LIMITED - 790        Firm  ...  42.304613   \n",
       "4            RE/MAX CAPITAL DIAMOND REALTY - 821        Firm  ...  42.302468   \n",
       "\n",
       "       ownership_type  ownership_type_group_ids       land_size  parkings  \\\n",
       "0            Freehold                         1       45X119.25       0.0   \n",
       "1  Condominium/Strata                         2             NaN       0.0   \n",
       "2            Freehold                         1  53.92XIRREG FT       0.0   \n",
       "3            Freehold                         1       25X109.25       0.0   \n",
       "4            Freehold                         1        40X98.32       0.0   \n",
       "\n",
       "                                            page_url     timestamp  \\\n",
       "0  https://realtor.ca/real-estate/26639235/794-de...  6.384645e+17   \n",
       "1  https://realtor.ca/real-estate/26639230/1655-g...  6.384645e+17   \n",
       "2  https://realtor.ca/real-estate/26639229/2580-m...  6.384645e+17   \n",
       "3  https://realtor.ca/real-estate/26639225/722-br...  6.384645e+17   \n",
       "4  https://realtor.ca/real-estate/26638943/911-br...  6.384645e+17   \n",
       "\n",
       "  postal_code  province     price  \n",
       "0      N8Y2M1   Ontario  849900.0  \n",
       "1      N9E4W4   Ontario  399900.0  \n",
       "2      N9J2M6   Ontario  959900.0  \n",
       "3      N9B2M6   Ontario  299900.0  \n",
       "4      N9B2M9   Ontario  399000.0  \n",
       "\n",
       "[5 rows x 22 columns]"
      ]
     },
     "execution_count": 3,
     "metadata": {},
     "output_type": "execute_result"
    }
   ],
   "source": [
    "df.head()"
   ]
  },
  {
   "cell_type": "code",
   "execution_count": 4,
   "metadata": {},
   "outputs": [],
   "source": [
    "df_sample = pd.DataFrame({\n",
    "    \"bathrooms_total\": 1,\n",
    "    \"bedrooms_extra\": 0,\n",
    "    \"bedrooms\": 4,\n",
    "    \"stories_total\": 2.0,\n",
    "    \"size_interior\": 2588.72,\n",
    "    \"building_type\": \"Apartment\",\n",
    "    \"lng\": -73, #73.575431,\n",
    "    \"lat\": 45, #45.509202\n",
    "    \"ownership_type_group_ids\": 1,\n",
    "    \"parkings\": 1,\n",
    "    \"province\": \"Quebec\",\n",
    "    \"price\": 1985000.0\n",
    "}, index=[0])"
   ]
  },
  {
   "cell_type": "code",
   "execution_count": 5,
   "metadata": {},
   "outputs": [
    {
     "data": {
      "text/html": [
       "<div>\n",
       "<style scoped>\n",
       "    .dataframe tbody tr th:only-of-type {\n",
       "        vertical-align: middle;\n",
       "    }\n",
       "\n",
       "    .dataframe tbody tr th {\n",
       "        vertical-align: top;\n",
       "    }\n",
       "\n",
       "    .dataframe thead th {\n",
       "        text-align: right;\n",
       "    }\n",
       "</style>\n",
       "<table border=\"1\" class=\"dataframe\">\n",
       "  <thead>\n",
       "    <tr style=\"text-align: right;\">\n",
       "      <th></th>\n",
       "      <th>bathrooms_total</th>\n",
       "      <th>bedrooms_extra</th>\n",
       "      <th>bedrooms</th>\n",
       "      <th>stories_total</th>\n",
       "      <th>size_interior</th>\n",
       "      <th>building_type</th>\n",
       "      <th>lng</th>\n",
       "      <th>lat</th>\n",
       "      <th>ownership_type_group_ids</th>\n",
       "      <th>parkings</th>\n",
       "      <th>province</th>\n",
       "      <th>price</th>\n",
       "    </tr>\n",
       "  </thead>\n",
       "  <tbody>\n",
       "    <tr>\n",
       "      <th>0</th>\n",
       "      <td>1</td>\n",
       "      <td>0</td>\n",
       "      <td>4</td>\n",
       "      <td>2.0</td>\n",
       "      <td>2588.72</td>\n",
       "      <td>Apartment</td>\n",
       "      <td>-73</td>\n",
       "      <td>45</td>\n",
       "      <td>1</td>\n",
       "      <td>1</td>\n",
       "      <td>Quebec</td>\n",
       "      <td>1985000.0</td>\n",
       "    </tr>\n",
       "  </tbody>\n",
       "</table>\n",
       "</div>"
      ],
      "text/plain": [
       "   bathrooms_total  bedrooms_extra  bedrooms  stories_total  size_interior  \\\n",
       "0                1               0         4            2.0        2588.72   \n",
       "\n",
       "  building_type  lng  lat  ownership_type_group_ids  parkings province  \\\n",
       "0     Apartment  -73   45                         1         1   Quebec   \n",
       "\n",
       "       price  \n",
       "0  1985000.0  "
      ]
     },
     "execution_count": 5,
     "metadata": {},
     "output_type": "execute_result"
    }
   ],
   "source": [
    "df_sample"
   ]
  },
  {
   "cell_type": "code",
   "execution_count": 6,
   "metadata": {},
   "outputs": [
    {
     "data": {
      "text/html": [
       "<div>\n",
       "<style scoped>\n",
       "    .dataframe tbody tr th:only-of-type {\n",
       "        vertical-align: middle;\n",
       "    }\n",
       "\n",
       "    .dataframe tbody tr th {\n",
       "        vertical-align: top;\n",
       "    }\n",
       "\n",
       "    .dataframe thead th {\n",
       "        text-align: right;\n",
       "    }\n",
       "</style>\n",
       "<table border=\"1\" class=\"dataframe\">\n",
       "  <thead>\n",
       "    <tr style=\"text-align: right;\">\n",
       "      <th></th>\n",
       "      <th>id</th>\n",
       "      <th>id_mls</th>\n",
       "      <th>bathrooms_total</th>\n",
       "      <th>bedrooms_extra</th>\n",
       "      <th>bedrooms</th>\n",
       "      <th>stories_total</th>\n",
       "      <th>size_interior</th>\n",
       "      <th>building_type</th>\n",
       "      <th>agency_name</th>\n",
       "      <th>agency_type</th>\n",
       "      <th>...</th>\n",
       "      <th>lat</th>\n",
       "      <th>ownership_type</th>\n",
       "      <th>ownership_type_group_ids</th>\n",
       "      <th>land_size</th>\n",
       "      <th>parkings</th>\n",
       "      <th>page_url</th>\n",
       "      <th>timestamp</th>\n",
       "      <th>postal_code</th>\n",
       "      <th>province</th>\n",
       "      <th>price</th>\n",
       "    </tr>\n",
       "  </thead>\n",
       "  <tbody>\n",
       "    <tr>\n",
       "      <th>0</th>\n",
       "      <td>26639235.0</td>\n",
       "      <td>24005541</td>\n",
       "      <td>3.0</td>\n",
       "      <td>0.0</td>\n",
       "      <td>4.0</td>\n",
       "      <td>2.5</td>\n",
       "      <td>2810.000000</td>\n",
       "      <td>House</td>\n",
       "      <td>RE/MAX PREFERRED REALTY LTD. - 585</td>\n",
       "      <td>Firm</td>\n",
       "      <td>...</td>\n",
       "      <td>42.321421</td>\n",
       "      <td>Freehold</td>\n",
       "      <td>1</td>\n",
       "      <td>45X119.25</td>\n",
       "      <td>0.0</td>\n",
       "      <td>https://realtor.ca/real-estate/26639235/794-de...</td>\n",
       "      <td>6.384645e+17</td>\n",
       "      <td>N8Y2M1</td>\n",
       "      <td>Ontario</td>\n",
       "      <td>849900.0</td>\n",
       "    </tr>\n",
       "    <tr>\n",
       "      <th>1</th>\n",
       "      <td>26639230.0</td>\n",
       "      <td>24005774</td>\n",
       "      <td>2.0</td>\n",
       "      <td>0.0</td>\n",
       "      <td>2.0</td>\n",
       "      <td>1.0</td>\n",
       "      <td>1072.000000</td>\n",
       "      <td>Apartment</td>\n",
       "      <td>ROYAL LEPAGE BINDER REAL ESTATE - 640</td>\n",
       "      <td>Firm</td>\n",
       "      <td>...</td>\n",
       "      <td>42.265783</td>\n",
       "      <td>Condominium/Strata</td>\n",
       "      <td>2</td>\n",
       "      <td>NaN</td>\n",
       "      <td>0.0</td>\n",
       "      <td>https://realtor.ca/real-estate/26639230/1655-g...</td>\n",
       "      <td>6.384645e+17</td>\n",
       "      <td>N9E4W4</td>\n",
       "      <td>Ontario</td>\n",
       "      <td>399900.0</td>\n",
       "    </tr>\n",
       "    <tr>\n",
       "      <th>2</th>\n",
       "      <td>26639229.0</td>\n",
       "      <td>24005776</td>\n",
       "      <td>3.0</td>\n",
       "      <td>0.0</td>\n",
       "      <td>4.0</td>\n",
       "      <td>2.0</td>\n",
       "      <td>1965.881818</td>\n",
       "      <td>House</td>\n",
       "      <td>RE/MAX CAPITAL DIAMOND REALTY - 821</td>\n",
       "      <td>Firm</td>\n",
       "      <td>...</td>\n",
       "      <td>42.228649</td>\n",
       "      <td>Freehold</td>\n",
       "      <td>1</td>\n",
       "      <td>53.92XIRREG FT</td>\n",
       "      <td>0.0</td>\n",
       "      <td>https://realtor.ca/real-estate/26639229/2580-m...</td>\n",
       "      <td>6.384645e+17</td>\n",
       "      <td>N9J2M6</td>\n",
       "      <td>Ontario</td>\n",
       "      <td>959900.0</td>\n",
       "    </tr>\n",
       "    <tr>\n",
       "      <th>3</th>\n",
       "      <td>26639225.0</td>\n",
       "      <td>24005786</td>\n",
       "      <td>1.0</td>\n",
       "      <td>0.0</td>\n",
       "      <td>4.0</td>\n",
       "      <td>1.0</td>\n",
       "      <td>1040.426146</td>\n",
       "      <td>House</td>\n",
       "      <td>REMO VALENTE REAL ESTATE (1990) LIMITED - 790</td>\n",
       "      <td>Firm</td>\n",
       "      <td>...</td>\n",
       "      <td>42.304613</td>\n",
       "      <td>Freehold</td>\n",
       "      <td>1</td>\n",
       "      <td>25X109.25</td>\n",
       "      <td>0.0</td>\n",
       "      <td>https://realtor.ca/real-estate/26639225/722-br...</td>\n",
       "      <td>6.384645e+17</td>\n",
       "      <td>N9B2M6</td>\n",
       "      <td>Ontario</td>\n",
       "      <td>299900.0</td>\n",
       "    </tr>\n",
       "    <tr>\n",
       "      <th>4</th>\n",
       "      <td>26638943.0</td>\n",
       "      <td>24005775</td>\n",
       "      <td>1.0</td>\n",
       "      <td>0.0</td>\n",
       "      <td>3.0</td>\n",
       "      <td>1.0</td>\n",
       "      <td>3718.455676</td>\n",
       "      <td>House</td>\n",
       "      <td>RE/MAX CAPITAL DIAMOND REALTY - 821</td>\n",
       "      <td>Firm</td>\n",
       "      <td>...</td>\n",
       "      <td>42.302468</td>\n",
       "      <td>Freehold</td>\n",
       "      <td>1</td>\n",
       "      <td>40X98.32</td>\n",
       "      <td>0.0</td>\n",
       "      <td>https://realtor.ca/real-estate/26638943/911-br...</td>\n",
       "      <td>6.384645e+17</td>\n",
       "      <td>N9B2M9</td>\n",
       "      <td>Ontario</td>\n",
       "      <td>399000.0</td>\n",
       "    </tr>\n",
       "  </tbody>\n",
       "</table>\n",
       "<p>5 rows × 22 columns</p>\n",
       "</div>"
      ],
      "text/plain": [
       "           id    id_mls  bathrooms_total  bedrooms_extra  bedrooms  \\\n",
       "0  26639235.0  24005541              3.0             0.0       4.0   \n",
       "1  26639230.0  24005774              2.0             0.0       2.0   \n",
       "2  26639229.0  24005776              3.0             0.0       4.0   \n",
       "3  26639225.0  24005786              1.0             0.0       4.0   \n",
       "4  26638943.0  24005775              1.0             0.0       3.0   \n",
       "\n",
       "   stories_total  size_interior building_type  \\\n",
       "0            2.5    2810.000000         House   \n",
       "1            1.0    1072.000000     Apartment   \n",
       "2            2.0    1965.881818         House   \n",
       "3            1.0    1040.426146         House   \n",
       "4            1.0    3718.455676         House   \n",
       "\n",
       "                                     agency_name agency_type  ...        lat  \\\n",
       "0             RE/MAX PREFERRED REALTY LTD. - 585        Firm  ...  42.321421   \n",
       "1          ROYAL LEPAGE BINDER REAL ESTATE - 640        Firm  ...  42.265783   \n",
       "2            RE/MAX CAPITAL DIAMOND REALTY - 821        Firm  ...  42.228649   \n",
       "3  REMO VALENTE REAL ESTATE (1990) LIMITED - 790        Firm  ...  42.304613   \n",
       "4            RE/MAX CAPITAL DIAMOND REALTY - 821        Firm  ...  42.302468   \n",
       "\n",
       "       ownership_type  ownership_type_group_ids       land_size  parkings  \\\n",
       "0            Freehold                         1       45X119.25       0.0   \n",
       "1  Condominium/Strata                         2             NaN       0.0   \n",
       "2            Freehold                         1  53.92XIRREG FT       0.0   \n",
       "3            Freehold                         1       25X109.25       0.0   \n",
       "4            Freehold                         1        40X98.32       0.0   \n",
       "\n",
       "                                            page_url     timestamp  \\\n",
       "0  https://realtor.ca/real-estate/26639235/794-de...  6.384645e+17   \n",
       "1  https://realtor.ca/real-estate/26639230/1655-g...  6.384645e+17   \n",
       "2  https://realtor.ca/real-estate/26639229/2580-m...  6.384645e+17   \n",
       "3  https://realtor.ca/real-estate/26639225/722-br...  6.384645e+17   \n",
       "4  https://realtor.ca/real-estate/26638943/911-br...  6.384645e+17   \n",
       "\n",
       "  postal_code  province     price  \n",
       "0      N8Y2M1   Ontario  849900.0  \n",
       "1      N9E4W4   Ontario  399900.0  \n",
       "2      N9J2M6   Ontario  959900.0  \n",
       "3      N9B2M6   Ontario  299900.0  \n",
       "4      N9B2M9   Ontario  399000.0  \n",
       "\n",
       "[5 rows x 22 columns]"
      ]
     },
     "execution_count": 6,
     "metadata": {},
     "output_type": "execute_result"
    }
   ],
   "source": [
    "df.head(5)"
   ]
  },
  {
   "cell_type": "code",
   "execution_count": 7,
   "metadata": {},
   "outputs": [],
   "source": [
    "# df = pd.read_csv(\"data/knn/data_knn_2024-03-25.csv\")\n",
    "# df_dem = pd.read_csv(\"data/LocalLogic/Demographics/demographics_for_2024-03-25.csv\")\n",
    "# df_loc = pd.read_csv(\"data/LocalLogic/Locations/locations_for_2024-03-25.csv\")\n",
    "\n",
    "# df = pd.merge(df, df_dem, on=\"id\")\n",
    "# df = pd.merge(df, df_loc, on=\"id\")"
   ]
  },
  {
   "cell_type": "code",
   "execution_count": 8,
   "metadata": {},
   "outputs": [
    {
     "name": "stdout",
     "output_type": "stream",
     "text": [
      "<class 'pandas.core.frame.DataFrame'>\n",
      "RangeIndex: 77455 entries, 0 to 77454\n",
      "Data columns (total 22 columns):\n",
      " #   Column                    Non-Null Count  Dtype  \n",
      "---  ------                    --------------  -----  \n",
      " 0   id                        77455 non-null  float64\n",
      " 1   id_mls                    77455 non-null  object \n",
      " 2   bathrooms_total           77455 non-null  float64\n",
      " 3   bedrooms_extra            77455 non-null  float64\n",
      " 4   bedrooms                  77455 non-null  float64\n",
      " 5   stories_total             77455 non-null  float64\n",
      " 6   size_interior             77455 non-null  float64\n",
      " 7   building_type             77455 non-null  object \n",
      " 8   agency_name               77455 non-null  object \n",
      " 9   agency_type               77455 non-null  object \n",
      " 10  property_type             77455 non-null  object \n",
      " 11  lng                       77455 non-null  float64\n",
      " 12  lat                       77455 non-null  float64\n",
      " 13  ownership_type            77455 non-null  object \n",
      " 14  ownership_type_group_ids  77455 non-null  int64  \n",
      " 15  land_size                 66069 non-null  object \n",
      " 16  parkings                  77455 non-null  float64\n",
      " 17  page_url                  77455 non-null  object \n",
      " 18  timestamp                 77455 non-null  float64\n",
      " 19  postal_code               77147 non-null  object \n",
      " 20  province                  77455 non-null  object \n",
      " 21  price                     77455 non-null  float64\n",
      "dtypes: float64(11), int64(1), object(10)\n",
      "memory usage: 13.0+ MB\n"
     ]
    }
   ],
   "source": [
    "df.info()"
   ]
  },
  {
   "cell_type": "code",
   "execution_count": 9,
   "metadata": {},
   "outputs": [
    {
     "data": {
      "text/plain": [
       "province\n",
       "Ontario                    32102\n",
       "British Columbia           18114\n",
       "Alberta                    10958\n",
       "Quebec                      6869\n",
       "Saskatchewan                3513\n",
       "Manitoba                    2378\n",
       "Nova Scotia                 1597\n",
       "New Brunswick               1137\n",
       "Prince Edward Island         342\n",
       "Newfoundland & Labrador      318\n",
       "Yukon                         81\n",
       "Northwest Territories         46\n",
       "Name: count, dtype: int64"
      ]
     },
     "execution_count": 9,
     "metadata": {},
     "output_type": "execute_result"
    }
   ],
   "source": [
    "df[\"province\"].value_counts()"
   ]
  },
  {
   "cell_type": "markdown",
   "metadata": {},
   "source": [
    "## First Glance"
   ]
  },
  {
   "cell_type": "code",
   "execution_count": 10,
   "metadata": {},
   "outputs": [
    {
     "data": {
      "text/html": [
       "<div>\n",
       "<style scoped>\n",
       "    .dataframe tbody tr th:only-of-type {\n",
       "        vertical-align: middle;\n",
       "    }\n",
       "\n",
       "    .dataframe tbody tr th {\n",
       "        vertical-align: top;\n",
       "    }\n",
       "\n",
       "    .dataframe thead th {\n",
       "        text-align: right;\n",
       "    }\n",
       "</style>\n",
       "<table border=\"1\" class=\"dataframe\">\n",
       "  <thead>\n",
       "    <tr style=\"text-align: right;\">\n",
       "      <th></th>\n",
       "      <th>id</th>\n",
       "      <th>id_mls</th>\n",
       "      <th>bathrooms_total</th>\n",
       "      <th>bedrooms_extra</th>\n",
       "      <th>bedrooms</th>\n",
       "      <th>stories_total</th>\n",
       "      <th>size_interior</th>\n",
       "      <th>building_type</th>\n",
       "      <th>agency_name</th>\n",
       "      <th>agency_type</th>\n",
       "      <th>...</th>\n",
       "      <th>lat</th>\n",
       "      <th>ownership_type</th>\n",
       "      <th>ownership_type_group_ids</th>\n",
       "      <th>land_size</th>\n",
       "      <th>parkings</th>\n",
       "      <th>page_url</th>\n",
       "      <th>timestamp</th>\n",
       "      <th>postal_code</th>\n",
       "      <th>province</th>\n",
       "      <th>price</th>\n",
       "    </tr>\n",
       "  </thead>\n",
       "  <tbody>\n",
       "    <tr>\n",
       "      <th>0</th>\n",
       "      <td>26639235.0</td>\n",
       "      <td>24005541</td>\n",
       "      <td>3.0</td>\n",
       "      <td>0.0</td>\n",
       "      <td>4.0</td>\n",
       "      <td>2.5</td>\n",
       "      <td>2810.000000</td>\n",
       "      <td>House</td>\n",
       "      <td>RE/MAX PREFERRED REALTY LTD. - 585</td>\n",
       "      <td>Firm</td>\n",
       "      <td>...</td>\n",
       "      <td>42.321421</td>\n",
       "      <td>Freehold</td>\n",
       "      <td>1</td>\n",
       "      <td>45X119.25</td>\n",
       "      <td>0.0</td>\n",
       "      <td>https://realtor.ca/real-estate/26639235/794-de...</td>\n",
       "      <td>6.384645e+17</td>\n",
       "      <td>N8Y2M1</td>\n",
       "      <td>Ontario</td>\n",
       "      <td>849900.0</td>\n",
       "    </tr>\n",
       "    <tr>\n",
       "      <th>1</th>\n",
       "      <td>26639230.0</td>\n",
       "      <td>24005774</td>\n",
       "      <td>2.0</td>\n",
       "      <td>0.0</td>\n",
       "      <td>2.0</td>\n",
       "      <td>1.0</td>\n",
       "      <td>1072.000000</td>\n",
       "      <td>Apartment</td>\n",
       "      <td>ROYAL LEPAGE BINDER REAL ESTATE - 640</td>\n",
       "      <td>Firm</td>\n",
       "      <td>...</td>\n",
       "      <td>42.265783</td>\n",
       "      <td>Condominium/Strata</td>\n",
       "      <td>2</td>\n",
       "      <td>NaN</td>\n",
       "      <td>0.0</td>\n",
       "      <td>https://realtor.ca/real-estate/26639230/1655-g...</td>\n",
       "      <td>6.384645e+17</td>\n",
       "      <td>N9E4W4</td>\n",
       "      <td>Ontario</td>\n",
       "      <td>399900.0</td>\n",
       "    </tr>\n",
       "    <tr>\n",
       "      <th>2</th>\n",
       "      <td>26639229.0</td>\n",
       "      <td>24005776</td>\n",
       "      <td>3.0</td>\n",
       "      <td>0.0</td>\n",
       "      <td>4.0</td>\n",
       "      <td>2.0</td>\n",
       "      <td>1965.881818</td>\n",
       "      <td>House</td>\n",
       "      <td>RE/MAX CAPITAL DIAMOND REALTY - 821</td>\n",
       "      <td>Firm</td>\n",
       "      <td>...</td>\n",
       "      <td>42.228649</td>\n",
       "      <td>Freehold</td>\n",
       "      <td>1</td>\n",
       "      <td>53.92XIRREG FT</td>\n",
       "      <td>0.0</td>\n",
       "      <td>https://realtor.ca/real-estate/26639229/2580-m...</td>\n",
       "      <td>6.384645e+17</td>\n",
       "      <td>N9J2M6</td>\n",
       "      <td>Ontario</td>\n",
       "      <td>959900.0</td>\n",
       "    </tr>\n",
       "    <tr>\n",
       "      <th>3</th>\n",
       "      <td>26639225.0</td>\n",
       "      <td>24005786</td>\n",
       "      <td>1.0</td>\n",
       "      <td>0.0</td>\n",
       "      <td>4.0</td>\n",
       "      <td>1.0</td>\n",
       "      <td>1040.426146</td>\n",
       "      <td>House</td>\n",
       "      <td>REMO VALENTE REAL ESTATE (1990) LIMITED - 790</td>\n",
       "      <td>Firm</td>\n",
       "      <td>...</td>\n",
       "      <td>42.304613</td>\n",
       "      <td>Freehold</td>\n",
       "      <td>1</td>\n",
       "      <td>25X109.25</td>\n",
       "      <td>0.0</td>\n",
       "      <td>https://realtor.ca/real-estate/26639225/722-br...</td>\n",
       "      <td>6.384645e+17</td>\n",
       "      <td>N9B2M6</td>\n",
       "      <td>Ontario</td>\n",
       "      <td>299900.0</td>\n",
       "    </tr>\n",
       "    <tr>\n",
       "      <th>4</th>\n",
       "      <td>26638943.0</td>\n",
       "      <td>24005775</td>\n",
       "      <td>1.0</td>\n",
       "      <td>0.0</td>\n",
       "      <td>3.0</td>\n",
       "      <td>1.0</td>\n",
       "      <td>3718.455676</td>\n",
       "      <td>House</td>\n",
       "      <td>RE/MAX CAPITAL DIAMOND REALTY - 821</td>\n",
       "      <td>Firm</td>\n",
       "      <td>...</td>\n",
       "      <td>42.302468</td>\n",
       "      <td>Freehold</td>\n",
       "      <td>1</td>\n",
       "      <td>40X98.32</td>\n",
       "      <td>0.0</td>\n",
       "      <td>https://realtor.ca/real-estate/26638943/911-br...</td>\n",
       "      <td>6.384645e+17</td>\n",
       "      <td>N9B2M9</td>\n",
       "      <td>Ontario</td>\n",
       "      <td>399000.0</td>\n",
       "    </tr>\n",
       "  </tbody>\n",
       "</table>\n",
       "<p>5 rows × 22 columns</p>\n",
       "</div>"
      ],
      "text/plain": [
       "           id    id_mls  bathrooms_total  bedrooms_extra  bedrooms  \\\n",
       "0  26639235.0  24005541              3.0             0.0       4.0   \n",
       "1  26639230.0  24005774              2.0             0.0       2.0   \n",
       "2  26639229.0  24005776              3.0             0.0       4.0   \n",
       "3  26639225.0  24005786              1.0             0.0       4.0   \n",
       "4  26638943.0  24005775              1.0             0.0       3.0   \n",
       "\n",
       "   stories_total  size_interior building_type  \\\n",
       "0            2.5    2810.000000         House   \n",
       "1            1.0    1072.000000     Apartment   \n",
       "2            2.0    1965.881818         House   \n",
       "3            1.0    1040.426146         House   \n",
       "4            1.0    3718.455676         House   \n",
       "\n",
       "                                     agency_name agency_type  ...        lat  \\\n",
       "0             RE/MAX PREFERRED REALTY LTD. - 585        Firm  ...  42.321421   \n",
       "1          ROYAL LEPAGE BINDER REAL ESTATE - 640        Firm  ...  42.265783   \n",
       "2            RE/MAX CAPITAL DIAMOND REALTY - 821        Firm  ...  42.228649   \n",
       "3  REMO VALENTE REAL ESTATE (1990) LIMITED - 790        Firm  ...  42.304613   \n",
       "4            RE/MAX CAPITAL DIAMOND REALTY - 821        Firm  ...  42.302468   \n",
       "\n",
       "       ownership_type  ownership_type_group_ids       land_size  parkings  \\\n",
       "0            Freehold                         1       45X119.25       0.0   \n",
       "1  Condominium/Strata                         2             NaN       0.0   \n",
       "2            Freehold                         1  53.92XIRREG FT       0.0   \n",
       "3            Freehold                         1       25X109.25       0.0   \n",
       "4            Freehold                         1        40X98.32       0.0   \n",
       "\n",
       "                                            page_url     timestamp  \\\n",
       "0  https://realtor.ca/real-estate/26639235/794-de...  6.384645e+17   \n",
       "1  https://realtor.ca/real-estate/26639230/1655-g...  6.384645e+17   \n",
       "2  https://realtor.ca/real-estate/26639229/2580-m...  6.384645e+17   \n",
       "3  https://realtor.ca/real-estate/26639225/722-br...  6.384645e+17   \n",
       "4  https://realtor.ca/real-estate/26638943/911-br...  6.384645e+17   \n",
       "\n",
       "  postal_code  province     price  \n",
       "0      N8Y2M1   Ontario  849900.0  \n",
       "1      N9E4W4   Ontario  399900.0  \n",
       "2      N9J2M6   Ontario  959900.0  \n",
       "3      N9B2M6   Ontario  299900.0  \n",
       "4      N9B2M9   Ontario  399000.0  \n",
       "\n",
       "[5 rows x 22 columns]"
      ]
     },
     "execution_count": 10,
     "metadata": {},
     "output_type": "execute_result"
    }
   ],
   "source": [
    "df.head()"
   ]
  },
  {
   "cell_type": "markdown",
   "metadata": {},
   "source": [
    "## Removing Unwanted Features"
   ]
  },
  {
   "cell_type": "code",
   "execution_count": 11,
   "metadata": {},
   "outputs": [
    {
     "name": "stdout",
     "output_type": "stream",
     "text": [
      "<class 'pandas.core.frame.DataFrame'>\n",
      "RangeIndex: 77455 entries, 0 to 77454\n",
      "Data columns (total 12 columns):\n",
      " #   Column                    Non-Null Count  Dtype  \n",
      "---  ------                    --------------  -----  \n",
      " 0   bathrooms_total           77455 non-null  float64\n",
      " 1   bedrooms_extra            77455 non-null  float64\n",
      " 2   bedrooms                  77455 non-null  float64\n",
      " 3   stories_total             77455 non-null  float64\n",
      " 4   size_interior             77455 non-null  float64\n",
      " 5   building_type             77455 non-null  object \n",
      " 6   lng                       77455 non-null  float64\n",
      " 7   lat                       77455 non-null  float64\n",
      " 8   ownership_type_group_ids  77455 non-null  int64  \n",
      " 9   parkings                  77455 non-null  float64\n",
      " 10  province                  77455 non-null  object \n",
      " 11  price                     77455 non-null  float64\n",
      "dtypes: float64(9), int64(1), object(2)\n",
      "memory usage: 7.1+ MB\n"
     ]
    }
   ],
   "source": [
    "# df = df.drop([\"id\", \"id_mls\", \"agency_name\", \"agency_type\", \"property_type\", \"ownership_type\", \"land_size\", \"page_url\", \"timestamp\", \"postal_code\"], axis=1)\n",
    "\n",
    "df = df[[\"bathrooms_total\",\n",
    "    \"bedrooms_extra\",\n",
    "    \"bedrooms\",\n",
    "    \"stories_total\",\n",
    "    \"size_interior\",\n",
    "    \"building_type\",\n",
    "    \"lng\",\n",
    "    \"lat\",\n",
    "    \"ownership_type_group_ids\",\n",
    "    \"parkings\",\n",
    "    \"province\",\n",
    "    \"price\"]]\n",
    "\n",
    "df.info()"
   ]
  },
  {
   "cell_type": "code",
   "execution_count": 12,
   "metadata": {},
   "outputs": [
    {
     "data": {
      "text/plain": [
       "<matplotlib.collections.PathCollection at 0x7f54e50d15b0>"
      ]
     },
     "execution_count": 12,
     "metadata": {},
     "output_type": "execute_result"
    },
    {
     "data": {
      "image/png": "[encoded data removed]",
      "text/plain": [
       "<Figure size 1200x800 with 1 Axes>"
      ]
     },
     "metadata": {},
     "output_type": "display_data"
    }
   ],
   "source": [
    "plt.figure(figsize=(12,8))\n",
    "plt.grid()\n",
    "plt.scatter(df[\"lng\"], df[\"lat\"], alpha=0.2, s=1)"
   ]
  },
  {
   "cell_type": "code",
   "execution_count": 13,
   "metadata": {},
   "outputs": [
    {
     "name": "stdout",
     "output_type": "stream",
     "text": [
      "<class 'pandas.core.frame.DataFrame'>\n",
      "RangeIndex: 77455 entries, 0 to 77454\n",
      "Data columns (total 12 columns):\n",
      " #   Column                    Non-Null Count  Dtype  \n",
      "---  ------                    --------------  -----  \n",
      " 0   bathrooms_total           77455 non-null  float64\n",
      " 1   bedrooms_extra            77455 non-null  float64\n",
      " 2   bedrooms                  77455 non-null  float64\n",
      " 3   stories_total             77455 non-null  float64\n",
      " 4   size_interior             77455 non-null  float64\n",
      " 5   building_type             77455 non-null  object \n",
      " 6   lng                       77455 non-null  float64\n",
      " 7   lat                       77455 non-null  float64\n",
      " 8   ownership_type_group_ids  77455 non-null  int64  \n",
      " 9   parkings                  77455 non-null  float64\n",
      " 10  province                  77455 non-null  object \n",
      " 11  price                     77455 non-null  float64\n",
      "dtypes: float64(9), int64(1), object(2)\n",
      "memory usage: 7.1+ MB\n"
     ]
    }
   ],
   "source": [
    "df.info()"
   ]
  },
  {
   "cell_type": "code",
   "execution_count": 14,
   "metadata": {},
   "outputs": [
    {
     "name": "stdout",
     "output_type": "stream",
     "text": [
      "<class 'pandas.core.frame.DataFrame'>\n",
      "Index: 1 entries, 0 to 0\n",
      "Data columns (total 12 columns):\n",
      " #   Column                    Non-Null Count  Dtype  \n",
      "---  ------                    --------------  -----  \n",
      " 0   bathrooms_total           1 non-null      int64  \n",
      " 1   bedrooms_extra            1 non-null      int64  \n",
      " 2   bedrooms                  1 non-null      int64  \n",
      " 3   stories_total             1 non-null      float64\n",
      " 4   size_interior             1 non-null      float64\n",
      " 5   building_type             1 non-null      object \n",
      " 6   lng                       1 non-null      int64  \n",
      " 7   lat                       1 non-null      int64  \n",
      " 8   ownership_type_group_ids  1 non-null      int64  \n",
      " 9   parkings                  1 non-null      int64  \n",
      " 10  province                  1 non-null      object \n",
      " 11  price                     1 non-null      float64\n",
      "dtypes: float64(3), int64(7), object(2)\n",
      "memory usage: 104.0+ bytes\n"
     ]
    }
   ],
   "source": [
    "df_sample.info()"
   ]
  },
  {
   "cell_type": "code",
   "execution_count": 15,
   "metadata": {},
   "outputs": [],
   "source": [
    "df = df[[\"bathrooms_total\", \"bedrooms_extra\", \"bedrooms\", \"stories_total\", \"size_interior\", \"lng\", \"lat\", \"ownership_type_group_ids\", \"parkings\", \"price\"]].astype(np.float128)"
   ]
  },
  {
   "cell_type": "code",
   "execution_count": 16,
   "metadata": {},
   "outputs": [],
   "source": [
    "from sklearn.preprocessing import OneHotEncoder, OrdinalEncoder"
   ]
  },
  {
   "cell_type": "code",
   "execution_count": 17,
   "metadata": {},
   "outputs": [],
   "source": [
    "df = df.to_numpy()"
   ]
  },
  {
   "cell_type": "code",
   "execution_count": 18,
   "metadata": {},
   "outputs": [],
   "source": [
    "# cat_encoder = OrdinalEncoder(handle_unknown=\"use_encoded_value\", unknown_value=9999999)\n",
    "cat_encoder = OneHotEncoder()\n",
    "\n",
    "df_enc = cat_encoder.fit_transform(df)\n",
    "# df_sample_enc = cat_encoder.transform(df_sample)"
   ]
  },
  {
   "cell_type": "code",
   "execution_count": 21,
   "metadata": {},
   "outputs": [
    {
     "data": {
      "text/plain": [
       "(77455, 180953)"
      ]
     },
     "execution_count": 21,
     "metadata": {},
     "output_type": "execute_result"
    }
   ],
   "source": [
    "df_enc.shape"
   ]
  },
  {
   "cell_type": "code",
   "execution_count": 55,
   "metadata": {},
   "outputs": [
    {
     "data": {
      "text/plain": [
       "array([[3.000e+00, 0.000e+00, 4.000e+00, ..., 0.000e+00, 7.000e+00,\n",
       "        1.351e+03],\n",
       "       [2.000e+00, 0.000e+00, 2.000e+00, ..., 0.000e+00, 7.000e+00,\n",
       "        5.350e+02],\n",
       "       [3.000e+00, 0.000e+00, 4.000e+00, ..., 0.000e+00, 7.000e+00,\n",
       "        1.513e+03],\n",
       "       ...,\n",
       "       [3.000e+00, 0.000e+00, 3.000e+00, ..., 0.000e+00, 1.100e+01,\n",
       "        9.090e+02],\n",
       "       [3.000e+00, 0.000e+00, 3.000e+00, ..., 0.000e+00, 1.100e+01,\n",
       "        9.090e+02],\n",
       "       [1.000e+00, 0.000e+00, 2.000e+00, ..., 0.000e+00, 5.000e+00,\n",
       "        4.040e+02]])"
      ]
     },
     "execution_count": 55,
     "metadata": {},
     "output_type": "execute_result"
    }
   ],
   "source": [
    "df_enc"
   ]
  },
  {
   "cell_type": "code",
   "execution_count": 57,
   "metadata": {},
   "outputs": [
    {
     "data": {
      "text/plain": [
       "array([[1.000000e+00, 0.000000e+00, 4.000000e+00, 3.000000e+00,\n",
       "        9.999999e+06, 0.000000e+00, 9.999999e+06, 9.999999e+06,\n",
       "        1.000000e+00, 1.000000e+00, 9.000000e+00, 9.999999e+06]])"
      ]
     },
     "execution_count": 57,
     "metadata": {},
     "output_type": "execute_result"
    }
   ],
   "source": [
    "np.round(df_sample_enc, 2)"
   ]
  },
  {
   "cell_type": "code",
   "execution_count": 953,
   "metadata": {},
   "outputs": [
    {
     "data": {
      "text/plain": [
       "(6869, 15)"
      ]
     },
     "execution_count": 953,
     "metadata": {},
     "output_type": "execute_result"
    }
   ],
   "source": [
    "df_enc = pd.get_dummies(df[df[\"province\"] == \"Quebec\"])\n",
    "df_enc.shape"
   ]
  },
  {
   "cell_type": "code",
   "execution_count": 954,
   "metadata": {},
   "outputs": [
    {
     "data": {
      "text/html": [
       "<div>\n",
       "<style scoped>\n",
       "    .dataframe tbody tr th:only-of-type {\n",
       "        vertical-align: middle;\n",
       "    }\n",
       "\n",
       "    .dataframe tbody tr th {\n",
       "        vertical-align: top;\n",
       "    }\n",
       "\n",
       "    .dataframe thead th {\n",
       "        text-align: right;\n",
       "    }\n",
       "</style>\n",
       "<table border=\"1\" class=\"dataframe\">\n",
       "  <thead>\n",
       "    <tr style=\"text-align: right;\">\n",
       "      <th></th>\n",
       "      <th>bathrooms_total</th>\n",
       "      <th>bedrooms_extra</th>\n",
       "      <th>bedrooms</th>\n",
       "      <th>stories_total</th>\n",
       "      <th>size_interior</th>\n",
       "      <th>lng</th>\n",
       "      <th>lat</th>\n",
       "      <th>ownership_type_group_ids</th>\n",
       "      <th>parkings</th>\n",
       "      <th>price</th>\n",
       "    </tr>\n",
       "  </thead>\n",
       "  <tbody>\n",
       "    <tr>\n",
       "      <th>count</th>\n",
       "      <td>6869.0</td>\n",
       "      <td>6869.0</td>\n",
       "      <td>6869.0</td>\n",
       "      <td>6869.0</td>\n",
       "      <td>6869.0</td>\n",
       "      <td>6869.0</td>\n",
       "      <td>6869.0</td>\n",
       "      <td>6869.0</td>\n",
       "      <td>6869.0</td>\n",
       "      <td>6869.0</td>\n",
       "    </tr>\n",
       "    <tr>\n",
       "      <th>mean</th>\n",
       "      <td>2.0</td>\n",
       "      <td>0.0</td>\n",
       "      <td>3.0</td>\n",
       "      <td>1.0</td>\n",
       "      <td>1485.0</td>\n",
       "      <td>-73.0</td>\n",
       "      <td>46.0</td>\n",
       "      <td>0.0</td>\n",
       "      <td>4.0</td>\n",
       "      <td>598381.0</td>\n",
       "    </tr>\n",
       "    <tr>\n",
       "      <th>std</th>\n",
       "      <td>1.0</td>\n",
       "      <td>0.0</td>\n",
       "      <td>1.0</td>\n",
       "      <td>0.0</td>\n",
       "      <td>611.0</td>\n",
       "      <td>2.0</td>\n",
       "      <td>1.0</td>\n",
       "      <td>1.0</td>\n",
       "      <td>3.0</td>\n",
       "      <td>392940.0</td>\n",
       "    </tr>\n",
       "    <tr>\n",
       "      <th>min</th>\n",
       "      <td>0.0</td>\n",
       "      <td>0.0</td>\n",
       "      <td>0.0</td>\n",
       "      <td>1.0</td>\n",
       "      <td>370.0</td>\n",
       "      <td>-79.0</td>\n",
       "      <td>45.0</td>\n",
       "      <td>0.0</td>\n",
       "      <td>0.0</td>\n",
       "      <td>119000.0</td>\n",
       "    </tr>\n",
       "    <tr>\n",
       "      <th>25%</th>\n",
       "      <td>1.0</td>\n",
       "      <td>0.0</td>\n",
       "      <td>2.0</td>\n",
       "      <td>1.0</td>\n",
       "      <td>1059.0</td>\n",
       "      <td>-75.0</td>\n",
       "      <td>45.0</td>\n",
       "      <td>0.0</td>\n",
       "      <td>2.0</td>\n",
       "      <td>365000.0</td>\n",
       "    </tr>\n",
       "    <tr>\n",
       "      <th>50%</th>\n",
       "      <td>2.0</td>\n",
       "      <td>0.0</td>\n",
       "      <td>3.0</td>\n",
       "      <td>1.0</td>\n",
       "      <td>1348.0</td>\n",
       "      <td>-74.0</td>\n",
       "      <td>46.0</td>\n",
       "      <td>0.0</td>\n",
       "      <td>3.0</td>\n",
       "      <td>495000.0</td>\n",
       "    </tr>\n",
       "    <tr>\n",
       "      <th>75%</th>\n",
       "      <td>2.0</td>\n",
       "      <td>0.0</td>\n",
       "      <td>4.0</td>\n",
       "      <td>2.0</td>\n",
       "      <td>1794.0</td>\n",
       "      <td>-72.0</td>\n",
       "      <td>47.0</td>\n",
       "      <td>0.0</td>\n",
       "      <td>5.0</td>\n",
       "      <td>699000.0</td>\n",
       "    </tr>\n",
       "    <tr>\n",
       "      <th>max</th>\n",
       "      <td>3.0</td>\n",
       "      <td>0.0</td>\n",
       "      <td>5.0</td>\n",
       "      <td>3.0</td>\n",
       "      <td>4570.0</td>\n",
       "      <td>-61.0</td>\n",
       "      <td>50.0</td>\n",
       "      <td>2.0</td>\n",
       "      <td>12.0</td>\n",
       "      <td>5999000.0</td>\n",
       "    </tr>\n",
       "  </tbody>\n",
       "</table>\n",
       "</div>"
      ],
      "text/plain": [
       "       bathrooms_total  bedrooms_extra  bedrooms  stories_total  \\\n",
       "count           6869.0          6869.0    6869.0         6869.0   \n",
       "mean               2.0             0.0       3.0            1.0   \n",
       "std                1.0             0.0       1.0            0.0   \n",
       "min                0.0             0.0       0.0            1.0   \n",
       "25%                1.0             0.0       2.0            1.0   \n",
       "50%                2.0             0.0       3.0            1.0   \n",
       "75%                2.0             0.0       4.0            2.0   \n",
       "max                3.0             0.0       5.0            3.0   \n",
       "\n",
       "       size_interior     lng     lat  ownership_type_group_ids  parkings  \\\n",
       "count         6869.0  6869.0  6869.0                    6869.0    6869.0   \n",
       "mean          1485.0   -73.0    46.0                       0.0       4.0   \n",
       "std            611.0     2.0     1.0                       1.0       3.0   \n",
       "min            370.0   -79.0    45.0                       0.0       0.0   \n",
       "25%           1059.0   -75.0    45.0                       0.0       2.0   \n",
       "50%           1348.0   -74.0    46.0                       0.0       3.0   \n",
       "75%           1794.0   -72.0    47.0                       0.0       5.0   \n",
       "max           4570.0   -61.0    50.0                       2.0      12.0   \n",
       "\n",
       "           price  \n",
       "count     6869.0  \n",
       "mean    598381.0  \n",
       "std     392940.0  \n",
       "min     119000.0  \n",
       "25%     365000.0  \n",
       "50%     495000.0  \n",
       "75%     699000.0  \n",
       "max    5999000.0  "
      ]
     },
     "execution_count": 954,
     "metadata": {},
     "output_type": "execute_result"
    }
   ],
   "source": [
    "np.round(df_enc.describe())"
   ]
  },
  {
   "cell_type": "code",
   "execution_count": null,
   "metadata": {},
   "outputs": [],
   "source": []
  },
  {
   "cell_type": "code",
   "execution_count": 955,
   "metadata": {},
   "outputs": [
    {
     "name": "stdout",
     "output_type": "stream",
     "text": [
      "<class 'pandas.core.frame.DataFrame'>\n",
      "Index: 6869 entries, 19435 to 75728\n",
      "Data columns (total 15 columns):\n",
      " #   Column                         Non-Null Count  Dtype  \n",
      "---  ------                         --------------  -----  \n",
      " 0   bathrooms_total                6869 non-null   float64\n",
      " 1   bedrooms_extra                 6869 non-null   float64\n",
      " 2   bedrooms                       6869 non-null   float64\n",
      " 3   stories_total                  6869 non-null   float64\n",
      " 4   size_interior                  6869 non-null   float64\n",
      " 5   lng                            6869 non-null   float64\n",
      " 6   lat                            6869 non-null   float64\n",
      " 7   ownership_type_group_ids       6869 non-null   int64  \n",
      " 8   parkings                       6869 non-null   float64\n",
      " 9   price                          6869 non-null   float64\n",
      " 10  building_type_Apartment        6869 non-null   bool   \n",
      " 11  building_type_House            6869 non-null   bool   \n",
      " 12  building_type_Row / Townhouse  6869 non-null   bool   \n",
      " 13  building_type_Semi-Detached    6869 non-null   bool   \n",
      " 14  province_Quebec                6869 non-null   bool   \n",
      "dtypes: bool(5), float64(9), int64(1)\n",
      "memory usage: 623.8 KB\n"
     ]
    }
   ],
   "source": [
    "df_enc.info()"
   ]
  },
  {
   "cell_type": "code",
   "execution_count": 956,
   "metadata": {},
   "outputs": [],
   "source": [
    "# dropna?\n",
    "# df_enc = df_enc.dropna()"
   ]
  },
  {
   "cell_type": "code",
   "execution_count": 957,
   "metadata": {},
   "outputs": [],
   "source": [
    "from sklearn. preprocessing import StandardScaler\n",
    "\n",
    "scaler_X = StandardScaler()\n",
    "scaler_y = StandardScaler()\n",
    "X_scaled = scaler_X.fit_transform(df_enc.drop(\"price\", axis=1))\n",
    "y_scaled = scaler_y.fit_transform(np.array(df_enc[\"price\"]).reshape(-1,1))"
   ]
  },
  {
   "cell_type": "code",
   "execution_count": 958,
   "metadata": {},
   "outputs": [
    {
     "data": {
      "text/plain": [
       "price                            1.000000\n",
       "size_interior                    0.591224\n",
       "bathrooms_total                  0.436610\n",
       "bedrooms                         0.281544\n",
       "stories_total                    0.256268\n",
       "parkings                         0.162996\n",
       "building_type_House              0.046152\n",
       "building_type_Row / Townhouse    0.028007\n",
       "building_type_Semi-Detached      0.021277\n",
       "ownership_type_group_ids        -0.054064\n",
       "lng                             -0.069317\n",
       "building_type_Apartment         -0.104187\n",
       "lat                             -0.224927\n",
       "bedrooms_extra                        NaN\n",
       "province_Quebec                       NaN\n",
       "Name: price, dtype: float64"
      ]
     },
     "execution_count": 958,
     "metadata": {},
     "output_type": "execute_result"
    }
   ],
   "source": [
    "df_enc.corr(numeric_only=True)[\"price\"].sort_values(ascending=False).head(20)"
   ]
  },
  {
   "cell_type": "code",
   "execution_count": 959,
   "metadata": {},
   "outputs": [],
   "source": [
    "from sklearn.model_selection import cross_val_score, KFold\n"
   ]
  },
  {
   "cell_type": "code",
   "execution_count": 960,
   "metadata": {},
   "outputs": [],
   "source": [
    "kf = KFold(n_splits=5)"
   ]
  },
  {
   "cell_type": "code",
   "execution_count": 961,
   "metadata": {},
   "outputs": [],
   "source": [
    "from sklearn.ensemble import RandomForestRegressor\n",
    "\n",
    "\n",
    "rf = RandomForestRegressor(max_depth=5)"
   ]
  },
  {
   "cell_type": "code",
   "execution_count": 962,
   "metadata": {},
   "outputs": [
    {
     "name": "stderr",
     "output_type": "stream",
     "text": [
      "/home/soheil/codes/House-Pred-CA/House-Pred-CA/.venv/lib64/python3.12/site-packages/sklearn/base.py:1474: DataConversionWarning: A column-vector y was passed when a 1d array was expected. Please change the shape of y to (n_samples,), for example using ravel().\n",
      "  return fit_method(estimator, *args, **kwargs)\n",
      "/home/soheil/codes/House-Pred-CA/House-Pred-CA/.venv/lib64/python3.12/site-packages/sklearn/base.py:1474: DataConversionWarning: A column-vector y was passed when a 1d array was expected. Please change the shape of y to (n_samples,), for example using ravel().\n",
      "  return fit_method(estimator, *args, **kwargs)\n"
     ]
    },
    {
     "name": "stderr",
     "output_type": "stream",
     "text": [
      "/home/soheil/codes/House-Pred-CA/House-Pred-CA/.venv/lib64/python3.12/site-packages/sklearn/base.py:1474: DataConversionWarning: A column-vector y was passed when a 1d array was expected. Please change the shape of y to (n_samples,), for example using ravel().\n",
      "  return fit_method(estimator, *args, **kwargs)\n",
      "/home/soheil/codes/House-Pred-CA/House-Pred-CA/.venv/lib64/python3.12/site-packages/sklearn/base.py:1474: DataConversionWarning: A column-vector y was passed when a 1d array was expected. Please change the shape of y to (n_samples,), for example using ravel().\n",
      "  return fit_method(estimator, *args, **kwargs)\n",
      "/home/soheil/codes/House-Pred-CA/House-Pred-CA/.venv/lib64/python3.12/site-packages/sklearn/base.py:1474: DataConversionWarning: A column-vector y was passed when a 1d array was expected. Please change the shape of y to (n_samples,), for example using ravel().\n",
      "  return fit_method(estimator, *args, **kwargs)\n"
     ]
    },
    {
     "data": {
      "text/plain": [
       "array([0.29774515, 0.3858077 , 0.35459915, 0.36636996, 0.43691349])"
      ]
     },
     "execution_count": 962,
     "metadata": {},
     "output_type": "execute_result"
    }
   ],
   "source": [
    "cross_val_score(rf, X_scaled, y_scaled, cv=kf, scoring=\"r2\")"
   ]
  },
  {
   "cell_type": "code",
   "execution_count": 963,
   "metadata": {},
   "outputs": [],
   "source": [
    "from xgboost import XGBRegressor"
   ]
  },
  {
   "cell_type": "code",
   "execution_count": 964,
   "metadata": {},
   "outputs": [],
   "source": [
    "xgb = XGBRegressor()"
   ]
  },
  {
   "cell_type": "code",
   "execution_count": 965,
   "metadata": {},
   "outputs": [
    {
     "data": {
      "text/plain": [
       "array([ 0.36613282,  0.63937856,  0.32748909, -0.21180434,  0.50011336])"
      ]
     },
     "execution_count": 965,
     "metadata": {},
     "output_type": "execute_result"
    }
   ],
   "source": [
    "cross_val_score(xgb, X_scaled, y_scaled, cv=kf, scoring=\"r2\")"
   ]
  },
  {
   "cell_type": "code",
   "execution_count": 966,
   "metadata": {},
   "outputs": [],
   "source": [
    "xgb.fit(X_scaled, y_scaled)\n",
    "y_pred = xgb.predict(X_scaled)"
   ]
  },
  {
   "cell_type": "code",
   "execution_count": 967,
   "metadata": {},
   "outputs": [
    {
     "data": {
      "text/plain": [
       "<matplotlib.collections.PathCollection at 0x7f6cf07809e0>"
      ]
     },
     "execution_count": 967,
     "metadata": {},
     "output_type": "execute_result"
    },
    {
     "data": {
      "image/png": "[encoded data removed]",
      "text/plain": [
       "<Figure size 1200x800 with 1 Axes>"
      ]
     },
     "metadata": {},
     "output_type": "display_data"
    }
   ],
   "source": [
    "plt.figure(figsize=(12,8))\n",
    "plt.scatter(np.log(df_enc[\"size_interior\"]), y_scaled, c=\"blue\")\n",
    "plt.scatter(np.log(df_enc[\"size_interior\"]), y_pred, c=\"red\")"
   ]
  },
  {
   "cell_type": "code",
   "execution_count": 968,
   "metadata": {},
   "outputs": [
    {
     "data": {
      "text/plain": [
       "<matplotlib.collections.PathCollection at 0x7f6cf0402450>"
      ]
     },
     "execution_count": 968,
     "metadata": {},
     "output_type": "execute_result"
    },
    {
     "data": {
      "image/png": "[encoded data removed]",
      "text/plain": [
       "<Figure size 1200x800 with 1 Axes>"
      ]
     },
     "metadata": {},
     "output_type": "display_data"
    }
   ],
   "source": [
    "plt.figure(figsize=(12,8))\n",
    "plt.scatter(df_enc[\"size_interior\"], y_scaled, c=\"blue\")\n",
    "plt.scatter(df_enc[\"size_interior\"], y_pred, c=\"red\")"
   ]
  },
  {
   "cell_type": "code",
   "execution_count": 969,
   "metadata": {},
   "outputs": [],
   "source": [
    "from sklearn.model_selection import train_test_split\n",
    "\n",
    "X_train, X_test, y_train, y_test = train_test_split(X_scaled, y_scaled, test_size=0.2, random_state=42)"
   ]
  },
  {
   "cell_type": "code",
   "execution_count": 970,
   "metadata": {},
   "outputs": [],
   "source": [
    "xgb.fit(X_train, y_train)\n",
    "y_pred = xgb.predict(X_test)"
   ]
  },
  {
   "cell_type": "code",
   "execution_count": 971,
   "metadata": {},
   "outputs": [
    {
     "data": {
      "text/plain": [
       "0.5140661664849426"
      ]
     },
     "execution_count": 971,
     "metadata": {},
     "output_type": "execute_result"
    }
   ],
   "source": [
    "from sklearn.metrics import r2_score\n",
    "r2_score(y_test, y_pred)"
   ]
  },
  {
   "cell_type": "code",
   "execution_count": 972,
   "metadata": {},
   "outputs": [
    {
     "data": {
      "text/plain": [
       "(5495, 14)"
      ]
     },
     "execution_count": 972,
     "metadata": {},
     "output_type": "execute_result"
    }
   ],
   "source": [
    "X_train.shape"
   ]
  },
  {
   "cell_type": "code",
   "execution_count": 973,
   "metadata": {},
   "outputs": [
    {
     "data": {
      "text/plain": [
       "(1374, 1)"
      ]
     },
     "execution_count": 973,
     "metadata": {},
     "output_type": "execute_result"
    }
   ],
   "source": [
    "y_test.shape"
   ]
  },
  {
   "cell_type": "code",
   "execution_count": 974,
   "metadata": {},
   "outputs": [
    {
     "data": {
      "text/plain": [
       "(1374,)"
      ]
     },
     "execution_count": 974,
     "metadata": {},
     "output_type": "execute_result"
    }
   ],
   "source": [
    "y_pred.shape"
   ]
  },
  {
   "cell_type": "code",
   "execution_count": 975,
   "metadata": {},
   "outputs": [
    {
     "ename": "KeyError",
     "evalue": "'household_income'",
     "output_type": "error",
     "traceback": [
      "\u001b[0;31m---------------------------------------------------------------------------\u001b[0m",
      "\u001b[0;31mKeyError\u001b[0m                                  Traceback (most recent call last)",
      "File \u001b[0;32m~/codes/House-Pred-CA/House-Pred-CA/.venv/lib64/python3.12/site-packages/pandas/core/indexes/base.py:3805\u001b[0m, in \u001b[0;36mIndex.get_loc\u001b[0;34m(self, key)\u001b[0m\n\u001b[1;32m   3804\u001b[0m \u001b[38;5;28;01mtry\u001b[39;00m:\n\u001b[0;32m-> 3805\u001b[0m     \u001b[38;5;28;01mreturn\u001b[39;00m \u001b[38;5;28;43mself\u001b[39;49m\u001b[38;5;241;43m.\u001b[39;49m\u001b[43m_engine\u001b[49m\u001b[38;5;241;43m.\u001b[39;49m\u001b[43mget_loc\u001b[49m\u001b[43m(\u001b[49m\u001b[43mcasted_key\u001b[49m\u001b[43m)\u001b[49m\n\u001b[1;32m   3806\u001b[0m \u001b[38;5;28;01mexcept\u001b[39;00m \u001b[38;5;167;01mKeyError\u001b[39;00m \u001b[38;5;28;01mas\u001b[39;00m err:\n",
      "File \u001b[0;32mindex.pyx:167\u001b[0m, in \u001b[0;36mpandas._libs.index.IndexEngine.get_loc\u001b[0;34m()\u001b[0m\n",
      "File \u001b[0;32mindex.pyx:196\u001b[0m, in \u001b[0;36mpandas._libs.index.IndexEngine.get_loc\u001b[0;34m()\u001b[0m\n",
      "File \u001b[0;32mpandas/_libs/hashtable_class_helper.pxi:7081\u001b[0m, in \u001b[0;36mpandas._libs.hashtable.PyObjectHashTable.get_item\u001b[0;34m()\u001b[0m\n",
      "File \u001b[0;32mpandas/_libs/hashtable_class_helper.pxi:7089\u001b[0m, in \u001b[0;36mpandas._libs.hashtable.PyObjectHashTable.get_item\u001b[0;34m()\u001b[0m\n",
      "\u001b[0;31mKeyError\u001b[0m: 'household_income'",
      "\nThe above exception was the direct cause of the following exception:\n",
      "\u001b[0;31mKeyError\u001b[0m                                  Traceback (most recent call last)",
      "Cell \u001b[0;32mIn[975], line 1\u001b[0m\n\u001b[0;32m----> 1\u001b[0m df_enc[\u001b[38;5;241m~\u001b[39m((\u001b[43mdf_enc\u001b[49m\u001b[43m[\u001b[49m\u001b[38;5;124;43m\"\u001b[39;49m\u001b[38;5;124;43mhousehold_income\u001b[39;49m\u001b[38;5;124;43m\"\u001b[39;49m\u001b[43m]\u001b[49m\u001b[38;5;241m.\u001b[39misna()) \u001b[38;5;241m|\u001b[39m (df_enc[\u001b[38;5;124m\"\u001b[39m\u001b[38;5;124mloc_parks\u001b[39m\u001b[38;5;124m\"\u001b[39m]\u001b[38;5;241m.\u001b[39misna()))]\u001b[38;5;241m.\u001b[39mshape\n",
      "File \u001b[0;32m~/codes/House-Pred-CA/House-Pred-CA/.venv/lib64/python3.12/site-packages/pandas/core/frame.py:4090\u001b[0m, in \u001b[0;36mDataFrame.__getitem__\u001b[0;34m(self, key)\u001b[0m\n\u001b[1;32m   4088\u001b[0m \u001b[38;5;28;01mif\u001b[39;00m \u001b[38;5;28mself\u001b[39m\u001b[38;5;241m.\u001b[39mcolumns\u001b[38;5;241m.\u001b[39mnlevels \u001b[38;5;241m>\u001b[39m \u001b[38;5;241m1\u001b[39m:\n\u001b[1;32m   4089\u001b[0m     \u001b[38;5;28;01mreturn\u001b[39;00m \u001b[38;5;28mself\u001b[39m\u001b[38;5;241m.\u001b[39m_getitem_multilevel(key)\n\u001b[0;32m-> 4090\u001b[0m indexer \u001b[38;5;241m=\u001b[39m \u001b[38;5;28;43mself\u001b[39;49m\u001b[38;5;241;43m.\u001b[39;49m\u001b[43mcolumns\u001b[49m\u001b[38;5;241;43m.\u001b[39;49m\u001b[43mget_loc\u001b[49m\u001b[43m(\u001b[49m\u001b[43mkey\u001b[49m\u001b[43m)\u001b[49m\n\u001b[1;32m   4091\u001b[0m \u001b[38;5;28;01mif\u001b[39;00m is_integer(indexer):\n\u001b[1;32m   4092\u001b[0m     indexer \u001b[38;5;241m=\u001b[39m [indexer]\n",
      "File \u001b[0;32m~/codes/House-Pred-CA/House-Pred-CA/.venv/lib64/python3.12/site-packages/pandas/core/indexes/base.py:3812\u001b[0m, in \u001b[0;36mIndex.get_loc\u001b[0;34m(self, key)\u001b[0m\n\u001b[1;32m   3807\u001b[0m     \u001b[38;5;28;01mif\u001b[39;00m \u001b[38;5;28misinstance\u001b[39m(casted_key, \u001b[38;5;28mslice\u001b[39m) \u001b[38;5;129;01mor\u001b[39;00m (\n\u001b[1;32m   3808\u001b[0m         \u001b[38;5;28misinstance\u001b[39m(casted_key, abc\u001b[38;5;241m.\u001b[39mIterable)\n\u001b[1;32m   3809\u001b[0m         \u001b[38;5;129;01mand\u001b[39;00m \u001b[38;5;28many\u001b[39m(\u001b[38;5;28misinstance\u001b[39m(x, \u001b[38;5;28mslice\u001b[39m) \u001b[38;5;28;01mfor\u001b[39;00m x \u001b[38;5;129;01min\u001b[39;00m casted_key)\n\u001b[1;32m   3810\u001b[0m     ):\n\u001b[1;32m   3811\u001b[0m         \u001b[38;5;28;01mraise\u001b[39;00m InvalidIndexError(key)\n\u001b[0;32m-> 3812\u001b[0m     \u001b[38;5;28;01mraise\u001b[39;00m \u001b[38;5;167;01mKeyError\u001b[39;00m(key) \u001b[38;5;28;01mfrom\u001b[39;00m \u001b[38;5;21;01merr\u001b[39;00m\n\u001b[1;32m   3813\u001b[0m \u001b[38;5;28;01mexcept\u001b[39;00m \u001b[38;5;167;01mTypeError\u001b[39;00m:\n\u001b[1;32m   3814\u001b[0m     \u001b[38;5;66;03m# If we have a listlike key, _check_indexing_error will raise\u001b[39;00m\n\u001b[1;32m   3815\u001b[0m     \u001b[38;5;66;03m#  InvalidIndexError. Otherwise we fall through and re-raise\u001b[39;00m\n\u001b[1;32m   3816\u001b[0m     \u001b[38;5;66;03m#  the TypeError.\u001b[39;00m\n\u001b[1;32m   3817\u001b[0m     \u001b[38;5;28mself\u001b[39m\u001b[38;5;241m.\u001b[39m_check_indexing_error(key)\n",
      "\u001b[0;31mKeyError\u001b[0m: 'household_income'"
     ]
    }
   ],
   "source": [
    "df_enc[~((df_enc[\"household_income\"].isna()) | (df_enc[\"loc_parks\"].isna()))].shape"
   ]
  },
  {
   "cell_type": "code",
   "execution_count": null,
   "metadata": {},
   "outputs": [
    {
     "data": {
      "text/plain": [
       "(17975, 72)"
      ]
     },
     "execution_count": 63,
     "metadata": {},
     "output_type": "execute_result"
    }
   ],
   "source": [
    "df_enc[(df_enc[\"household_income\"].notna()) & df_enc[\"loc_parks\"].notna()].shape"
   ]
  },
  {
   "cell_type": "code",
   "execution_count": null,
   "metadata": {},
   "outputs": [
    {
     "data": {
      "text/plain": [
       "(17975, 72)"
      ]
     },
     "execution_count": 64,
     "metadata": {},
     "output_type": "execute_result"
    }
   ],
   "source": [
    "df_enc.dropna().shape"
   ]
  },
  {
   "cell_type": "code",
   "execution_count": null,
   "metadata": {},
   "outputs": [],
   "source": [
    "# We therefore conclude that XGBoost and RandomForest Ignore the samples with NA"
   ]
  }
 ],
 "metadata": {
  "kernelspec": {
   "display_name": ".venv",
   "language": "python",
   "name": "python3"
  },
  "language_info": {
   "codemirror_mode": {
    "name": "ipython",
    "version": 3
   },
   "file_extension": ".py",
   "mimetype": "text/x-python",
   "name": "python",
   "nbconvert_exporter": "python",
   "pygments_lexer": "ipython3",
   "version": "3.12.2"
  }
 },
 "nbformat": 4,
 "nbformat_minor": 2
}
