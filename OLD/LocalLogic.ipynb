{
 "cells": [
  {
   "cell_type": "code",
   "execution_count": 1,
   "metadata": {},
   "outputs": [],
   "source": [
    "import pandas as pd\n",
    "import numpy as np\n",
    "import matplotlib.pyplot as plt\n",
    "import seaborn as sns"
   ]
  },
  {
   "cell_type": "code",
   "execution_count": 2,
   "metadata": {},
   "outputs": [],
   "source": [
    "df = pd.read_csv(\"data/aug/data_aug_2024-03-25.csv\")\n",
    "df_dem = pd.read_csv(\"data/LocalLogic/Demographics/demographics_for_2024-03-25.csv\")\n",
    "df_loc = pd.read_csv(\"data/LocalLogic/Locations/locations_for_2024-03-25.csv\")"
   ]
  },
  {
   "cell_type": "code",
   "execution_count": 3,
   "metadata": {},
   "outputs": [
    {
     "name": "stdout",
     "output_type": "stream",
     "text": [
      "<class 'pandas.core.frame.DataFrame'>\n",
      "RangeIndex: 90765 entries, 0 to 90764\n",
      "Data columns (total 22 columns):\n",
      " #   Column                    Non-Null Count  Dtype  \n",
      "---  ------                    --------------  -----  \n",
      " 0   id                        90765 non-null  int64  \n",
      " 1   id_mls                    90765 non-null  object \n",
      " 2   bathrooms_total           90765 non-null  float64\n",
      " 3   bedrooms_extra            90765 non-null  float64\n",
      " 4   bedrooms                  90765 non-null  float64\n",
      " 5   stories_total             90765 non-null  float64\n",
      " 6   size_interior             90765 non-null  float64\n",
      " 7   building_type             90765 non-null  object \n",
      " 8   agency_name               90765 non-null  object \n",
      " 9   agency_type               90765 non-null  object \n",
      " 10  property_type             90765 non-null  object \n",
      " 11  lng                       90765 non-null  float64\n",
      " 12  lat                       90765 non-null  float64\n",
      " 13  ownership_type            90765 non-null  object \n",
      " 14  ownership_type_group_ids  90765 non-null  int64  \n",
      " 15  land_size                 79004 non-null  object \n",
      " 16  parkings                  90765 non-null  float64\n",
      " 17  page_url                  90765 non-null  object \n",
      " 18  timestamp                 90765 non-null  float64\n",
      " 19  postal_code               90429 non-null  object \n",
      " 20  province                  90765 non-null  object \n",
      " 21  price                     90765 non-null  float64\n",
      "dtypes: float64(10), int64(2), object(10)\n",
      "memory usage: 15.2+ MB\n"
     ]
    }
   ],
   "source": [
    "df.info()"
   ]
  },
  {
   "cell_type": "code",
   "execution_count": 4,
   "metadata": {},
   "outputs": [
    {
     "name": "stdout",
     "output_type": "stream",
     "text": [
      "<class 'pandas.core.frame.DataFrame'>\n",
      "RangeIndex: 90728 entries, 0 to 90727\n",
      "Data columns (total 41 columns):\n",
      " #   Column                      Non-Null Count  Dtype  \n",
      "---  ------                      --------------  -----  \n",
      " 0   id                          90728 non-null  float64\n",
      " 1   household_income            89895 non-null  float64\n",
      " 2   individual_income           89895 non-null  float64\n",
      " 3   commute_transit             89895 non-null  float64\n",
      " 4   commute_foot                89895 non-null  float64\n",
      " 5   commute_bicycle             89895 non-null  float64\n",
      " 6   commute_drive               89895 non-null  float64\n",
      " 7   single_family               89895 non-null  float64\n",
      " 8   multi_family                89895 non-null  float64\n",
      " 9   single_person               89895 non-null  float64\n",
      " 10  multi_person                89895 non-null  float64\n",
      " 11  total_individuals           89895 non-null  float64\n",
      " 12  age_0_to_4                  89895 non-null  float64\n",
      " 13  age_5_to_9                  89895 non-null  float64\n",
      " 14  age_10_to_14                89895 non-null  float64\n",
      " 15  age_15_to_19                89895 non-null  float64\n",
      " 16  age_20_to_34                89895 non-null  float64\n",
      " 17  age_35_to_49                89895 non-null  float64\n",
      " 18  age_50_to_64                89895 non-null  float64\n",
      " 19  age_65_to_79                89895 non-null  float64\n",
      " 20  age_80_plus                 89895 non-null  float64\n",
      " 21  owners                      89895 non-null  float64\n",
      " 22  renters                     89895 non-null  float64\n",
      " 23  lang_en_only                89895 non-null  float64\n",
      " 24  lang_fr_only                89895 non-null  float64\n",
      " 25  lang_en_and_fr              89895 non-null  float64\n",
      " 26  lang_other                  89895 non-null  float64\n",
      " 27  edu_no_high_school          89895 non-null  float64\n",
      " 28  edu_high_school             89895 non-null  float64\n",
      " 29  edu_trade_certificate       89895 non-null  float64\n",
      " 30  edu_college_certificate     89895 non-null  float64\n",
      " 31  edu_university_certificate  89895 non-null  float64\n",
      " 32  edu_bachelor_degree         89895 non-null  float64\n",
      " 33  edu_post_graduate_degree    89895 non-null  float64\n",
      " 34  household_children          89895 non-null  float64\n",
      " 35  area_single_detached        89895 non-null  float64\n",
      " 36  area_semi_detached          89895 non-null  float64\n",
      " 37  area_duplex                 89895 non-null  float64\n",
      " 38  area_row_houses             89895 non-null  float64\n",
      " 39  area_apt_1_to_4_floors      89895 non-null  float64\n",
      " 40  area_apt_5_plus_floors      89895 non-null  float64\n",
      "dtypes: float64(41)\n",
      "memory usage: 28.4 MB\n"
     ]
    }
   ],
   "source": [
    "df_dem.info()"
   ]
  },
  {
   "cell_type": "code",
   "execution_count": 5,
   "metadata": {},
   "outputs": [
    {
     "name": "stdout",
     "output_type": "stream",
     "text": [
      "<class 'pandas.core.frame.DataFrame'>\n",
      "RangeIndex: 90709 entries, 0 to 90708\n",
      "Data columns (total 18 columns):\n",
      " #   Column                   Non-Null Count  Dtype  \n",
      "---  ------                   --------------  -----  \n",
      " 0   id                       90709 non-null  float64\n",
      " 1   loc_high_schools         90693 non-null  float64\n",
      " 2   loc_primary_schools      90693 non-null  float64\n",
      " 3   loc_transit_friendly     90693 non-null  float64\n",
      " 4   loc_groceries            90693 non-null  float64\n",
      " 5   loc_wellness             90693 non-null  float64\n",
      " 6   loc_restaurants          90693 non-null  float64\n",
      " 7   loc_pedestrian_friendly  90693 non-null  float64\n",
      " 8   loc_greenery             90693 non-null  float64\n",
      " 9   loc_cycling_friendly     90693 non-null  float64\n",
      " 10  loc_car_friendly         90693 non-null  float64\n",
      " 11  loc_vibrant              90693 non-null  float64\n",
      " 12  loc_shopping             90693 non-null  float64\n",
      " 13  loc_daycares             90693 non-null  float64\n",
      " 14  loc_nightlife            90693 non-null  float64\n",
      " 15  loc_cafes                90693 non-null  float64\n",
      " 16  loc_quiet                90693 non-null  float64\n",
      " 17  loc_parks                90693 non-null  float64\n",
      "dtypes: float64(18)\n",
      "memory usage: 12.5 MB\n"
     ]
    }
   ],
   "source": [
    "df_loc.info()"
   ]
  },
  {
   "cell_type": "code",
   "execution_count": 6,
   "metadata": {},
   "outputs": [],
   "source": [
    "df_dem[\"id\"] = df_dem[\"id\"].astype(int)\n",
    "df_loc[\"id\"] = df_loc[\"id\"].astype(int)"
   ]
  },
  {
   "cell_type": "code",
   "execution_count": 7,
   "metadata": {},
   "outputs": [
    {
     "name": "stdout",
     "output_type": "stream",
     "text": [
      "<class 'pandas.core.frame.DataFrame'>\n",
      "RangeIndex: 90728 entries, 0 to 90727\n",
      "Data columns (total 41 columns):\n",
      " #   Column                      Non-Null Count  Dtype  \n",
      "---  ------                      --------------  -----  \n",
      " 0   id                          90728 non-null  int64  \n",
      " 1   household_income            89895 non-null  float64\n",
      " 2   individual_income           89895 non-null  float64\n",
      " 3   commute_transit             89895 non-null  float64\n",
      " 4   commute_foot                89895 non-null  float64\n",
      " 5   commute_bicycle             89895 non-null  float64\n",
      " 6   commute_drive               89895 non-null  float64\n",
      " 7   single_family               89895 non-null  float64\n",
      " 8   multi_family                89895 non-null  float64\n",
      " 9   single_person               89895 non-null  float64\n",
      " 10  multi_person                89895 non-null  float64\n",
      " 11  total_individuals           89895 non-null  float64\n",
      " 12  age_0_to_4                  89895 non-null  float64\n",
      " 13  age_5_to_9                  89895 non-null  float64\n",
      " 14  age_10_to_14                89895 non-null  float64\n",
      " 15  age_15_to_19                89895 non-null  float64\n",
      " 16  age_20_to_34                89895 non-null  float64\n",
      " 17  age_35_to_49                89895 non-null  float64\n",
      " 18  age_50_to_64                89895 non-null  float64\n",
      " 19  age_65_to_79                89895 non-null  float64\n",
      " 20  age_80_plus                 89895 non-null  float64\n",
      " 21  owners                      89895 non-null  float64\n",
      " 22  renters                     89895 non-null  float64\n",
      " 23  lang_en_only                89895 non-null  float64\n",
      " 24  lang_fr_only                89895 non-null  float64\n",
      " 25  lang_en_and_fr              89895 non-null  float64\n",
      " 26  lang_other                  89895 non-null  float64\n",
      " 27  edu_no_high_school          89895 non-null  float64\n",
      " 28  edu_high_school             89895 non-null  float64\n",
      " 29  edu_trade_certificate       89895 non-null  float64\n",
      " 30  edu_college_certificate     89895 non-null  float64\n",
      " 31  edu_university_certificate  89895 non-null  float64\n",
      " 32  edu_bachelor_degree         89895 non-null  float64\n",
      " 33  edu_post_graduate_degree    89895 non-null  float64\n",
      " 34  household_children          89895 non-null  float64\n",
      " 35  area_single_detached        89895 non-null  float64\n",
      " 36  area_semi_detached          89895 non-null  float64\n",
      " 37  area_duplex                 89895 non-null  float64\n",
      " 38  area_row_houses             89895 non-null  float64\n",
      " 39  area_apt_1_to_4_floors      89895 non-null  float64\n",
      " 40  area_apt_5_plus_floors      89895 non-null  float64\n",
      "dtypes: float64(40), int64(1)\n",
      "memory usage: 28.4 MB\n"
     ]
    }
   ],
   "source": [
    "df_dem.info()"
   ]
  },
  {
   "cell_type": "code",
   "execution_count": 8,
   "metadata": {},
   "outputs": [],
   "source": [
    "df_mrg = pd.merge(df, df_dem, on=\"id\")\n",
    "df_mrg = pd.merge(df_mrg, df_loc, on=\"id\")"
   ]
  },
  {
   "cell_type": "code",
   "execution_count": 9,
   "metadata": {},
   "outputs": [
    {
     "name": "stdout",
     "output_type": "stream",
     "text": [
      "<class 'pandas.core.frame.DataFrame'>\n",
      "RangeIndex: 90686 entries, 0 to 90685\n",
      "Data columns (total 79 columns):\n",
      " #   Column                      Non-Null Count  Dtype  \n",
      "---  ------                      --------------  -----  \n",
      " 0   id                          90686 non-null  int64  \n",
      " 1   id_mls                      90686 non-null  object \n",
      " 2   bathrooms_total             90686 non-null  float64\n",
      " 3   bedrooms_extra              90686 non-null  float64\n",
      " 4   bedrooms                    90686 non-null  float64\n",
      " 5   stories_total               90686 non-null  float64\n",
      " 6   size_interior               90686 non-null  float64\n",
      " 7   building_type               90686 non-null  object \n",
      " 8   agency_name                 90686 non-null  object \n",
      " 9   agency_type                 90686 non-null  object \n",
      " 10  property_type               90686 non-null  object \n",
      " 11  lng                         90686 non-null  float64\n",
      " 12  lat                         90686 non-null  float64\n",
      " 13  ownership_type              90686 non-null  object \n",
      " 14  ownership_type_group_ids    90686 non-null  int64  \n",
      " 15  land_size                   78934 non-null  object \n",
      " 16  parkings                    90686 non-null  float64\n",
      " 17  page_url                    90686 non-null  object \n",
      " 18  timestamp                   90686 non-null  float64\n",
      " 19  postal_code                 90350 non-null  object \n",
      " 20  province                    90686 non-null  object \n",
      " 21  price                       90686 non-null  float64\n",
      " 22  household_income            89874 non-null  float64\n",
      " 23  individual_income           89874 non-null  float64\n",
      " 24  commute_transit             89874 non-null  float64\n",
      " 25  commute_foot                89874 non-null  float64\n",
      " 26  commute_bicycle             89874 non-null  float64\n",
      " 27  commute_drive               89874 non-null  float64\n",
      " 28  single_family               89874 non-null  float64\n",
      " 29  multi_family                89874 non-null  float64\n",
      " 30  single_person               89874 non-null  float64\n",
      " 31  multi_person                89874 non-null  float64\n",
      " 32  total_individuals           89874 non-null  float64\n",
      " 33  age_0_to_4                  89874 non-null  float64\n",
      " 34  age_5_to_9                  89874 non-null  float64\n",
      " 35  age_10_to_14                89874 non-null  float64\n",
      " 36  age_15_to_19                89874 non-null  float64\n",
      " 37  age_20_to_34                89874 non-null  float64\n",
      " 38  age_35_to_49                89874 non-null  float64\n",
      " 39  age_50_to_64                89874 non-null  float64\n",
      " 40  age_65_to_79                89874 non-null  float64\n",
      " 41  age_80_plus                 89874 non-null  float64\n",
      " 42  owners                      89874 non-null  float64\n",
      " 43  renters                     89874 non-null  float64\n",
      " 44  lang_en_only                89874 non-null  float64\n",
      " 45  lang_fr_only                89874 non-null  float64\n",
      " 46  lang_en_and_fr              89874 non-null  float64\n",
      " 47  lang_other                  89874 non-null  float64\n",
      " 48  edu_no_high_school          89874 non-null  float64\n",
      " 49  edu_high_school             89874 non-null  float64\n",
      " 50  edu_trade_certificate       89874 non-null  float64\n",
      " 51  edu_college_certificate     89874 non-null  float64\n",
      " 52  edu_university_certificate  89874 non-null  float64\n",
      " 53  edu_bachelor_degree         89874 non-null  float64\n",
      " 54  edu_post_graduate_degree    89874 non-null  float64\n",
      " 55  household_children          89874 non-null  float64\n",
      " 56  area_single_detached        89874 non-null  float64\n",
      " 57  area_semi_detached          89874 non-null  float64\n",
      " 58  area_duplex                 89874 non-null  float64\n",
      " 59  area_row_houses             89874 non-null  float64\n",
      " 60  area_apt_1_to_4_floors      89874 non-null  float64\n",
      " 61  area_apt_5_plus_floors      89874 non-null  float64\n",
      " 62  loc_high_schools            90670 non-null  float64\n",
      " 63  loc_primary_schools         90670 non-null  float64\n",
      " 64  loc_transit_friendly        90670 non-null  float64\n",
      " 65  loc_groceries               90670 non-null  float64\n",
      " 66  loc_wellness                90670 non-null  float64\n",
      " 67  loc_restaurants             90670 non-null  float64\n",
      " 68  loc_pedestrian_friendly     90670 non-null  float64\n",
      " 69  loc_greenery                90670 non-null  float64\n",
      " 70  loc_cycling_friendly        90670 non-null  float64\n",
      " 71  loc_car_friendly            90670 non-null  float64\n",
      " 72  loc_vibrant                 90670 non-null  float64\n",
      " 73  loc_shopping                90670 non-null  float64\n",
      " 74  loc_daycares                90670 non-null  float64\n",
      " 75  loc_nightlife               90670 non-null  float64\n",
      " 76  loc_cafes                   90670 non-null  float64\n",
      " 77  loc_quiet                   90670 non-null  float64\n",
      " 78  loc_parks                   90670 non-null  float64\n",
      "dtypes: float64(67), int64(2), object(10)\n",
      "memory usage: 54.7+ MB\n"
     ]
    }
   ],
   "source": [
    "df_mrg.info()"
   ]
  },
  {
   "cell_type": "code",
   "execution_count": 10,
   "metadata": {},
   "outputs": [
    {
     "data": {
      "text/plain": [
       "province\n",
       "British Columbia           246\n",
       "Ontario                    141\n",
       "Alberta                    112\n",
       "Quebec                      93\n",
       "Saskatchewan                72\n",
       "Nova Scotia                 48\n",
       "Manitoba                    42\n",
       "Prince Edward Island        22\n",
       "New Brunswick               20\n",
       "Newfoundland & Labrador     11\n",
       "Yukon                        4\n",
       "Northwest Territories        1\n",
       "Name: count, dtype: int64"
      ]
     },
     "execution_count": 10,
     "metadata": {},
     "output_type": "execute_result"
    }
   ],
   "source": [
    "df_mrg[df_mrg[\"household_income\"].isna()][\"province\"].value_counts()"
   ]
  },
  {
   "cell_type": "code",
   "execution_count": 14,
   "metadata": {},
   "outputs": [
    {
     "data": {
      "text/plain": [
       "price                         1.000000\n",
       "bathrooms_total               0.471209\n",
       "household_income              0.411008\n",
       "individual_income             0.411008\n",
       "bedrooms                      0.315667\n",
       "edu_bachelor_degree           0.298261\n",
       "edu_post_graduate_degree      0.295216\n",
       "lang_other                    0.256022\n",
       "edu_university_certificate    0.253007\n",
       "multi_family                  0.242228\n",
       "parkings                      0.198080\n",
       "loc_parks                     0.195017\n",
       "area_duplex                   0.190957\n",
       "loc_wellness                  0.179005\n",
       "lang_en_only                  0.151852\n",
       "single_family                 0.135361\n",
       "commute_transit               0.134977\n",
       "commute_bicycle               0.129295\n",
       "loc_transit_friendly          0.128949\n",
       "age_15_to_19                  0.103098\n",
       "Name: price, dtype: float64"
      ]
     },
     "execution_count": 14,
     "metadata": {},
     "output_type": "execute_result"
    }
   ],
   "source": [
    "df_mrg.corr(numeric_only=True)[\"price\"].sort_values(ascending=False).head(20)"
   ]
  },
  {
   "cell_type": "code",
   "execution_count": null,
   "metadata": {},
   "outputs": [],
   "source": []
  }
 ],
 "metadata": {
  "kernelspec": {
   "display_name": ".venv",
   "language": "python",
   "name": "python3"
  },
  "language_info": {
   "codemirror_mode": {
    "name": "ipython",
    "version": 3
   },
   "file_extension": ".py",
   "mimetype": "text/x-python",
   "name": "python",
   "nbconvert_exporter": "python",
   "pygments_lexer": "ipython3",
   "version": "3.12.2"
  }
 },
 "nbformat": 4,
 "nbformat_minor": 2
}
